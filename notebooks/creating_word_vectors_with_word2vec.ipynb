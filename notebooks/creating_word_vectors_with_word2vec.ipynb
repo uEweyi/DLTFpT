{
 "cells": [
  {
   "cell_type": "markdown",
   "metadata": {},
   "source": [
    "# Creating Word Vectors with word2vec"
   ]
  },
  {
   "cell_type": "markdown",
   "metadata": {},
   "source": [
    "In this notebook, we create word vectors from a corpus of public-domain books, a selection from [Project Gutenberg](https://www.gutenberg.org/)."
   ]
  },
  {
   "cell_type": "markdown",
   "metadata": {},
   "source": [
    "#### Load dependencies"
   ]
  },
  {
   "cell_type": "code",
   "execution_count": 1,
   "metadata": {},
   "outputs": [],
   "source": [
    "import nltk\n",
    "from nltk import word_tokenize, sent_tokenize\n",
    "import gensim\n",
    "from gensim.models.word2vec import Word2Vec\n",
    "from sklearn.manifold import TSNE\n",
    "import pandas as pd\n",
    "from bokeh.io import output_notebook\n",
    "from bokeh.plotting import show, figure"
   ]
  },
  {
   "cell_type": "code",
   "execution_count": 2,
   "metadata": {},
   "outputs": [
    {
     "name": "stderr",
     "output_type": "stream",
     "text": [
      "[nltk_data] Downloading package punkt to /home/jovyan/nltk_data...\n",
      "[nltk_data]   Unzipping tokenizers/punkt.zip.\n"
     ]
    },
    {
     "data": {
      "text/plain": [
       "True"
      ]
     },
     "execution_count": 2,
     "metadata": {},
     "output_type": "execute_result"
    }
   ],
   "source": [
    "nltk.download('punkt') # English-language sentence tokenizer (not all periods end sentences; not all sentences start with a capital letter)"
   ]
  },
  {
   "cell_type": "markdown",
   "metadata": {},
   "source": [
    "#### Load data"
   ]
  },
  {
   "cell_type": "code",
   "execution_count": 3,
   "metadata": {},
   "outputs": [
    {
     "name": "stderr",
     "output_type": "stream",
     "text": [
      "[nltk_data] Downloading package gutenberg to /home/jovyan/nltk_data...\n",
      "[nltk_data]   Unzipping corpora/gutenberg.zip.\n"
     ]
    },
    {
     "data": {
      "text/plain": [
       "True"
      ]
     },
     "execution_count": 3,
     "metadata": {},
     "output_type": "execute_result"
    }
   ],
   "source": [
    "nltk.download('gutenberg')"
   ]
  },
  {
   "cell_type": "code",
   "execution_count": 4,
   "metadata": {
    "scrolled": true
   },
   "outputs": [],
   "source": [
    "from nltk.corpus import gutenberg"
   ]
  },
  {
   "cell_type": "code",
   "execution_count": 5,
   "metadata": {},
   "outputs": [
    {
     "data": {
      "text/plain": [
       "18"
      ]
     },
     "execution_count": 5,
     "metadata": {},
     "output_type": "execute_result"
    }
   ],
   "source": [
    "len(gutenberg.fileids())"
   ]
  },
  {
   "cell_type": "code",
   "execution_count": 6,
   "metadata": {},
   "outputs": [
    {
     "data": {
      "text/plain": [
       "['austen-emma.txt',\n",
       " 'austen-persuasion.txt',\n",
       " 'austen-sense.txt',\n",
       " 'bible-kjv.txt',\n",
       " 'blake-poems.txt',\n",
       " 'bryant-stories.txt',\n",
       " 'burgess-busterbrown.txt',\n",
       " 'carroll-alice.txt',\n",
       " 'chesterton-ball.txt',\n",
       " 'chesterton-brown.txt',\n",
       " 'chesterton-thursday.txt',\n",
       " 'edgeworth-parents.txt',\n",
       " 'melville-moby_dick.txt',\n",
       " 'milton-paradise.txt',\n",
       " 'shakespeare-caesar.txt',\n",
       " 'shakespeare-hamlet.txt',\n",
       " 'shakespeare-macbeth.txt',\n",
       " 'whitman-leaves.txt']"
      ]
     },
     "execution_count": 6,
     "metadata": {},
     "output_type": "execute_result"
    }
   ],
   "source": [
    "gutenberg.fileids()"
   ]
  },
  {
   "cell_type": "markdown",
   "metadata": {},
   "source": [
    "#### Tokenize text"
   ]
  },
  {
   "cell_type": "code",
   "execution_count": 7,
   "metadata": {},
   "outputs": [],
   "source": [
    "gberg_sent_tokens = sent_tokenize(gutenberg.raw())"
   ]
  },
  {
   "cell_type": "code",
   "execution_count": 8,
   "metadata": {},
   "outputs": [
    {
     "data": {
      "text/plain": [
       "['[Emma by Jane Austen 1816]\\n\\nVOLUME I\\n\\nCHAPTER I\\n\\n\\nEmma Woodhouse, handsome, clever, and rich, with a comfortable home\\nand happy disposition, seemed to unite some of the best blessings\\nof existence; and had lived nearly twenty-one years in the world\\nwith very little to distress or vex her.',\n",
       " \"She was the youngest of the two daughters of a most affectionate,\\nindulgent father; and had, in consequence of her sister's marriage,\\nbeen mistress of his house from a very early period.\",\n",
       " 'Her mother\\nhad died too long ago for her to have more than an indistinct\\nremembrance of her caresses; and her place had been supplied\\nby an excellent woman as governess, who had fallen little short\\nof a mother in affection.',\n",
       " \"Sixteen years had Miss Taylor been in Mr. Woodhouse's family,\\nless as a governess than a friend, very fond of both daughters,\\nbut particularly of Emma.\",\n",
       " 'Between _them_ it was more the intimacy\\nof sisters.',\n",
       " \"Even before Miss Taylor had ceased to hold the nominal\\noffice of governess, the mildness of her temper had hardly allowed\\nher to impose any restraint; and the shadow of authority being\\nnow long passed away, they had been living together as friend and\\nfriend very mutually attached, and Emma doing just what she liked;\\nhighly esteeming Miss Taylor's judgment, but directed chiefly by\\nher own.\"]"
      ]
     },
     "execution_count": 8,
     "metadata": {},
     "output_type": "execute_result"
    }
   ],
   "source": [
    "gberg_sent_tokens[0:6]"
   ]
  },
  {
   "cell_type": "code",
   "execution_count": 9,
   "metadata": {},
   "outputs": [
    {
     "data": {
      "text/plain": [
       "\"She was the youngest of the two daughters of a most affectionate,\\nindulgent father; and had, in consequence of her sister's marriage,\\nbeen mistress of his house from a very early period.\""
      ]
     },
     "execution_count": 9,
     "metadata": {},
     "output_type": "execute_result"
    }
   ],
   "source": [
    "gberg_sent_tokens[1]"
   ]
  },
  {
   "cell_type": "code",
   "execution_count": 10,
   "metadata": {},
   "outputs": [
    {
     "data": {
      "text/plain": [
       "['She',\n",
       " 'was',\n",
       " 'the',\n",
       " 'youngest',\n",
       " 'of',\n",
       " 'the',\n",
       " 'two',\n",
       " 'daughters',\n",
       " 'of',\n",
       " 'a',\n",
       " 'most',\n",
       " 'affectionate',\n",
       " ',',\n",
       " 'indulgent',\n",
       " 'father',\n",
       " ';',\n",
       " 'and',\n",
       " 'had',\n",
       " ',',\n",
       " 'in',\n",
       " 'consequence',\n",
       " 'of',\n",
       " 'her',\n",
       " 'sister',\n",
       " \"'s\",\n",
       " 'marriage',\n",
       " ',',\n",
       " 'been',\n",
       " 'mistress',\n",
       " 'of',\n",
       " 'his',\n",
       " 'house',\n",
       " 'from',\n",
       " 'a',\n",
       " 'very',\n",
       " 'early',\n",
       " 'period',\n",
       " '.']"
      ]
     },
     "execution_count": 10,
     "metadata": {},
     "output_type": "execute_result"
    }
   ],
   "source": [
    "word_tokenize(gberg_sent_tokens[1])"
   ]
  },
  {
   "cell_type": "code",
   "execution_count": 11,
   "metadata": {},
   "outputs": [
    {
     "data": {
      "text/plain": [
       "'father'"
      ]
     },
     "execution_count": 11,
     "metadata": {},
     "output_type": "execute_result"
    }
   ],
   "source": [
    "word_tokenize(gberg_sent_tokens[1])[14]"
   ]
  },
  {
   "cell_type": "code",
   "execution_count": 12,
   "metadata": {
    "scrolled": true
   },
   "outputs": [],
   "source": [
    "# a convenient method that handles newlines, as well as tokenizing sentences and words in one shot\n",
    "gberg_sents = gutenberg.sents()"
   ]
  },
  {
   "cell_type": "code",
   "execution_count": 13,
   "metadata": {},
   "outputs": [
    {
     "data": {
      "text/plain": [
       "[['[', 'Emma', 'by', 'Jane', 'Austen', '1816', ']'],\n",
       " ['VOLUME', 'I'],\n",
       " ['CHAPTER', 'I'],\n",
       " ['Emma',\n",
       "  'Woodhouse',\n",
       "  ',',\n",
       "  'handsome',\n",
       "  ',',\n",
       "  'clever',\n",
       "  ',',\n",
       "  'and',\n",
       "  'rich',\n",
       "  ',',\n",
       "  'with',\n",
       "  'a',\n",
       "  'comfortable',\n",
       "  'home',\n",
       "  'and',\n",
       "  'happy',\n",
       "  'disposition',\n",
       "  ',',\n",
       "  'seemed',\n",
       "  'to',\n",
       "  'unite',\n",
       "  'some',\n",
       "  'of',\n",
       "  'the',\n",
       "  'best',\n",
       "  'blessings',\n",
       "  'of',\n",
       "  'existence',\n",
       "  ';',\n",
       "  'and',\n",
       "  'had',\n",
       "  'lived',\n",
       "  'nearly',\n",
       "  'twenty',\n",
       "  '-',\n",
       "  'one',\n",
       "  'years',\n",
       "  'in',\n",
       "  'the',\n",
       "  'world',\n",
       "  'with',\n",
       "  'very',\n",
       "  'little',\n",
       "  'to',\n",
       "  'distress',\n",
       "  'or',\n",
       "  'vex',\n",
       "  'her',\n",
       "  '.'],\n",
       " ['She',\n",
       "  'was',\n",
       "  'the',\n",
       "  'youngest',\n",
       "  'of',\n",
       "  'the',\n",
       "  'two',\n",
       "  'daughters',\n",
       "  'of',\n",
       "  'a',\n",
       "  'most',\n",
       "  'affectionate',\n",
       "  ',',\n",
       "  'indulgent',\n",
       "  'father',\n",
       "  ';',\n",
       "  'and',\n",
       "  'had',\n",
       "  ',',\n",
       "  'in',\n",
       "  'consequence',\n",
       "  'of',\n",
       "  'her',\n",
       "  'sister',\n",
       "  \"'\",\n",
       "  's',\n",
       "  'marriage',\n",
       "  ',',\n",
       "  'been',\n",
       "  'mistress',\n",
       "  'of',\n",
       "  'his',\n",
       "  'house',\n",
       "  'from',\n",
       "  'a',\n",
       "  'very',\n",
       "  'early',\n",
       "  'period',\n",
       "  '.'],\n",
       " ['Her',\n",
       "  'mother',\n",
       "  'had',\n",
       "  'died',\n",
       "  'too',\n",
       "  'long',\n",
       "  'ago',\n",
       "  'for',\n",
       "  'her',\n",
       "  'to',\n",
       "  'have',\n",
       "  'more',\n",
       "  'than',\n",
       "  'an',\n",
       "  'indistinct',\n",
       "  'remembrance',\n",
       "  'of',\n",
       "  'her',\n",
       "  'caresses',\n",
       "  ';',\n",
       "  'and',\n",
       "  'her',\n",
       "  'place',\n",
       "  'had',\n",
       "  'been',\n",
       "  'supplied',\n",
       "  'by',\n",
       "  'an',\n",
       "  'excellent',\n",
       "  'woman',\n",
       "  'as',\n",
       "  'governess',\n",
       "  ',',\n",
       "  'who',\n",
       "  'had',\n",
       "  'fallen',\n",
       "  'little',\n",
       "  'short',\n",
       "  'of',\n",
       "  'a',\n",
       "  'mother',\n",
       "  'in',\n",
       "  'affection',\n",
       "  '.']]"
      ]
     },
     "execution_count": 13,
     "metadata": {},
     "output_type": "execute_result"
    }
   ],
   "source": [
    "gberg_sents[0:6]"
   ]
  },
  {
   "cell_type": "code",
   "execution_count": 14,
   "metadata": {},
   "outputs": [
    {
     "data": {
      "text/plain": [
       "['She',\n",
       " 'was',\n",
       " 'the',\n",
       " 'youngest',\n",
       " 'of',\n",
       " 'the',\n",
       " 'two',\n",
       " 'daughters',\n",
       " 'of',\n",
       " 'a',\n",
       " 'most',\n",
       " 'affectionate',\n",
       " ',',\n",
       " 'indulgent',\n",
       " 'father',\n",
       " ';',\n",
       " 'and',\n",
       " 'had',\n",
       " ',',\n",
       " 'in',\n",
       " 'consequence',\n",
       " 'of',\n",
       " 'her',\n",
       " 'sister',\n",
       " \"'\",\n",
       " 's',\n",
       " 'marriage',\n",
       " ',',\n",
       " 'been',\n",
       " 'mistress',\n",
       " 'of',\n",
       " 'his',\n",
       " 'house',\n",
       " 'from',\n",
       " 'a',\n",
       " 'very',\n",
       " 'early',\n",
       " 'period',\n",
       " '.']"
      ]
     },
     "execution_count": 14,
     "metadata": {},
     "output_type": "execute_result"
    }
   ],
   "source": [
    "gberg_sents[4]"
   ]
  },
  {
   "cell_type": "code",
   "execution_count": 15,
   "metadata": {},
   "outputs": [
    {
     "data": {
      "text/plain": [
       "'father'"
      ]
     },
     "execution_count": 15,
     "metadata": {},
     "output_type": "execute_result"
    }
   ],
   "source": [
    "gberg_sents[4][14]"
   ]
  },
  {
   "cell_type": "code",
   "execution_count": 16,
   "metadata": {
    "scrolled": true
   },
   "outputs": [
    {
     "data": {
      "text/plain": [
       "['[', 'Emma', 'by', 'Jane', 'Austen', '1816', ']', ...]"
      ]
     },
     "execution_count": 16,
     "metadata": {},
     "output_type": "execute_result"
    }
   ],
   "source": [
    "# another convenient method that we don't immediately need: \n",
    "gutenberg.words() "
   ]
  },
  {
   "cell_type": "code",
   "execution_count": 17,
   "metadata": {},
   "outputs": [],
   "source": [
    "# gutenberg.words() is analogous to the following line, which need not be run: \n",
    "# word_tokenize(gutenberg.raw())"
   ]
  },
  {
   "cell_type": "code",
   "execution_count": 18,
   "metadata": {},
   "outputs": [
    {
     "data": {
      "text/plain": [
       "2621613"
      ]
     },
     "execution_count": 18,
     "metadata": {},
     "output_type": "execute_result"
    }
   ],
   "source": [
    "# our Gutenberg corpus is 2.6m words in length: \n",
    "len(gutenberg.words())"
   ]
  },
  {
   "cell_type": "markdown",
   "metadata": {},
   "source": [
    "#### Run word2vec"
   ]
  },
  {
   "cell_type": "code",
   "execution_count": 19,
   "metadata": {},
   "outputs": [],
   "source": [
    "# model = Word2Vec(sentences=gberg_sents, size=64, sg=1, window=10, min_count=5, workers=8)"
   ]
  },
  {
   "cell_type": "code",
   "execution_count": 20,
   "metadata": {},
   "outputs": [],
   "source": [
    "# model.save('raw_gutenberg_model.w2v')"
   ]
  },
  {
   "cell_type": "markdown",
   "metadata": {},
   "source": [
    "#### Explore model"
   ]
  },
  {
   "cell_type": "code",
   "execution_count": 21,
   "metadata": {},
   "outputs": [],
   "source": [
    "# skip re-training the model with the next line:  \n",
    "model = gensim.models.Word2Vec.load('raw_gutenberg_model.w2v')"
   ]
  },
  {
   "cell_type": "code",
   "execution_count": 23,
   "metadata": {},
   "outputs": [
    {
     "data": {
      "text/plain": [
       "array([-2.5793877e-01,  1.1699589e-01, -1.6762055e-01,  1.2229755e-01,\n",
       "       -4.9805470e-02, -8.9718394e-02, -4.9708080e-01, -5.0261606e-02,\n",
       "       -3.5851620e-02,  1.7913146e-02, -2.6219659e-02,  1.7865178e-01,\n",
       "       -1.4097963e-01, -5.0025001e-02,  7.7758893e-02, -4.8630935e-01,\n",
       "       -2.9639542e-01, -1.7738166e-01,  7.2441064e-04,  9.4514467e-02,\n",
       "        4.3966466e-01, -2.2670019e-01,  2.6953089e-01, -2.1665299e-01,\n",
       "       -4.4041045e-02,  4.0036646e-01, -1.9829671e-01,  4.0851843e-02,\n",
       "        1.0639883e-01,  1.1259313e-01, -5.4921287e-01,  3.7452701e-01,\n",
       "        5.7400495e-01,  5.5473244e-01,  2.9348418e-02,  2.4654505e-01,\n",
       "       -4.2376769e-01,  5.3879824e-03,  1.5634653e-01, -2.7653140e-01,\n",
       "        5.2116376e-01, -1.6660908e-01,  4.9827844e-01,  3.3996269e-02,\n",
       "       -5.8078498e-01, -4.0201211e-01,  7.8634053e-02,  3.8631949e-01,\n",
       "       -3.7188753e-02,  3.3487952e-01,  7.5791055e-01, -4.0295161e-02,\n",
       "       -4.1625524e-01,  5.7259612e-02, -6.0007502e-03,  1.9733144e-01,\n",
       "       -1.6640140e-01,  4.7268820e-01,  4.4742790e-01, -1.5832844e-01,\n",
       "       -1.5473163e-01,  1.7752802e-02, -1.4025649e-01,  2.8716597e-01],\n",
       "      dtype=float32)"
      ]
     },
     "execution_count": 23,
     "metadata": {},
     "output_type": "execute_result"
    }
   ],
   "source": [
    "model.wv['dog']"
   ]
  },
  {
   "cell_type": "code",
   "execution_count": 24,
   "metadata": {},
   "outputs": [
    {
     "data": {
      "text/plain": [
       "64"
      ]
     },
     "execution_count": 24,
     "metadata": {},
     "output_type": "execute_result"
    }
   ],
   "source": [
    "len(model.wv['dog'])"
   ]
  },
  {
   "cell_type": "code",
   "execution_count": 26,
   "metadata": {},
   "outputs": [
    {
     "data": {
      "text/plain": [
       "[('puppy', 0.8346770405769348),\n",
       " ('chimney', 0.7908495664596558),\n",
       " ('cage', 0.7744636535644531),\n",
       " ('thief', 0.7673177719116211),\n",
       " ('whip', 0.7652339935302734),\n",
       " ('broth', 0.7602391839027405),\n",
       " ('sweeper', 0.7593918442726135),\n",
       " ('boy', 0.7445755004882812),\n",
       " ('lazy', 0.7435389161109924),\n",
       " ('kick', 0.740685224533081)]"
      ]
     },
     "execution_count": 26,
     "metadata": {},
     "output_type": "execute_result"
    }
   ],
   "source": [
    "model.wv.most_similar('dog') # distance"
   ]
  },
  {
   "cell_type": "code",
   "execution_count": 27,
   "metadata": {},
   "outputs": [
    {
     "data": {
      "text/plain": [
       "[('contradict', 0.840507984161377),\n",
       " ('suppose', 0.8370952606201172),\n",
       " ('manage', 0.8311524391174316),\n",
       " ('believe', 0.8244760036468506),\n",
       " ('Mamma', 0.8190703392028809),\n",
       " ('NOW', 0.8185515999794006),\n",
       " ('imagine', 0.8127619028091431),\n",
       " ('behave', 0.8083094954490662),\n",
       " ('guess', 0.8069778084754944),\n",
       " ('know', 0.8033992052078247)]"
      ]
     },
     "execution_count": 27,
     "metadata": {},
     "output_type": "execute_result"
    }
   ],
   "source": [
    "model.wv.most_similar('think')"
   ]
  },
  {
   "cell_type": "code",
   "execution_count": 28,
   "metadata": {},
   "outputs": [
    {
     "data": {
      "text/plain": [
       "[('morning', 0.7758408188819885),\n",
       " ('night', 0.7631299495697021),\n",
       " ('time', 0.7534291744232178),\n",
       " ('month', 0.7200314402580261),\n",
       " ('week', 0.6975276470184326),\n",
       " ('Saturday', 0.6719169616699219),\n",
       " ('Adar', 0.6649736762046814),\n",
       " ('evening', 0.6564797163009644),\n",
       " ('seventh', 0.6562521457672119),\n",
       " ('sabbath', 0.6537732481956482)]"
      ]
     },
     "execution_count": 28,
     "metadata": {},
     "output_type": "execute_result"
    }
   ],
   "source": [
    "model.wv.most_similar('day')"
   ]
  },
  {
   "cell_type": "code",
   "execution_count": 29,
   "metadata": {},
   "outputs": [
    {
     "data": {
      "text/plain": [
       "[('mother', 0.8594024181365967),\n",
       " ('brother', 0.8391922116279602),\n",
       " ('sister', 0.8008431792259216),\n",
       " ('daughter', 0.7915855646133423),\n",
       " ('wife', 0.7882314324378967),\n",
       " ('Amnon', 0.7664843797683716),\n",
       " ('Tamar', 0.7450737953186035),\n",
       " ('younger', 0.7415950894355774),\n",
       " ('servant', 0.740749716758728),\n",
       " ('uncle', 0.7388681769371033)]"
      ]
     },
     "execution_count": 29,
     "metadata": {},
     "output_type": "execute_result"
    }
   ],
   "source": [
    "model.wv.most_similar('father')"
   ]
  },
  {
   "cell_type": "code",
   "execution_count": 32,
   "metadata": {},
   "outputs": [
    {
     "data": {
      "text/plain": [
       "'dog'"
      ]
     },
     "execution_count": 32,
     "metadata": {},
     "output_type": "execute_result"
    }
   ],
   "source": [
    "model.wv.doesnt_match(\"mother father daughter dog\".split())"
   ]
  },
  {
   "cell_type": "code",
   "execution_count": 33,
   "metadata": {},
   "outputs": [
    {
     "data": {
      "text/plain": [
       "0.46528155"
      ]
     },
     "execution_count": 33,
     "metadata": {},
     "output_type": "execute_result"
    }
   ],
   "source": [
    "model.wv.similarity('father', 'dog')"
   ]
  },
  {
   "cell_type": "code",
   "execution_count": 34,
   "metadata": {
    "scrolled": true
   },
   "outputs": [
    {
     "data": {
      "text/plain": [
       "[('husband', 0.7817324995994568),\n",
       " ('daughter', 0.7802364826202393),\n",
       " ('wife', 0.7752183675765991),\n",
       " ('mother', 0.7721236944198608),\n",
       " ('sister', 0.7572321891784668),\n",
       " ('brother', 0.7298124432563782),\n",
       " ('Rachel', 0.7151593565940857),\n",
       " ('Sarah', 0.7043939828872681),\n",
       " ('Tamar', 0.6967372894287109),\n",
       " ('Leah', 0.692772388458252)]"
      ]
     },
     "execution_count": 34,
     "metadata": {},
     "output_type": "execute_result"
    }
   ],
   "source": [
    "# close, but not quite; distinctly in female direction: \n",
    "model.wv.most_similar(positive=['father', 'woman'], negative=['man']) "
   ]
  },
  {
   "cell_type": "code",
   "execution_count": 35,
   "metadata": {},
   "outputs": [
    {
     "data": {
      "text/plain": [
       "[('Leah', 0.7453159689903259),\n",
       " ('Sarah', 0.7336412668228149),\n",
       " ('wife', 0.7237880825996399),\n",
       " ('daughter', 0.7168752551078796),\n",
       " ('Bethuel', 0.7127430438995361),\n",
       " ('Rachel', 0.7067197561264038),\n",
       " ('Hagar', 0.6947377920150757),\n",
       " ('Sarai', 0.6944972276687622),\n",
       " ('Tamar', 0.6844563484191895),\n",
       " ('Bilhah', 0.6817082166671753)]"
      ]
     },
     "execution_count": 35,
     "metadata": {},
     "output_type": "execute_result"
    }
   ],
   "source": [
    "# more confident about this one: \n",
    "model.wv.most_similar(positive=['son', 'woman'], negative=['man']) "
   ]
  },
  {
   "cell_type": "code",
   "execution_count": 36,
   "metadata": {},
   "outputs": [
    {
     "data": {
      "text/plain": [
       "[('wife', 0.7358366847038269),\n",
       " ('sister', 0.6928739547729492),\n",
       " ('widow', 0.6860531568527222),\n",
       " ('daughter', 0.6839768886566162),\n",
       " ('mother', 0.6765022277832031),\n",
       " ('child', 0.674767017364502),\n",
       " ('conceived', 0.6671896576881409),\n",
       " ('Rachel', 0.6533997058868408),\n",
       " ('maid', 0.6480797529220581),\n",
       " ('nurse', 0.6368674635887146)]"
      ]
     },
     "execution_count": 36,
     "metadata": {},
     "output_type": "execute_result"
    }
   ],
   "source": [
    "model.wv.most_similar(positive=['husband', 'woman'], negative=['man']) "
   ]
  },
  {
   "cell_type": "code",
   "execution_count": 37,
   "metadata": {},
   "outputs": [
    {
     "data": {
      "text/plain": [
       "[('Sarah', 0.7076258063316345),\n",
       " ('Babylon', 0.6764272451400757),\n",
       " ('Rachel', 0.6728379726409912),\n",
       " ('Leah', 0.656883716583252),\n",
       " ('daughter', 0.6472305655479431),\n",
       " ('Abram', 0.6398137211799622),\n",
       " ('Vashti', 0.6352875232696533),\n",
       " ('Sarai', 0.6350667476654053),\n",
       " ('queen', 0.6346942782402039),\n",
       " ('Judah', 0.6322956085205078),\n",
       " ('tribute', 0.631965160369873),\n",
       " ('household', 0.6319213509559631),\n",
       " ('Bethuel', 0.627884030342102),\n",
       " ('Hagar', 0.6206828355789185),\n",
       " ('Rahab', 0.6168578863143921),\n",
       " ('Padanaram', 0.6155596971511841),\n",
       " ('eunuchs', 0.6131464242935181),\n",
       " ('David', 0.6119171380996704),\n",
       " ('Cain', 0.6111243963241577),\n",
       " ('wife', 0.6110631823539734),\n",
       " ('Rebekah', 0.6097539067268372),\n",
       " ('Haman', 0.6097317934036255),\n",
       " ('Shechem', 0.6087343096733093),\n",
       " ('Ephron', 0.6080019474029541),\n",
       " ('Esther', 0.6074013113975525),\n",
       " ('Hanun', 0.6067836880683899),\n",
       " ('Laban', 0.6063657999038696),\n",
       " ('Onan', 0.6046965718269348),\n",
       " ('Esau', 0.6045227646827698),\n",
       " ('magicians', 0.6044384837150574)]"
      ]
     },
     "execution_count": 37,
     "metadata": {},
     "output_type": "execute_result"
    }
   ],
   "source": [
    "model.wv.most_similar(positive=['king', 'woman'], negative=['man'], topn=30) "
   ]
  },
  {
   "cell_type": "code",
   "execution_count": null,
   "metadata": {
    "scrolled": true
   },
   "outputs": [],
   "source": [
    "# impressive for such a small data set, without any cleaning, e.g., to lower case (covered next)"
   ]
  },
  {
   "cell_type": "markdown",
   "metadata": {},
   "source": [
    "#### Reduce word vector dimensionality with t-SNE"
   ]
  },
  {
   "cell_type": "code",
   "execution_count": 39,
   "metadata": {},
   "outputs": [
    {
     "data": {
      "text/plain": [
       "17011"
      ]
     },
     "execution_count": 39,
     "metadata": {},
     "output_type": "execute_result"
    }
   ],
   "source": [
    "len(model.wv.vocab)"
   ]
  },
  {
   "cell_type": "code",
   "execution_count": 41,
   "metadata": {},
   "outputs": [],
   "source": [
    "X = model.wv[model.wv.vocab]"
   ]
  },
  {
   "cell_type": "code",
   "execution_count": 42,
   "metadata": {},
   "outputs": [],
   "source": [
    "tsne = TSNE(n_components=2, n_iter=1000) # 200 is minimum iter; default is 1000"
   ]
  },
  {
   "cell_type": "code",
   "execution_count": 43,
   "metadata": {},
   "outputs": [],
   "source": [
    "X_2d = tsne.fit_transform(X)"
   ]
  },
  {
   "cell_type": "code",
   "execution_count": 50,
   "metadata": {},
   "outputs": [
    {
     "data": {
      "text/plain": [
       "array([[-22.123093, -53.10577 ],\n",
       "       [-58.997185,  14.092356],\n",
       "       [-17.393017,  27.653416],\n",
       "       [-57.936623,  15.661589],\n",
       "       [-22.081415, -53.052452]], dtype=float32)"
      ]
     },
     "execution_count": 50,
     "metadata": {},
     "output_type": "execute_result"
    }
   ],
   "source": [
    "X_2d[0:5]"
   ]
  },
  {
   "cell_type": "code",
   "execution_count": 51,
   "metadata": {},
   "outputs": [],
   "source": [
    "# create DataFrame for storing results and plotting\n",
    "coords_df = pd.DataFrame(X_2d, columns=['x','y'])\n",
    "coords_df['token'] = model.wv.vocab.keys()"
   ]
  },
  {
   "cell_type": "code",
   "execution_count": 52,
   "metadata": {},
   "outputs": [
    {
     "data": {
      "text/html": [
       "<div>\n",
       "<style scoped>\n",
       "    .dataframe tbody tr th:only-of-type {\n",
       "        vertical-align: middle;\n",
       "    }\n",
       "\n",
       "    .dataframe tbody tr th {\n",
       "        vertical-align: top;\n",
       "    }\n",
       "\n",
       "    .dataframe thead th {\n",
       "        text-align: right;\n",
       "    }\n",
       "</style>\n",
       "<table border=\"1\" class=\"dataframe\">\n",
       "  <thead>\n",
       "    <tr style=\"text-align: right;\">\n",
       "      <th></th>\n",
       "      <th>x</th>\n",
       "      <th>y</th>\n",
       "      <th>token</th>\n",
       "    </tr>\n",
       "  </thead>\n",
       "  <tbody>\n",
       "    <tr>\n",
       "      <th>0</th>\n",
       "      <td>-22.123093</td>\n",
       "      <td>-53.105770</td>\n",
       "      <td>[</td>\n",
       "    </tr>\n",
       "    <tr>\n",
       "      <th>1</th>\n",
       "      <td>-58.997185</td>\n",
       "      <td>14.092356</td>\n",
       "      <td>Emma</td>\n",
       "    </tr>\n",
       "    <tr>\n",
       "      <th>2</th>\n",
       "      <td>-17.393017</td>\n",
       "      <td>27.653416</td>\n",
       "      <td>by</td>\n",
       "    </tr>\n",
       "    <tr>\n",
       "      <th>3</th>\n",
       "      <td>-57.936623</td>\n",
       "      <td>15.661589</td>\n",
       "      <td>Jane</td>\n",
       "    </tr>\n",
       "    <tr>\n",
       "      <th>4</th>\n",
       "      <td>-22.081415</td>\n",
       "      <td>-53.052452</td>\n",
       "      <td>]</td>\n",
       "    </tr>\n",
       "  </tbody>\n",
       "</table>\n",
       "</div>"
      ],
      "text/plain": [
       "           x          y token\n",
       "0 -22.123093 -53.105770     [\n",
       "1 -58.997185  14.092356  Emma\n",
       "2 -17.393017  27.653416    by\n",
       "3 -57.936623  15.661589  Jane\n",
       "4 -22.081415 -53.052452     ]"
      ]
     },
     "execution_count": 52,
     "metadata": {},
     "output_type": "execute_result"
    }
   ],
   "source": [
    "coords_df.head()"
   ]
  },
  {
   "cell_type": "code",
   "execution_count": 53,
   "metadata": {},
   "outputs": [],
   "source": [
    "# coords_df.to_csv('raw_gutenberg_tsne.csv', index=False)"
   ]
  },
  {
   "cell_type": "markdown",
   "metadata": {},
   "source": [
    "#### Visualize 2D representation of word vectors"
   ]
  },
  {
   "cell_type": "code",
   "execution_count": 54,
   "metadata": {},
   "outputs": [],
   "source": [
    "coords_df = pd.read_csv('raw_gutenberg_tsne.csv')"
   ]
  },
  {
   "cell_type": "code",
   "execution_count": 56,
   "metadata": {},
   "outputs": [
    {
     "data": {
      "text/html": [
       "\n",
       "    <div class=\"bk-root\">\n",
       "        <a href=\"https://bokeh.pydata.org\" target=\"_blank\" class=\"bk-logo bk-logo-small bk-logo-notebook\"></a>\n",
       "        <span id=\"1001\">Loading BokehJS ...</span>\n",
       "    </div>"
      ]
     },
     "metadata": {},
     "output_type": "display_data"
    },
    {
     "data": {
      "application/javascript": [
       "\n",
       "(function(root) {\n",
       "  function now() {\n",
       "    return new Date();\n",
       "  }\n",
       "\n",
       "  var force = true;\n",
       "\n",
       "  if (typeof root._bokeh_onload_callbacks === \"undefined\" || force === true) {\n",
       "    root._bokeh_onload_callbacks = [];\n",
       "    root._bokeh_is_loading = undefined;\n",
       "  }\n",
       "\n",
       "  var JS_MIME_TYPE = 'application/javascript';\n",
       "  var HTML_MIME_TYPE = 'text/html';\n",
       "  var EXEC_MIME_TYPE = 'application/vnd.bokehjs_exec.v0+json';\n",
       "  var CLASS_NAME = 'output_bokeh rendered_html';\n",
       "\n",
       "  /**\n",
       "   * Render data to the DOM node\n",
       "   */\n",
       "  function render(props, node) {\n",
       "    var script = document.createElement(\"script\");\n",
       "    node.appendChild(script);\n",
       "  }\n",
       "\n",
       "  /**\n",
       "   * Handle when an output is cleared or removed\n",
       "   */\n",
       "  function handleClearOutput(event, handle) {\n",
       "    var cell = handle.cell;\n",
       "\n",
       "    var id = cell.output_area._bokeh_element_id;\n",
       "    var server_id = cell.output_area._bokeh_server_id;\n",
       "    // Clean up Bokeh references\n",
       "    if (id != null && id in Bokeh.index) {\n",
       "      Bokeh.index[id].model.document.clear();\n",
       "      delete Bokeh.index[id];\n",
       "    }\n",
       "\n",
       "    if (server_id !== undefined) {\n",
       "      // Clean up Bokeh references\n",
       "      var cmd = \"from bokeh.io.state import curstate; print(curstate().uuid_to_server['\" + server_id + \"'].get_sessions()[0].document.roots[0]._id)\";\n",
       "      cell.notebook.kernel.execute(cmd, {\n",
       "        iopub: {\n",
       "          output: function(msg) {\n",
       "            var id = msg.content.text.trim();\n",
       "            if (id in Bokeh.index) {\n",
       "              Bokeh.index[id].model.document.clear();\n",
       "              delete Bokeh.index[id];\n",
       "            }\n",
       "          }\n",
       "        }\n",
       "      });\n",
       "      // Destroy server and session\n",
       "      var cmd = \"import bokeh.io.notebook as ion; ion.destroy_server('\" + server_id + \"')\";\n",
       "      cell.notebook.kernel.execute(cmd);\n",
       "    }\n",
       "  }\n",
       "\n",
       "  /**\n",
       "   * Handle when a new output is added\n",
       "   */\n",
       "  function handleAddOutput(event, handle) {\n",
       "    var output_area = handle.output_area;\n",
       "    var output = handle.output;\n",
       "\n",
       "    // limit handleAddOutput to display_data with EXEC_MIME_TYPE content only\n",
       "    if ((output.output_type != \"display_data\") || (!output.data.hasOwnProperty(EXEC_MIME_TYPE))) {\n",
       "      return\n",
       "    }\n",
       "\n",
       "    var toinsert = output_area.element.find(\".\" + CLASS_NAME.split(' ')[0]);\n",
       "\n",
       "    if (output.metadata[EXEC_MIME_TYPE][\"id\"] !== undefined) {\n",
       "      toinsert[toinsert.length - 1].firstChild.textContent = output.data[JS_MIME_TYPE];\n",
       "      // store reference to embed id on output_area\n",
       "      output_area._bokeh_element_id = output.metadata[EXEC_MIME_TYPE][\"id\"];\n",
       "    }\n",
       "    if (output.metadata[EXEC_MIME_TYPE][\"server_id\"] !== undefined) {\n",
       "      var bk_div = document.createElement(\"div\");\n",
       "      bk_div.innerHTML = output.data[HTML_MIME_TYPE];\n",
       "      var script_attrs = bk_div.children[0].attributes;\n",
       "      for (var i = 0; i < script_attrs.length; i++) {\n",
       "        toinsert[toinsert.length - 1].firstChild.setAttribute(script_attrs[i].name, script_attrs[i].value);\n",
       "      }\n",
       "      // store reference to server id on output_area\n",
       "      output_area._bokeh_server_id = output.metadata[EXEC_MIME_TYPE][\"server_id\"];\n",
       "    }\n",
       "  }\n",
       "\n",
       "  function register_renderer(events, OutputArea) {\n",
       "\n",
       "    function append_mime(data, metadata, element) {\n",
       "      // create a DOM node to render to\n",
       "      var toinsert = this.create_output_subarea(\n",
       "        metadata,\n",
       "        CLASS_NAME,\n",
       "        EXEC_MIME_TYPE\n",
       "      );\n",
       "      this.keyboard_manager.register_events(toinsert);\n",
       "      // Render to node\n",
       "      var props = {data: data, metadata: metadata[EXEC_MIME_TYPE]};\n",
       "      render(props, toinsert[toinsert.length - 1]);\n",
       "      element.append(toinsert);\n",
       "      return toinsert\n",
       "    }\n",
       "\n",
       "    /* Handle when an output is cleared or removed */\n",
       "    events.on('clear_output.CodeCell', handleClearOutput);\n",
       "    events.on('delete.Cell', handleClearOutput);\n",
       "\n",
       "    /* Handle when a new output is added */\n",
       "    events.on('output_added.OutputArea', handleAddOutput);\n",
       "\n",
       "    /**\n",
       "     * Register the mime type and append_mime function with output_area\n",
       "     */\n",
       "    OutputArea.prototype.register_mime_type(EXEC_MIME_TYPE, append_mime, {\n",
       "      /* Is output safe? */\n",
       "      safe: true,\n",
       "      /* Index of renderer in `output_area.display_order` */\n",
       "      index: 0\n",
       "    });\n",
       "  }\n",
       "\n",
       "  // register the mime type if in Jupyter Notebook environment and previously unregistered\n",
       "  if (root.Jupyter !== undefined) {\n",
       "    var events = require('base/js/events');\n",
       "    var OutputArea = require('notebook/js/outputarea').OutputArea;\n",
       "\n",
       "    if (OutputArea.prototype.mime_types().indexOf(EXEC_MIME_TYPE) == -1) {\n",
       "      register_renderer(events, OutputArea);\n",
       "    }\n",
       "  }\n",
       "\n",
       "  \n",
       "  if (typeof (root._bokeh_timeout) === \"undefined\" || force === true) {\n",
       "    root._bokeh_timeout = Date.now() + 5000;\n",
       "    root._bokeh_failed_load = false;\n",
       "  }\n",
       "\n",
       "  var NB_LOAD_WARNING = {'data': {'text/html':\n",
       "     \"<div style='background-color: #fdd'>\\n\"+\n",
       "     \"<p>\\n\"+\n",
       "     \"BokehJS does not appear to have successfully loaded. If loading BokehJS from CDN, this \\n\"+\n",
       "     \"may be due to a slow or bad network connection. Possible fixes:\\n\"+\n",
       "     \"</p>\\n\"+\n",
       "     \"<ul>\\n\"+\n",
       "     \"<li>re-rerun `output_notebook()` to attempt to load from CDN again, or</li>\\n\"+\n",
       "     \"<li>use INLINE resources instead, as so:</li>\\n\"+\n",
       "     \"</ul>\\n\"+\n",
       "     \"<code>\\n\"+\n",
       "     \"from bokeh.resources import INLINE\\n\"+\n",
       "     \"output_notebook(resources=INLINE)\\n\"+\n",
       "     \"</code>\\n\"+\n",
       "     \"</div>\"}};\n",
       "\n",
       "  function display_loaded() {\n",
       "    var el = document.getElementById(\"1001\");\n",
       "    if (el != null) {\n",
       "      el.textContent = \"BokehJS is loading...\";\n",
       "    }\n",
       "    if (root.Bokeh !== undefined) {\n",
       "      if (el != null) {\n",
       "        el.textContent = \"BokehJS \" + root.Bokeh.version + \" successfully loaded.\";\n",
       "      }\n",
       "    } else if (Date.now() < root._bokeh_timeout) {\n",
       "      setTimeout(display_loaded, 100)\n",
       "    }\n",
       "  }\n",
       "\n",
       "\n",
       "  function run_callbacks() {\n",
       "    try {\n",
       "      root._bokeh_onload_callbacks.forEach(function(callback) {\n",
       "        if (callback != null)\n",
       "          callback();\n",
       "      });\n",
       "    } finally {\n",
       "      delete root._bokeh_onload_callbacks\n",
       "    }\n",
       "    console.debug(\"Bokeh: all callbacks have finished\");\n",
       "  }\n",
       "\n",
       "  function load_libs(css_urls, js_urls, callback) {\n",
       "    if (css_urls == null) css_urls = [];\n",
       "    if (js_urls == null) js_urls = [];\n",
       "\n",
       "    root._bokeh_onload_callbacks.push(callback);\n",
       "    if (root._bokeh_is_loading > 0) {\n",
       "      console.debug(\"Bokeh: BokehJS is being loaded, scheduling callback at\", now());\n",
       "      return null;\n",
       "    }\n",
       "    if (js_urls == null || js_urls.length === 0) {\n",
       "      run_callbacks();\n",
       "      return null;\n",
       "    }\n",
       "    console.debug(\"Bokeh: BokehJS not loaded, scheduling load and callback at\", now());\n",
       "    root._bokeh_is_loading = css_urls.length + js_urls.length;\n",
       "\n",
       "    function on_load() {\n",
       "      root._bokeh_is_loading--;\n",
       "      if (root._bokeh_is_loading === 0) {\n",
       "        console.debug(\"Bokeh: all BokehJS libraries/stylesheets loaded\");\n",
       "        run_callbacks()\n",
       "      }\n",
       "    }\n",
       "\n",
       "    function on_error() {\n",
       "      console.error(\"failed to load \" + url);\n",
       "    }\n",
       "\n",
       "    for (var i = 0; i < css_urls.length; i++) {\n",
       "      var url = css_urls[i];\n",
       "      const element = document.createElement(\"link\");\n",
       "      element.onload = on_load;\n",
       "      element.onerror = on_error;\n",
       "      element.rel = \"stylesheet\";\n",
       "      element.type = \"text/css\";\n",
       "      element.href = url;\n",
       "      console.debug(\"Bokeh: injecting link tag for BokehJS stylesheet: \", url);\n",
       "      document.body.appendChild(element);\n",
       "    }\n",
       "\n",
       "    for (var i = 0; i < js_urls.length; i++) {\n",
       "      var url = js_urls[i];\n",
       "      var element = document.createElement('script');\n",
       "      element.onload = on_load;\n",
       "      element.onerror = on_error;\n",
       "      element.async = false;\n",
       "      element.src = url;\n",
       "      console.debug(\"Bokeh: injecting script tag for BokehJS library: \", url);\n",
       "      document.head.appendChild(element);\n",
       "    }\n",
       "  };var element = document.getElementById(\"1001\");\n",
       "  if (element == null) {\n",
       "    console.error(\"Bokeh: ERROR: autoload.js configured with elementid '1001' but no matching script tag was found. \")\n",
       "    return false;\n",
       "  }\n",
       "\n",
       "  function inject_raw_css(css) {\n",
       "    const element = document.createElement(\"style\");\n",
       "    element.appendChild(document.createTextNode(css));\n",
       "    document.body.appendChild(element);\n",
       "  }\n",
       "\n",
       "  var js_urls = [\"https://cdn.pydata.org/bokeh/release/bokeh-1.3.4.min.js\", \"https://cdn.pydata.org/bokeh/release/bokeh-widgets-1.3.4.min.js\", \"https://cdn.pydata.org/bokeh/release/bokeh-tables-1.3.4.min.js\", \"https://cdn.pydata.org/bokeh/release/bokeh-gl-1.3.4.min.js\"];\n",
       "  var css_urls = [];\n",
       "\n",
       "  var inline_js = [\n",
       "    function(Bokeh) {\n",
       "      Bokeh.set_log_level(\"info\");\n",
       "    },\n",
       "    \n",
       "    function(Bokeh) {\n",
       "      \n",
       "    },\n",
       "    function(Bokeh) {} // ensure no trailing comma for IE\n",
       "  ];\n",
       "\n",
       "  function run_inline_js() {\n",
       "    \n",
       "    if ((root.Bokeh !== undefined) || (force === true)) {\n",
       "      for (var i = 0; i < inline_js.length; i++) {\n",
       "        inline_js[i].call(root, root.Bokeh);\n",
       "      }if (force === true) {\n",
       "        display_loaded();\n",
       "      }} else if (Date.now() < root._bokeh_timeout) {\n",
       "      setTimeout(run_inline_js, 100);\n",
       "    } else if (!root._bokeh_failed_load) {\n",
       "      console.log(\"Bokeh: BokehJS failed to load within specified timeout.\");\n",
       "      root._bokeh_failed_load = true;\n",
       "    } else if (force !== true) {\n",
       "      var cell = $(document.getElementById(\"1001\")).parents('.cell').data().cell;\n",
       "      cell.output_area.append_execute_result(NB_LOAD_WARNING)\n",
       "    }\n",
       "\n",
       "  }\n",
       "\n",
       "  if (root._bokeh_is_loading === 0) {\n",
       "    console.debug(\"Bokeh: BokehJS loaded, going straight to plotting\");\n",
       "    run_inline_js();\n",
       "  } else {\n",
       "    load_libs(css_urls, js_urls, function() {\n",
       "      console.debug(\"Bokeh: BokehJS plotting callback run at\", now());\n",
       "      run_inline_js();\n",
       "    });\n",
       "  }\n",
       "}(window));"
      ],
      "application/vnd.bokehjs_load.v0+json": "\n(function(root) {\n  function now() {\n    return new Date();\n  }\n\n  var force = true;\n\n  if (typeof root._bokeh_onload_callbacks === \"undefined\" || force === true) {\n    root._bokeh_onload_callbacks = [];\n    root._bokeh_is_loading = undefined;\n  }\n\n  \n\n  \n  if (typeof (root._bokeh_timeout) === \"undefined\" || force === true) {\n    root._bokeh_timeout = Date.now() + 5000;\n    root._bokeh_failed_load = false;\n  }\n\n  var NB_LOAD_WARNING = {'data': {'text/html':\n     \"<div style='background-color: #fdd'>\\n\"+\n     \"<p>\\n\"+\n     \"BokehJS does not appear to have successfully loaded. If loading BokehJS from CDN, this \\n\"+\n     \"may be due to a slow or bad network connection. Possible fixes:\\n\"+\n     \"</p>\\n\"+\n     \"<ul>\\n\"+\n     \"<li>re-rerun `output_notebook()` to attempt to load from CDN again, or</li>\\n\"+\n     \"<li>use INLINE resources instead, as so:</li>\\n\"+\n     \"</ul>\\n\"+\n     \"<code>\\n\"+\n     \"from bokeh.resources import INLINE\\n\"+\n     \"output_notebook(resources=INLINE)\\n\"+\n     \"</code>\\n\"+\n     \"</div>\"}};\n\n  function display_loaded() {\n    var el = document.getElementById(\"1001\");\n    if (el != null) {\n      el.textContent = \"BokehJS is loading...\";\n    }\n    if (root.Bokeh !== undefined) {\n      if (el != null) {\n        el.textContent = \"BokehJS \" + root.Bokeh.version + \" successfully loaded.\";\n      }\n    } else if (Date.now() < root._bokeh_timeout) {\n      setTimeout(display_loaded, 100)\n    }\n  }\n\n\n  function run_callbacks() {\n    try {\n      root._bokeh_onload_callbacks.forEach(function(callback) {\n        if (callback != null)\n          callback();\n      });\n    } finally {\n      delete root._bokeh_onload_callbacks\n    }\n    console.debug(\"Bokeh: all callbacks have finished\");\n  }\n\n  function load_libs(css_urls, js_urls, callback) {\n    if (css_urls == null) css_urls = [];\n    if (js_urls == null) js_urls = [];\n\n    root._bokeh_onload_callbacks.push(callback);\n    if (root._bokeh_is_loading > 0) {\n      console.debug(\"Bokeh: BokehJS is being loaded, scheduling callback at\", now());\n      return null;\n    }\n    if (js_urls == null || js_urls.length === 0) {\n      run_callbacks();\n      return null;\n    }\n    console.debug(\"Bokeh: BokehJS not loaded, scheduling load and callback at\", now());\n    root._bokeh_is_loading = css_urls.length + js_urls.length;\n\n    function on_load() {\n      root._bokeh_is_loading--;\n      if (root._bokeh_is_loading === 0) {\n        console.debug(\"Bokeh: all BokehJS libraries/stylesheets loaded\");\n        run_callbacks()\n      }\n    }\n\n    function on_error() {\n      console.error(\"failed to load \" + url);\n    }\n\n    for (var i = 0; i < css_urls.length; i++) {\n      var url = css_urls[i];\n      const element = document.createElement(\"link\");\n      element.onload = on_load;\n      element.onerror = on_error;\n      element.rel = \"stylesheet\";\n      element.type = \"text/css\";\n      element.href = url;\n      console.debug(\"Bokeh: injecting link tag for BokehJS stylesheet: \", url);\n      document.body.appendChild(element);\n    }\n\n    for (var i = 0; i < js_urls.length; i++) {\n      var url = js_urls[i];\n      var element = document.createElement('script');\n      element.onload = on_load;\n      element.onerror = on_error;\n      element.async = false;\n      element.src = url;\n      console.debug(\"Bokeh: injecting script tag for BokehJS library: \", url);\n      document.head.appendChild(element);\n    }\n  };var element = document.getElementById(\"1001\");\n  if (element == null) {\n    console.error(\"Bokeh: ERROR: autoload.js configured with elementid '1001' but no matching script tag was found. \")\n    return false;\n  }\n\n  function inject_raw_css(css) {\n    const element = document.createElement(\"style\");\n    element.appendChild(document.createTextNode(css));\n    document.body.appendChild(element);\n  }\n\n  var js_urls = [\"https://cdn.pydata.org/bokeh/release/bokeh-1.3.4.min.js\", \"https://cdn.pydata.org/bokeh/release/bokeh-widgets-1.3.4.min.js\", \"https://cdn.pydata.org/bokeh/release/bokeh-tables-1.3.4.min.js\", \"https://cdn.pydata.org/bokeh/release/bokeh-gl-1.3.4.min.js\"];\n  var css_urls = [];\n\n  var inline_js = [\n    function(Bokeh) {\n      Bokeh.set_log_level(\"info\");\n    },\n    \n    function(Bokeh) {\n      \n    },\n    function(Bokeh) {} // ensure no trailing comma for IE\n  ];\n\n  function run_inline_js() {\n    \n    if ((root.Bokeh !== undefined) || (force === true)) {\n      for (var i = 0; i < inline_js.length; i++) {\n        inline_js[i].call(root, root.Bokeh);\n      }if (force === true) {\n        display_loaded();\n      }} else if (Date.now() < root._bokeh_timeout) {\n      setTimeout(run_inline_js, 100);\n    } else if (!root._bokeh_failed_load) {\n      console.log(\"Bokeh: BokehJS failed to load within specified timeout.\");\n      root._bokeh_failed_load = true;\n    } else if (force !== true) {\n      var cell = $(document.getElementById(\"1001\")).parents('.cell').data().cell;\n      cell.output_area.append_execute_result(NB_LOAD_WARNING)\n    }\n\n  }\n\n  if (root._bokeh_is_loading === 0) {\n    console.debug(\"Bokeh: BokehJS loaded, going straight to plotting\");\n    run_inline_js();\n  } else {\n    load_libs(css_urls, js_urls, function() {\n      console.debug(\"Bokeh: BokehJS plotting callback run at\", now());\n      run_inline_js();\n    });\n  }\n}(window));"
     },
     "metadata": {},
     "output_type": "display_data"
    }
   ],
   "source": [
    "output_notebook() # output bokeh plots inline in notebook"
   ]
  },
  {
   "cell_type": "code",
   "execution_count": 57,
   "metadata": {},
   "outputs": [],
   "source": [
    "subset_df = coords_df.sample(n=5000)"
   ]
  },
  {
   "cell_type": "code",
   "execution_count": 58,
   "metadata": {},
   "outputs": [],
   "source": [
    "p = figure(plot_width=800, plot_height=800)\n",
    "_ = p.text(x=subset_df.x, y=subset_df.y, text=subset_df.token)"
   ]
  },
  {
   "cell_type": "code",
   "execution_count": 59,
   "metadata": {},
   "outputs": [
    {
     "data": {
      "text/html": [
       "\n",
       "\n",
       "\n",
       "\n",
       "\n",
       "\n",
       "  <div class=\"bk-root\" id=\"0df92f1e-03be-4702-a112-2231605ef45a\" data-root-id=\"1002\"></div>\n"
      ]
     },
     "metadata": {},
     "output_type": "display_data"
    },
    {
     "data": {
      "application/javascript": [
       "(function(root) {\n",
       "  function embed_document(root) {\n",
       "    \n",
       "  var docs_json = {\"0786a920-07a4-4d52-ad0b-91f191bf9584\":{\"roots\":{\"references\":[{\"attributes\":{\"below\":[{\"id\":\"1011\",\"type\":\"LinearAxis\"}],\"center\":[{\"id\":\"1015\",\"type\":\"Grid\"},{\"id\":\"1020\",\"type\":\"Grid\"}],\"left\":[{\"id\":\"1016\",\"type\":\"LinearAxis\"}],\"plot_height\":800,\"plot_width\":800,\"renderers\":[{\"id\":\"1037\",\"type\":\"GlyphRenderer\"}],\"title\":{\"id\":\"1040\",\"type\":\"Title\"},\"toolbar\":{\"id\":\"1027\",\"type\":\"Toolbar\"},\"x_range\":{\"id\":\"1003\",\"type\":\"DataRange1d\"},\"x_scale\":{\"id\":\"1007\",\"type\":\"LinearScale\"},\"y_range\":{\"id\":\"1005\",\"type\":\"DataRange1d\"},\"y_scale\":{\"id\":\"1009\",\"type\":\"LinearScale\"}},\"id\":\"1002\",\"subtype\":\"Figure\",\"type\":\"Plot\"},{\"attributes\":{},\"id\":\"1025\",\"type\":\"ResetTool\"},{\"attributes\":{},\"id\":\"1012\",\"type\":\"BasicTicker\"},{\"attributes\":{\"ticker\":{\"id\":\"1012\",\"type\":\"BasicTicker\"}},\"id\":\"1015\",\"type\":\"Grid\"},{\"attributes\":{},\"id\":\"1021\",\"type\":\"PanTool\"},{\"attributes\":{\"data_source\":{\"id\":\"1034\",\"type\":\"ColumnDataSource\"},\"glyph\":{\"id\":\"1035\",\"type\":\"Text\"},\"hover_glyph\":null,\"muted_glyph\":null,\"nonselection_glyph\":{\"id\":\"1036\",\"type\":\"Text\"},\"selection_glyph\":null,\"view\":{\"id\":\"1038\",\"type\":\"CDSView\"}},\"id\":\"1037\",\"type\":\"GlyphRenderer\"},{\"attributes\":{\"source\":{\"id\":\"1034\",\"type\":\"ColumnDataSource\"}},\"id\":\"1038\",\"type\":\"CDSView\"},{\"attributes\":{},\"id\":\"1044\",\"type\":\"BasicTickFormatter\"},{\"attributes\":{},\"id\":\"1022\",\"type\":\"WheelZoomTool\"},{\"attributes\":{},\"id\":\"1045\",\"type\":\"Selection\"},{\"attributes\":{\"text_alpha\":{\"value\":0.1},\"text_color\":{\"value\":\"black\"},\"x\":{\"field\":\"x\"},\"y\":{\"field\":\"y\"}},\"id\":\"1036\",\"type\":\"Text\"},{\"attributes\":{},\"id\":\"1026\",\"type\":\"HelpTool\"},{\"attributes\":{\"formatter\":{\"id\":\"1044\",\"type\":\"BasicTickFormatter\"},\"ticker\":{\"id\":\"1017\",\"type\":\"BasicTicker\"}},\"id\":\"1016\",\"type\":\"LinearAxis\"},{\"attributes\":{},\"id\":\"1046\",\"type\":\"UnionRenderers\"},{\"attributes\":{\"bottom_units\":\"screen\",\"fill_alpha\":{\"value\":0.5},\"fill_color\":{\"value\":\"lightgrey\"},\"left_units\":\"screen\",\"level\":\"overlay\",\"line_alpha\":{\"value\":1.0},\"line_color\":{\"value\":\"black\"},\"line_dash\":[4,4],\"line_width\":{\"value\":2},\"render_mode\":\"css\",\"right_units\":\"screen\",\"top_units\":\"screen\"},\"id\":\"1047\",\"type\":\"BoxAnnotation\"},{\"attributes\":{},\"id\":\"1042\",\"type\":\"BasicTickFormatter\"},{\"attributes\":{\"overlay\":{\"id\":\"1047\",\"type\":\"BoxAnnotation\"}},\"id\":\"1023\",\"type\":\"BoxZoomTool\"},{\"attributes\":{},\"id\":\"1017\",\"type\":\"BasicTicker\"},{\"attributes\":{\"active_drag\":\"auto\",\"active_inspect\":\"auto\",\"active_multi\":null,\"active_scroll\":\"auto\",\"active_tap\":\"auto\",\"tools\":[{\"id\":\"1021\",\"type\":\"PanTool\"},{\"id\":\"1022\",\"type\":\"WheelZoomTool\"},{\"id\":\"1023\",\"type\":\"BoxZoomTool\"},{\"id\":\"1024\",\"type\":\"SaveTool\"},{\"id\":\"1025\",\"type\":\"ResetTool\"},{\"id\":\"1026\",\"type\":\"HelpTool\"}]},\"id\":\"1027\",\"type\":\"Toolbar\"},{\"attributes\":{\"callback\":null,\"data\":{\"text\":[\"headlines\",\"receiveth\",\"bending\",\"Shammai\",\"machinery\",\"seal\",\"GO\",\"fulfilled\",\"seek\",\"...\",\"slightest\",\"Jeroham\",\"actress\",\"relics\",\"Iudgement\",\"provoked\",\"unmoved\",\"sceptre\",\"told\",\"dissolution\",\"wronged\",\"low\",\"She\",\"departed\",\"imagine\",\"Seen\",\"early\",\"whenever\",\"deplore\",\"insignificant\",\"considered\",\"flocks\",\"September\",\"worried\",\"bond\",\"Dunsinane\",\"restrain\",\"honours\",\"impressive\",\"spending\",\"necessarily\",\"lad\",\"clank\",\"spoil\",\"Faith\",\"diving\",\"exile\",\"St\",\"closely\",\"chip\",\"Early\",\"spilled\",\"Gibeon\",\"sha\",\"promotion\",\"monarch\",\"epaulettes\",\"deposited\",\"times\",\"withheld\",\"rests\",\"conflict\",\"council\",\"rails\",\"Charlotte\",\"stalk\",\"shroud\",\"wave\",\"cautious\",\"increaseth\",\"reject\",\"credit\",\"C\",\"maintained\",\"Hebron\",\"Babes\",\"slates\",\"waning\",\"intellect\",\"little\",\"restraint\",\"fear\",\"Several\",\"olives\",\"Whilst\",\"roe\",\"supply\",\"Whereas\",\"crystal\",\"Broad\",\"Are\",\"manly\",\"wept\",\"judiciously\",\"wheel\",\"Agagite\",\"provocation\",\"agree\",\"cruising\",\"point\",\"Arctic\",\"secret\",\"punch\",\"homely\",\"howled\",\"thighs\",\"theme\",\"paying\",\"shaketh\",\"pies\",\"thickly\",\"Polar\",\"baking\",\"Bursal\",\"Council\",\"Jobab\",\"Cold\",\"remaineth\",\"telling\",\"Equator\",\"ease\",\"bowsman\",\"rigged\",\"implied\",\"merchantmen\",\"serious\",\"indignity\",\"few\",\"estate\",\"cloven\",\"stirre\",\"sharp\",\"solidly\",\"warn\",\"Nebo\",\"beans\",\"rehearsed\",\"parade\",\"worship\",\"grandsons\",\"swords\",\"mob\",\"crash\",\"Can\",\"scorch\",\"redness\",\"manifold\",\"spears\",\"Could\",\"stories\",\"end\",\"tenons\",\"guessed\",\"111\",\"border\",\"Almighty\",\"David\",\"quadruped\",\"flickering\",\"expenses\",\"wont\",\").\",\"weepe\",\"Inspector\",\"barely\",\"false\",\"unhappiness\",\"carpenters\",\"Castle\",\"Certain\",\"harden\",\"Herr\",\"doubled\",\"mysterious\",\"wholsome\",\"belong\",\"Potomac\",\"frequent\",\"prepared\",\"revealed\",\"Dry\",\"hygienic\",\"utmost\",\"endeavors\",\"exalted\",\"stoop\",\"begins\",\"swimming\",\"follies\",\"commanding\",\"ointment\",\"liberal\",\"procedure\",\"Eshtemoa\",\"railing\",\"communicated\",\"raspberries\",\"pots\",\"spoke\",\"sideways\",\"spoken\",\"interruption\",\"lecture\",\"exchanged\",\"pack\",\"steep\",\"still\",\"reasonably\",\"yawning\",\"\\\",\",\"impressions\",\"ideas\",\"diseas\",\"shortened\",\"happening\",\"reverence\",\"peals\",\"stained\",\"fibre\",\"rows\",\"cumbrous\",\"rearing\",\"exertions\",\"dishes\",\"pavements\",\"half\",\"dirge\",\"exploit\",\"here\",\"Benaiah\",\"leprosy\",\"Eliezer\",\"spare\",\"goes\",\"uncircumcised\",\"AS\",\"Cumberland\",\"hempen\",\"storms\",\"soften\",\"hedges\",\"overseer\",\"abuse\",\"Gentlemen\",\"Larkins\",\"sleeper\",\"i\",\"astonishing\",\"Millo\",\"omit\",\"scientist\",\"convulsive\",\"Ha\",\"elusive\",\"growes\",\"stricken\",\"violence\",\"vehemence\",\"studded\",\"Hartfield\",\"arresting\",\"standest\",\"Og\",\"pomegranate\",\"Helez\",\"stand\",\"avails\",\"sinner\",\"foreseen\",\"blood\",\"flowed\",\"admiring\",\"29\",\"surveying\",\"brood\",\"conceive\",\"oddity\",\"gainst\",\"Weave\",\"bringest\",\"couch\",\"blanket\",\"sends\",\"corresponding\",\"Leicester\",\"spear\",\"doesn\",\"sevenpence\",\"gleaming\",\"treason\",\"Pompey\",\"_we_\",\"contrasting\",\"blinking\",\"wormwood\",\"pages\",\"journalist\",\"pocket\",\"wisest\",\"grinning\",\"pantomime\",\"hoisting\",\"sallied\",\"Duly\",\"Shebaniah\",\"rejoicing\",\"Half\",\"dreams\",\"smiling\",\"receiving\",\"Cause\",\"well\",\"triumphantly\",\"intentions\",\"surpassed\",\"rockets\",\"cheers\",\"Beare\",\"child\",\"vials\",\"chusing\",\"Christopher\",\"bitten\",\"outlines\",\"Hand\",\"destroying\",\"perfumed\",\"liable\",\"authorities\",\"Shark\",\"baggage\",\"Eve\",\"Live\",\"arched\",\"emotion\",\"Edomite\",\"Excellent\",\"envying\",\"nettles\",\"mode\",\"pitied\",\"developed\",\"victory\",\"another\",\"publish\",\"former\",\"betimes\",\"endured\",\"Eber\",\"Jackal\",\"avoid\",\"hints\",\"righteous\",\"encountering\",\"walkest\",\"section\",\"y\",\"turne\",\"Michael\",\"smoothed\",\"girth\",\"tendeth\",\"engine\",\"lustre\",\"Fox\",\"Martins\",\"flames\",\"haven\",\"grape\",\"smitten\",\"Town\",\"trusteth\",\"shattered\",\"Dunstable\",\"mess\",\"pint\",\"ascended\",\"land\",\"Greet\",\"9\",\"carcases\",\"unsuspicious\",\"ruled\",\"100\",\"Sense\",\"highth\",\"interrupting\",\"fragrance\",\"signet\",\"challenge\",\"ingratitude\",\"simplicity\",\"mourn\",\"lightnings\",\"flint\",\"76\",\"Malc\",\"buck\",\"BOOK\",\"shoals\",\"Ireland\",\"cherry\",\"foot\",\"gradual\",\"eras\",\"reserving\",\"Lion\",\"Alexander\",\"gleams\",\"Spirits\",\"acre\",\"ago\",\"rhyme\",\"apply\",\"dazzle\",\"cursed\",\"scribes\",\"naughty\",\"Consequently\",\"absorbed\",\"exultingly\",\"superstition\",\"diseased\",\"recall\",\"heath\",\"port\",\"belt\",\"pipe\",\"controversy\",\"Manet\",\"unwilling\",\"practise\",\"cupboard\",\"Yea\",\"bandaged\",\"Crow\",\"finished\",\"Bull\",\"Joseph\",\"proves\",\"Paris\",\"croquet\",\"hoar\",\"sailed\",\"shrinking\",\"distressing\",\"All\",\"spoutings\",\"planks\",\"Boaz\",\"Arch\",\"teaches\",\"regarding\",\"suffering\",\"forgiving\",\"swing\",\"Comrades\",\"Marianne\",\"passenger\",\"burne\",\"hilarious\",\"dilate\",\"straightway\",\"cough\",\"Rabshakeh\",\"defects\",\"coxcomb\",\"incompatible\",\"Amaziah\",\"lessons\",\"grasshopper\",\"atmospheres\",\"outlaw\",\"barefoot\",\"cocoa\",\"113\",\"onward\",\"Nimshi\",\"ire\",\"mercy\",\"Stubb\",\"enclosing\",\"stuffe\",\"completely\",\"Norwey\",\"Gomorrah\",\"wentest\",\"dismall\",\"ruling\",\"Meraioth\",\"sanctity\",\"whore\",\"admires\",\"women\",\"Clouds\",\"Forthwith\",\"verses\",\"oddly\",\"balances\",\"prevailed\",\"Tyre\",\"respective\",\"diligence\",\"used\",\"ho\",\"refuge\",\"hymns\",\"rocky\",\"hoofs\",\"requisite\",\"certificate\",\"didst\",\"criminal\",\"Very\",\"91\",\"righteousness\",\"burdensome\",\"placed\",\"presse\",\"Banquo\",\"discontented\",\"imperfect\",\"fittest\",\"Baalah\",\"mariner\",\"secretly\",\"Tempter\",\"scotcher\",\"tackle\",\"reeled\",\"Always\",\"Bab\",\"whither\",\"inquisitive\",\"prevailing\",\"monotonous\",\"Hodges\",\"Palmers\",\"A\",\"requested\",\"sole\",\"Bukki\",\"flourish\",\"lbs\",\"limited\",\"MAN\",\"clustering\",\"!\",\"bothered\",\"greenness\",\"fifteenth\",\"disasters\",\"shortly\",\"abstinence\",\"communicating\",\"kinder\",\"remainder\",\"virgins\",\"Alps\",\"man\",\"diamond\",\"Frank\",\"quicker\",\"forte\",\"ould\",\"inexhaustible\",\"captured\",\"Laer\",\"swimmer\",\"block\",\"bank\",\"example\",\"gash\",\"access\",\"148\",\"Lost\",\"boughs\",\"hail\",\"practical\",\"choking\",\"pageants\",\"memory\",\"trifling\",\"cash\",\"distracted\",\"indifference\",\"Shittim\",\"Mount\",\"basons\",\"indescribable\",\"throne\",\"playing\",\"thereto\",\"hourly\",\"roots\",\"Trumpet\",\"Sadducees\",\"Caius\",\"lookes\",\"entrances\",\"16\",\"Faithful\",\"counterpane\",\"Kenaz\",\"peculiar\",\"fourth\",\"hurrying\",\"defeat\",\"Balak\",\"spacious\",\"governess\",\"gnawing\",\"brief\",\"conferred\",\"superscription\",\"elm\",\"houre\",\"Waves\",\"Nevertheless\",\"Caesarea\",\"Any\",\"ghost\",\"ruins\",\"destroy\",\"lee\",\"lengthened\",\"regard\",\"destruction\",\"vnfold\",\"tane\",\"Gardens\",\"ran\",\"casts\",\"thanke\",\"Carteret\",\"indubitable\",\"humor\",\"curiously\",\"cod\",\"Vision\",\"smothered\",\"responding\",\"glow\",\"purchase\",\"Goliath\",\"grieve\",\"urgent\",\"assert\",\"Shore\",\"break\",\"luckily\",\"allusion\",\"flies\",\"hailing\",\"Lords\",\"systematically\",\"job\",\"splendid\",\"Tyrants\",\"meaningless\",\"Otto\",\"gone\",\"?\\\"\",\"justly\",\"maxim\",\"mightier\",\"cosmos\",\"displays\",\"cared\",\"godmother\",\"quantity\",\"nodding\",\"driver\",\"Aha\",\"suicide\",\"blessings\",\"uncle\",\"THERE\",\"Created\",\"Tahath\",\"Keep\",\"instantly\",\"chaff\",\"hive\",\"preserved\",\"share\",\"impart\",\"Quick\",\"Taylor\",\"confident\",\"inheritance\",\"radiant\",\"multiform\",\"shouldest\",\"choked\",\"sympathize\",\"dwelt\",\"horrid\",\"sweare\",\"refrained\",\"Bethaven\",\"meaning\",\"scripture\",\"beg\",\"proofe\",\"Curious\",\"convincing\",\"Seas\",\"BOY\",\"imparted\",\"Steeles\",\"lamb\",\"jib\",\"castle\",\"Obadiah\",\"sketch\",\"fascinating\",\"Thieves\",\"notice\",\"accused\",\"contract\",\"ill\",\"conceited\",\"expiring\",\"solicited\",\"questions\",\"Start\",\"Sophia\",\"sight\",\"leaps\",\"Mesopotamia\",\"advocate\",\"Barnardo\",\"cells\",\"brings\",\"office\",\"probable\",\"crush\",\"socks\",\"abolish\",\"hung\",\"top\",\"awful\",\"oil\",\"colds\",\"regal\",\"pleaseth\",\"oneself\",\"infernal\",\"agency\",\"portraits\",\"gospel\",\"suspense\",\"surely\",\"paragraph\",\"giuen\",\"tunes\",\"pleasure\",\"ignorant\",\"Story\",\"oxen\",\"stake\",\"Jem\",\"Hirsch\",\"went\",\"Grope\",\"woody\",\"Elias\",\"officials\",\"comfortably\",\"impious\",\"Englishman\",\"court\",\"thumbs\",\"too\",\"plentiful\",\"or\",\"psaltery\",\"Uz\",\"crows\",\"Bachelor\",\"gallons\",\"admirably\",\"Samaritans\",\"wayfaring\",\"attached\",\"noon\",\"reference\",\"build\",\"greet\",\"labour\",\"carols\",\"semicircle\",\"Strathspey\",\"present\",\"helper\",\"positively\",\"dazzling\",\"liuing\",\"Gresham\",\"planning\",\"Him\",\"creed\",\"odours\",\"dazed\",\"dread\",\"calmer\",\"clave\",\"hips\",\"rush\",\"blades\",\"mellow\",\"tree\",\"pig\",\"inaccessible\",\"neglect\",\"dance\",\"hint\",\"pavement\",\"behaviour\",\"Stygian\",\"repeat\",\"keenly\",\"justified\",\"swears\",\"Waiting\",\"copious\",\"immense\",\"statement\",\"stain\",\"shock\",\"altered\",\"tokens\",\"disgust\",\"spoons\",\"seizure\",\"less\",\"Enan\",\"portrait\",\"hoist\",\"Kedesh\",\"louder\",\"dally\",\"islet\",\"alertness\",\"struggles\",\"beforehand\",\"shut\",\"stiffnecked\",\"contains\",\"ark\",\"more\",\"commanders\",\"reap\",\"innocently\",\"just\",\"peeled\",\"arctic\",\"music\",\"phase\",\"goest\",\"abyss\",\"slimy\",\"Zurishaddai\",\"improvements\",\"attributing\",\"offices\",\"slaughter\",\"armourbearer\",\"advice\",\";)\",\"Aloud\",\"ministers\",\"varieties\",\"recesses\",\"growths\",\"feelings\",\"clap\",\"fellows\",\"repented\",\"certainly\",\"pitcher\",\"Aside\",\"discomfited\",\"musical\",\"unreasonably\",\"tore\",\"rubber\",\"shoved\",\"diversion\",\"vista\",\"comic\",\"strains\",\"atheist\",\"lucre\",\"sufferings\",\"Pigeon\",\"immortality\",\"Sword\",\"uncertainty\",\"shining\",\"Lamb\",\"Seed\",\"ridicule\",\"Alabama\",\"assured\",\"spontaneous\",\"Rimmon\",\"taught\",\"loops\",\"doom\",\"greeting\",\"intercourse\",\"ah\",\"appetite\",\"tithes\",\"article\",\"undertake\",\"Conscience\",\"Amalek\",\"night\",\"dine\",\"human\",\"Cursed\",\"foremast\",\"tasting\",\"Eyes\",\"Judges\",\"fie\",\"politics\",\"dexterous\",\"refinement\",\"though\",\"phantom\",\"threshingfloor\",\"sweeping\",\"103\",\"warming\",\"fluttered\",\"toes\",\"Moreover\",\"files\",\"contend\",\"fact\",\"submission\",\"pockets\",\"unbelief\",\"spoilt\",\"ensue\",\"descent\",\"Ner\",\"lilies\",\"twelue\",\"whoso\",\"hue\",\"delicious\",\"vehicles\",\"dripping\",\"other\",\"rending\",\"gravel\",\"dearth\",\"Gershom\",\"Octauius\",\"Pass\",\"Welcome\",\"pushed\",\"retreats\",\"eunuch\",\"Bar\",\"established\",\"reaching\",\"Elkanah\",\"rustling\",\"apprehended\",\"cockade\",\"rounds\",\"dying\",\"ardent\",\"Creation\",\"Honor\",\"US\",\"Stage\",\"flesh\",\"weapon\",\"broidered\",\"Gemariah\",\"backward\",\"despatch\",\"threes\",\"proclamation\",\"findes\",\"policemen\",\"valleys\",\"treatment\",\"95\",\"plaited\",\"Sennacherib\",\"upon\",\"crowded\",\"groans\",\"pricked\",\"lie\",\"forecastle\",\"width\",\"today\",\"Lower\",\"rouse\",\"Merlin\",\"143\",\"derive\",\"Book\",\"Kadmiel\",\"amongst\",\"desolation\",\"accidentally\",\"vehicle\",\"er\",\"thrush\",\"bat\",\"thoughtful\",\"after\",\"sepulchre\",\"Here\",\"Ethereal\",\"frozen\",\"millstone\",\"ourselves\",\"slime\",\"Indian\",\"chastise\",\"pangs\",\"stationed\",\"stifled\",\"area\",\"honeycomb\",\"Easy\",\"brooks\",\"46\",\"50\",\"prove\",\"grove\",\"inhabited\",\"try\",\"Thanes\",\"Sarai\",\"willingly\",\"loue\",\"Dutch\",\"hour\",\"streamed\",\"minister\",\"decisive\",\"hovering\",\"Malcolme\",\"confound\",\"stammered\",\"singed\",\"bolder\",\"architect\",\"kiss\",\"wrestled\",\"tanner\",\"Naamah\",\"Songs\",\"Pennsylvania\",\"133\",\"giveth\",\"feat\",\"Ocran\",\"affliction\",\"thundered\",\"Read\",\"unsuitable\",\"attends\",\"elves\",\"lettuce\",\"36\",\"runs\",\"Police\",\"daughters\",\"mark\",\"prepossession\",\"jeopardy\",\"Pit\",\"hearty\",\"kite\",\"flame\",\"bleed\",\"humid\",\"cloudy\",\"Zacharias\",\"festival\",\"wicker\",\"opaque\",\"interpretation\",\"twitched\",\"management\",\"sadly\",\"parents\",\"strawberry\",\"convert\",\"babe\",\"delighted\",\"delivered\",\"Gilead\",\"Westgate\",\"27\",\"denounce\",\"consciously\",\"quench\",\"lumber\",\"thunderings\",\"abode\",\"planteth\",\"competent\",\"eight\",\"Jane\",\"mentioning\",\"star\",\"piteous\",\"gathereth\",\"cook\",\"intreated\",\"shabby\",\"moderate\",\"Franklin\",\"compliments\",\"Chebar\",\"Somerville\",\"income\",\"kindred\",\"pulpit\",\"Shew\",\"withdrawing\",\"paradise\",\"barbarous\",\"respects\",\"Lotan\",\"imposing\",\"tropical\",\"astonishment\",\"sexes\",\"robin\",\"commonplace\",\"contrition\",\"recollected\",\"squares\",\"kisses\",\"tempestuous\",\"doings\",\"inmost\",\"HAS\",\"ribands\",\"astonish\",\"59\",\"languages\",\"entrance\",\"disgusted\",\"Jeremoth\",\"meanings\",\"ankles\",\"HERE\",\"empyrean\",\"Drake\",\"TALBOT\",\"Whales\",\"smells\",\"ripen\",\"benefit\",\"cleverer\",\"sportsman\",\"Harbor\",\"Yorkshire\",\"operations\",\"Tirzah\",\"portly\",\"Germany\",\"affecting\",\"grief\",\"rarely\",\"stamp\",\"whence\",\"defeats\",\"reminiscence\",\"bridal\",\"returneth\",\"cycles\",\"adversaries\",\"fearest\",\"provoking\",\"endureth\",\"shrouded\",\"muscles\",\"Kidd\",\"wakeful\",\"incorporate\",\"drawing\",\"Malvoli\",\"terror\",\"tending\",\"noise\",\"drain\",\"composed\",\"plow\",\"Durand\",\"coils\",\"buttons\",\"per\",\"larger\",\"attended\",\"deepe\",\"purifying\",\"Graues\",\"mariners\",\"regiment\",\"maker\",\"vesture\",\"dismay\",\"independence\",\"Walt\",\"murmured\",\"a\",\"Ashtaroth\",\"LUCK\",\"name\",\"desk\",\"Thought\",\"Falling\",\"Serpent\",\"avenues\",\"Farmer\",\"affording\",\"containing\",\"blows\",\"salted\",\"continuance\",\"Gall\",\"owe\",\"consider\",\"gayly\",\"temporarily\",\"tooke\",\"archers\",\"constantly\",\"consistency\",\"_he_\",\"unwise\",\"missing\",\"Small\",\"event\",\"saint\",\"Maker\",\"correctly\",\"suspended\",\"Teach\",\"beauties\",\"bony\",\"population\",\"wooden\",\"Wonderful\",\"lights\",\"cleanness\",\"Daisy\",\"deaf\",\"eldest\",\"clenched\",\"Ludgate\",\"hated\",\"midwives\",\"141\",\"pioneer\",\"Babe\",\"Thither\",\"leading\",\"conqueror\",\"sinks\",\"bowls\",\"therefore\",\"Horatio\",\"tabernacles\",\"oar\",\"despiseth\",\"Tent\",\"assuming\",\"ballad\",\"meant\",\"odorous\",\"fares\",\"element\",\"selling\",\"applying\",\"V\",\"guile\",\"unwholesome\",\"tropic\",\"Papa\",\"distribute\",\"journeyed\",\"waits\",\"jealousies\",\"crazed\",\"surnamed\",\"damnable\",\"pull\",\"kneeled\",\"rag\",\"blot\",\"Pip\",\"incomparable\",\"soberly\",\"hyssop\",\"splendour\",\"Foundation\",\"dy\",\"mostly\",\"privileges\",\"wax\",\"cleanse\",\"fine\",\"neere\",\"sports\",\"terrify\",\"dwelling\",\"Manchon\",\"softest\",\"copied\",\"carriage\",\"Timothy\",\"Pool\",\"vivacious\",\"Matthew\",\"Philistine\",\"lungs\",\"ceased\",\"floors\",\"follows\",\"Thankes\",\"crooked\",\"Meets\",\"tankard\",\"ether\",\"communicate\",\"feares\",\"Ill\",\"flowing\",\"Pour\",\"solemnity\",\"yawn\",\"glare\",\"transom\",\"roast\",\"Somehow\",\"outgoings\",\"blessing\",\"unnoticed\",\"kneeling\",\"snuffed\",\"ancient\",\"fields\",\"Evil\",\"floating\",\"menacing\",\"conceiving\",\"retreated\",\"c\",\"swinging\",\"consort\",\"Cottage\",\"damned\",\"contentious\",\"reporter\",\"Olives\",\",'\\\"\",\"136\",\"fraud\",\"opera\",\"woes\",\"Drugger\",\"craft\",\"denying\",\"hunger\",\"beaming\",\"jokes\",\"confronted\",\"villains\",\"assembly\",\"evidence\",\"pallor\",\"matches\",\"shy\",\"riding\",\"propriety\",\"concern\",\"shun\",\"Graces\",\"mount\",\"proposals\",\"disappointment\",\"Captain\",\"kidneys\",\"hauing\",\"castaways\",\"planted\",\"Ben\",\"Sleep\",\"immediate\",\"goods\",\"joys\",\"leaning\",\"Street\",\"shineth\",\"seeming\",\"spar\",\"Mansion\",\"Inside\",\"Hamlet\",\"appeareth\",\"zealous\",\"simpleton\",\"Boys\",\"note\",\"_The\",\"Offer\",\"shoemaker\",\"134\",\"Leviathans\",\"recollecting\",\"baptize\",\"GREAT\",\"song\",\"Henrietta\",\"veins\",\"track\",\"ostensible\",\"Bishop\",\"emerods\",\"Binnui\",\"re\",\"Dare\",\"frosty\",\"setteth\",\"Peleg\",\"Rejoice\",\"sprinkled\",\"Rosetta\",\"heels\",\"galloping\",\"spouting\",\"secured\",\"pleas\",\"countenances\",\"services\",\"walking\",\"hell\",\"Save\",\"asses\",\"Often\",\"evening\",\"pottage\",\"dint\",\"Mouse\",\"details\",\"If\",\"Salute\",\"mischievous\",\"Author\",\"Hamlets\",\"imparts\",\"newest\",\"condescend\",\"ALL\",\"defend\",\"Hawkins\",\"declares\",\"caress\",\"than\",\"announcing\",\"blunder\",\"listening\",\"Businesse\",\"short\",\"chance\",\"miserable\",\"Starre\",\"dragging\",\"uncover\",\"Hivites\",\",\\\"\",\"wondrous\",\"NO\",\"searching\",\"pot\",\"HAVE\",\"exercise\",\"thorough\",\"Jehoiada\",\"ambitious\",\"armoury\",\"shriek\",\"inequality\",\"mustard\",\"inconstancy\",\"enduring\",\"toll\",\"griefe\",\"slung\",\"saddle\",\"horror\",\"cottage\",\"offending\",\"sorrows\",\"Yes\",\"overpowered\",\"plagues\",\"customers\",\"Jehu\",\"Violet\",\"made\",\"happeneth\",\"affect\",\"Lee\",\"whistled\",\"Zephon\",\"Men\",\"aery\",\"expectant\",\"Iscariot\",\"pass\",\"skirt\",\"Silent\",\"mutually\",\"Goshen\",\"peeping\",\"MY\",\"throbbing\",\"knowne\",\"tableaus\",\"chin\",\"injured\",\"doctrines\",\"Horses\",\"Zedekiah\",\"87\",\"detestable\",\"Me\",\"boards\",\"seem\",\"drunkards\",\"Gilboa\",\"chickens\",\"Priests\",\"later\",\"tents\",\"wandered\",\"inventors\",\"lobsters\",\"virtuous\",\"hillside\",\"illness\",\"leak\",\"jocund\",\"strengthened\",\"semi\",\"crept\",\"bowed\",\"smoky\",\"stepping\",\"deeps\",\"concrete\",\"130\",\"shadowing\",\"readily\",\"yoked\",\"masks\",\"routine\",\"wearily\",\"Robert\",\"culture\",\"occupied\",\"buildeth\",\"lavish\",\"eyesight\",\"resuming\",\"broke\",\"Loose\",\"rend\",\"waiting\",\"mild\",\"prodigious\",\"charmed\",\"knotted\",\"stumbling\",\"Butler\",\"Manhattan\",\"day\",\"parts\",\"verily\",\"Revolution\",\"exclamation\",\"demand\",\"Cook\",\"weights\",\"healed\",\"Saturn\",\"pomegranates\",\"skirts\",\"II\",\"Blast\",\"West\",\"rulers\",\"Ontario\",\"Dan\",\"potency\",\"custom\",\"THEN\",\"Leonora\",\"vehemently\",\"meagre\",\"declare\",\"coming\",\"rightly\",\"descend\",\"hesitating\",\"Did\",\"dared\",\"favourable\",\"stunning\",\"calmness\",\"Belial\",\"spectators\",\"leads\",\"Fashion\",\"comparative\",\"Gogol\",\"Sister\",\"Doth\",\"occupation\",\"attentions\",\"assuring\",\"taint\",\"sicke\",\"ninth\",\"companionship\",\"adhesiveness\",\"grasping\",\"pinnacles\",\"gangway\",\"Lawrence\",\"swayed\",\"flour\",\"manifestation\",\"hast\",\"resting\",\"Sweet\",\"shelf\",\"fabled\",\"Towards\",\"Ethiopian\",\"stop\",\"duplicate\",\"enjoying\",\"Esq\",\"Cease\",\"perilous\",\"finest\",\"leaue\",\"airy\",\"Angus\",\"drown\",\"drench\",\"frigate\",\"ascribe\",\"hemm\",\"sojourneth\",\"weak\",\"subscribe\",\"solemnly\",\"corruption\",\"darkening\",\"marches\",\"sparrow\",\"Nebuchadrezzar\",\"sees\",\"passive\",\"Mr\",\"HIS\",\"overturn\",\"Rising\",\"Assir\",\"Gehazi\",\"contrasted\",\"fired\",\"hemlock\",\"camps\",\"Also\",\"centuries\",\"tumbler\",\"creatures\",\"liberality\",\"chanted\",\"repetition\",\"sunder\",\"foreseeing\",\"address\",\"girded\",\"prosperous\",\"strode\",\"founder\",\"nailed\",\"stranded\",\"poured\",\"gratis\",\"besieged\",\"martial\",\"called\",\"sieve\",\"withdrew\",\"leg\",\"nine\",\"stays\",\"bows\",\"possession\",\"Road\",\"Black\",\"rice\",\"persuade\",\"settle\",\"Macd\",\"secrets\",\"quire\",\"endued\",\"gravity\",\"During\",\"defiled\",\"significance\",\"booths\",\"sailor\",\"clefts\",\"Harriet\",\"Parosh\",\"Place\",\"Go\",\"Parsee\",\"Seeing\",\"colour\",\"roared\",\"beckoned\",\"persecution\",\"minding\",\"Coxes\",\"youthful\",\"melt\",\"drew\",\"myriad\",\"racing\",\"mar\",\"owners\",\"garret\",\"eternall\",\"tapering\",\"delights\",\"walnut\",\"threw\",\"rousing\",\"comforted\",\"truth\",\"phantoms\",\"Scotchman\",\"hands\",\",\",\"thanks\",\"wot\",\"scorching\",\"**\",\"theories\",\"chiefest\",\"Amid\",\"distinguishing\",\"observed\",\"performed\",\"humbled\",\"Columbia\",\"proceedeth\",\"Rabbi\",\"deer\",\"command\",\"loins\",\"tyranny\",\"Jephthah\",\"vexed\",\"Japan\",\"look\",\"Answerest\",\"columns\",\"arrangement\",\"wanting\",\"valet\",\"empyreal\",\"shooting\",\"Fla\",\"wouldst\",\"Ophrah\",\"enterprize\",\"Leaves\",\"we\",\"improbable\",\"Obey\",\"wrenched\",\"adopted\",\"conduct\",\"Titus\",\"bowling\",\"Grant\",\"residue\",\"failure\",\"thief\",\"diminish\",\"swear\",\"cliff\",\"drawled\",\"Makkedah\",\"Back\",\"unprincipled\",\"Carmel\",\"deafening\",\"strokes\",\"uncles\",\"nap\",\"Bethlehem\",\"Megiddo\",\"Tubal\",\"guests\",\"idle\",\"dove\",\"apparition\",\"released\",\"army\",\"neyther\",\"ends\",\"researches\",\"brimmed\",\"Maachah\",\"clean\",\"Shammah\",\"glimmer\",\"Ear\",\"feared\",\"revolt\",\"supposes\",\"Spring\",\"reproachfully\",\"plot\",\"knees\",\"bubbles\",\"fray\",\"Kanada\",\"started\",\"WHALING\",\"weighed\",\"connected\",\"hap\",\"glee\",\"Must\",\"aunt\",\"soever\",\"republican\",\"sanctification\",\"market\",\"thinkest\",\";\\\"\",\"79\",\"Rossmore\",\"Josedech\",\"our\",\"Taunton\",\"wind\",\"VERY\",\"coolness\",\"murky\",\"landscape\",\"travail\",\"Jew\",\"ape\",\"Ple\",\"morals\",\"Mountain\",\"Napoleon\",\"generation\",\"expansive\",\"frigid\",\"curses\",\"sinister\",\"democratic\",\"submerged\",\"Emperors\",\"difficult\",\"battledore\",\"beard\",\"preparing\",\"tempest\",\"salute\",\"tricks\",\"amount\",\"orchestra\",\"overheard\",\"companies\",\"work\",\"lodgings\",\"revealing\",\"resolved\",\",\\\"--\",\"prowess\",\"appeal\",\"parley\",\"nightmare\",\"THEY\",\"certify\",\"Hananiah\",\"clamour\",\"schooling\",\"Gladly\",\"ancients\",\"robber\",\"careth\",\"volley\",\"Beriah\",\"material\",\"devout\",\"city\",\"infirmities\",\"durable\",\"scan\",\"chairs\",\"stacks\",\"rascal\",\"Carmi\",\"building\",\"Year\",\"Diuell\",\"patriot\",\"?'\",\"Grand\",\"handsomest\",\"applications\",\"Mahanaim\",\"wiles\",\"miserably\",\"suspected\",\"Gideon\",\"melteth\",\"Omri\",\"government\",\"rays\",\"debt\",\"trash\",\"Art\",\"evident\",\"dismayed\",\"depressing\",\"approved\",\"Isaiah\",\"education\",\"surmise\",\"egg\",\"decease\",\"multiply\",\"treasuries\",\"Pedaiah\",\"treacherous\",\"blocked\",\"CHAPTER\",\"beef\",\"arrogant\",\"trees\",\"dreaming\",\"meal\",\"Eternity\",\"heareth\",\"awoke\",\"oppress\",\"meere\",\"perfectly\",\"hitherto\",\"contained\",\"paid\",\"original\",\"footmen\",\"leeward\",\"wood\",\"defileth\",\"swearing\",\"ignorantly\",\"Talmon\",\"interpret\",\"losses\",\"waxen\",\"abolished\",\"ledges\",\"Marquis\",\"wedged\",\"new\",\"robe\",\"Lazarus\",\"tides\",\"relating\",\"thinkers\",\"ogre\",\"perhaps\",\"pays\",\"apology\",\"prints\",\"secluded\",\"milk\",\"resound\",\"periods\",\"exclaim\",\"leaving\",\"pasture\",\"hopes\",\"unwelcome\",\"birthright\",\"guides\",\"peece\",\"steady\",\"Crab\",\"apiece\",\"engagement\",\"warfare\",\"Nahash\",\"glasses\",\"neerer\",\"Abyss\",\"him\",\"litter\",\"grammar\",\"longitude\",\"ex\",\"Wide\",\"indication\",\"porch\",\"airs\",\"fortify\",\"estimation\",\"sooth\",\"sparingly\",\"confinement\",\"olive\",\"Obededom\",\"visit\",\"admirer\",\"seams\",\"deplorable\",\"Hattush\",\"impartial\",\"headsman\",\"portents\",\"winked\",\"husks\",\"Cabaco\",\"stool\",\"precedence\",\"anvil\",\"younger\",\"Honour\",\"Short\",\"wharf\",\"captain\",\"BROWN\",\"nigh\",\"30\",\"consisting\",\"commonest\",\"Does\",\"nevertheless\",\"woman\",\"writer\",\"brotherhood\",\"Equal\",\"do\",\"characteristic\",\"foil\",\"sob\",\"requires\",\"depart\",\"headsmen\",\"unmanageable\",\"3\",\"stalwart\",\"bachelor\",\"committeth\",\"stature\",\"dreamy\",\"seated\",\"desolate\",\"waistcoat\",\"creeds\",\"Whaling\",\"dangerous\",\"paintings\",\"goings\",\"Knightleys\",\"managed\",\"gaiety\",\"labouring\",\"temptation\",\"casement\",\"religion\",\"physicians\",\"bid\",\"prouder\",\"philosophic\",\"spine\",\"ally\",\"sighted\",\"methought\",\"steed\",\"ale\",\"provident\",\"atheists\",\"subsequent\",\"classic\",\"encamped\",\"demeanour\",\"better\",\"fills\",\"gives\",\"dictate\",\"collector\",\"ascending\",\"plough\",\"Ruth\",\"corruptible\",\"curious\",\"artless\",\"mortall\",\"windy\",\"goal\",\"vein\",\"reproached\",\"Abidan\",\"scorpions\",\"pathetic\",\"yearning\",\"Whale\",\"composition\",\"dwellings\",\"impatience\",\"Haue\",\"moonlit\",\"courting\",\"covered\",\"spiral\",\"shewed\",\"eyeing\",\"Hart\",\"W\",\"fiend\",\"Ashdod\",\"only\",\"slacken\",\"decree\",\"entertainment\",\"livelihood\",\"unconscious\",\"shrieks\",\"reign\",\"handed\",\"huts\",\"superstitions\",\"shirt\",\"triumphed\",\"hall\",\"repeated\",\"spell\",\"forcible\",\"Uzza\",\"respect\",\"plagued\",\"sweep\",\"47\",\"prop\",\"earring\",\"continued\",\"again\",\"corrupted\",\"learned\",\"jagged\",\"Seraphim\",\"livest\",\"fought\",\"strengtheneth\",\"constancy\",\"fins\",\"deceiving\",\"sanguine\",\"has\",\"crippled\",\"strolled\",\"found\",\"schools\",\"weep\",\"basin\",\"exiled\",\"Americans\",\"Pendragons\",\"ensigns\",\"infection\",\"Tahpanhes\",\"copper\",\"embrace\",\"calleth\",\"need\",\"rebuke\",\"life\",\"Part\",\"Seymour\",\"chapel\",\"celestial\",\"booty\",\"faculties\",\"forgat\",\"introducing\",\"fame\",\"occasion\",\"Wells\",\"ostentatiously\",\"favoured\",\"Found\",\"limits\",\"horsemen\",\"trieth\",\"VIII\",\"Aquila\",\"burglar\",\"generally\",\"hinted\",\"threaten\",\"Massa\",\"Pharisees\",\"unexpected\",\"neighbor\",\"Deliver\",\"adder\",\"vanishing\",\"Greece\",\"examine\",\"Ages\",\"nursing\",\"corporeal\",\"Hayter\",\"absurdity\",\"sleeps\",\"crossed\",\"smallness\",\"allegory\",\"endeavor\",\"apples\",\"Greybeards\",\"Sit\",\"Watson\",\"freeze\",\"date\",\"gaining\",\"corpusants\",\"blunders\",\"squalls\",\"fail\",\"Samuel\",\"72\",\"tender\",\"Driven\",\"Achor\",\"1\",\"handled\",\"enough\",\"tilted\",\"pence\",\"traveller\",\"Offices\",\"marine\",\"lovers\",\"pinioned\",\"met\",\"prosaic\",\"Orion\",\"cocked\",\"cheered\",\"dreadfull\",\"presence\",\"parched\",\"adamantine\",\"gate\",\"themes\",\"fanciful\",\"ranged\",\"gushed\",\"explore\",\"baffling\",\"private\",\"foe\",\"bully\",\"distances\",\"humouredly\",\"socket\",\"others\",\"hull\",\"endlessly\",\"Superiour\",\"peg\",\"church\",\"badgers\",\"Benhadad\",\"mildness\",\"aliue\",\"tenement\",\"usually\",\"steak\",\"wonderous\",\"Shema\",\"clouds\",\"speech\",\"Jordan\",\"seru\",\"embraced\",\"imprisoned\",\"lilacs\",\"respectfully\",\"builders\",\"survive\",\"forming\",\"chaps\",\"absorb\",\"negligent\",\"trample\",\"raving\",\"riddle\",\"accord\",\"voyce\",\"centre\",\"Canaan\",\"utter\",\"Phoo\",\"WANT\",\"meaneth\",\"envelope\",\"intrepid\",\"Clitus\",\"Rome\",\"Damascus\",\"gills\",\"mules\",\"cell\",\"style\",\"tent\",\"morsel\",\"Even\",\"assist\",\"martyrs\",\"Cabin\",\"waking\",\"whirlpool\",\"Descend\",\"sycomore\",\"hart\",\"goeth\",\"splash\",\"interesting\",\"Jabeshgilead\",\"minute\",\"strong\",\"Giue\",\"intervening\",\"virginity\",\"Not\",\"breaths\",\"stopping\",\"Fairfax\",\"planet\",\"poring\",\"grandmother\",\"stunned\",\"faintest\",\"mercies\",\"begin\",\"cloths\",\"symptoms\",\"coasts\",\"watchful\",\"suitable\",\"abandoned\",\"_not_\",\"gilded\",\"exclamations\",\"thither\",\"Mahli\",\"blush\",\"age\",\"Daniel\",\"filigree\",\"Thirty\",\"Esther\",\"Athaliah\",\"exclude\",\"VOYAGE\",\"amply\",\"nurse\",\"Adullam\",\"crashing\",\"reminded\",\"chained\",\"deals\",\"diffuse\",\"oliveyards\",\"impute\",\"valiant\",\"relatives\",\"Giving\",\"di\",\"plaster\",\"and\",\"congratulated\",\"besides\",\"liveliness\",\"candid\",\"perverseness\",\"Tongue\",\"Pharisee\",\"Achaia\",\"perfect\",\"feathered\",\"correction\",\"vile\",\"adorn\",\"navel\",\"perverted\",\"shuttle\",\"know\",\"Antarctic\",\"insulting\",\"accumulated\",\"pleasantly\",\"ribbons\",\"Sun\",\"fortitude\",\"melon\",\"throat\",\"owed\",\"glimpses\",\"Mrs\",\"untouched\",\"clown\",\"Celtic\",\"brake\",\"indisputable\",\"Mordecai\",\"prophesied\",\"FATHER\",\"questioned\",\"no\",\"demoniac\",\"limbs\",\"traditions\",\"landscapes\",\"lashes\",\"sup\",\"cease\",\"indisposition\",\"combatants\",\"Greco\",\"Nay\",\"traps\",\"Croker\",\"darts\",\"Heavenly\",\"weaver\",\"Without\",\"yet\",\"longsuffering\",\"inaudible\",\"tabrets\",\"Nile\",\"sweating\",\"throbs\",\"bats\",\"oppression\",\"Naioth\",\"beloved\",\"hearing\",\"thanked\",\"couldn\",\"foorth\",\"freed\",\"founded\",\"Sire\",\"costliest\",\"selfsame\",\"Speech\",\"Nabal\",\"clime\",\"m\",\"leade\",\"clang\",\"granite\",\"make\",\"liu\",\"potatoes\",\"quill\",\"familiar\",\"pins\",\"Asahel\",\"vnder\",\"edify\",\"professing\",\"swore\",\"grim\",\"train\",\"subtlest\",\"Jupiter\",\"paradox\",\"eruption\",\"Sanballat\",\"disregard\",\"already\",\"inspire\",\"changed\",\"schooner\",\"animals\",\"able\",\"sobs\",\"pleasanter\",\"bloody\",\"gush\",\"Maiesty\",\"Deborah\",\"Observe\",\"adopt\",\"fadeth\",\"apart\",\"eternity\",\"distrustful\",\"witty\",\"tall\",\"refuses\",\"minor\",\"pardoned\",\"signe\",\"unwittingly\",\"Is\",\"Heber\",\"Abimelech\",\"seemes\",\"selleth\",\"recompence\",\"Europe\",\"allies\",\"patch\",\"lou\",\"library\",\"silence\",\"encamp\",\"chronicles\",\"tinged\",\"jumping\",\"shore\",\"contribution\",\"prodigy\",\"Gilgal\",\"Kedar\",\"Otherwise\",\"most\",\"knife\",\"swiftness\",\"noonday\",\"Island\",\"Immediately\",\"lusts\",\"bewitching\",\"37\",\"killed\",\"Four\",\"pound\",\"civility\",\"journalism\",\"vices\",\"gales\",\"Jonadab\",\"humbleth\",\"Sorrow\",\"pronouncing\",\"Letter\",\"inure\",\"dat\",\"selected\",\"Finally\",\"deathless\",\"feele\",\"talebearer\",\"Hiram\",\"enclosed\",\"123\",\"that\",\"mightily\",\"spirited\",\"magnifying\",\"Rabbah\",\"Around\",\"Elijah\",\"seaman\",\"nakedness\",\"Accept\",\"van\",\"Sole\",\"stoodest\",\"unharmed\",\"Room\",\"Pharaoh\",\"purse\",\"presently\",\"vex\",\"Jehoash\",\"mirth\",\"Ono\",\"Knocke\",\"drest\",\"uncommonly\",\"mile\",\"horrour\",\"patience\",\"bow\",\"received\",\"females\",\"faileth\",\"master\",\"Elon\",\"car\",\"superfluous\",\"openness\",\"Kanadian\",\"slayeth\",\"disliked\",\"festivals\",\"rationality\",\"rocking\",\"Qu\",\"judgest\",\"Frenchman\",\"31\",\"revolve\",\"Souldier\",\"nearer\",\"WHEELER\",\"humiliation\",\"barricade\",\"evenings\",\"Called\",\"tinkling\",\"sockets\",\"forces\",\"entreated\",\"indeede\",\"aske\",\"sold\",\"squaw\",\"jingling\",\"substance\",\"unanswerable\",\"\\\";\",\"prevent\",\"talking\",\"Tychicus\",\"Chapel\",\"Lucius\",\"late\",\"oft\",\"Japheth\",\"attacking\",\"radish\",\"Anathoth\",\"Shelah\",\"surprised\",\"luck\",\"warmth\",\"magistrate\",\"comeliness\",\"Jebusites\",\"virgin\",\"grandson\",\"rewardeth\",\"pewter\",\"Under\",\"magnitude\",\"disagreeable\",\"time\",\"falling\",\"intuitions\",\"Seest\",\"dost\",\"impenetrable\",\"sum\",\"Usher\",\"station\",\"Neuer\",\"bulky\",\"worthy\",\"Radney\",\"knitted\",\"flow\",\"procure\",\"connecting\",\"earthquake\",\"plead\",\"nothing\",\"unborn\",\"142\",\"eyes\",\"last\",\"contracted\",\"dead\",\"Highbury\",\"attentively\",\"remembereth\",\"Near\",\"Hamath\",\"red\",\"absorbing\",\"Simpson\",\"You\",\"Signor\",\"XVII\",\"judges\",\"disappeared\",\"dispatch\",\"fort\",\"pale\",\"candidates\",\"Saint\",\"bottles\",\"FRENCH\",\"vacantly\",\"solution\",\"Whose\",\"interposed\",\"terrors\",\"nobility\",\"region\",\"boys\",\"disallowed\",\"effectually\",\"separateth\",\"Nights\",\"speechless\",\"Box\",\"inexpressible\",\"privileged\",\"current\",\"Collection\",\"elevated\",\"claws\",\"fitly\",\"diamonds\",\"connections\",\"unchanged\",\"dull\",\"Fell\",\"shaven\",\"infinite\",\"innocency\",\"Succoth\",\"grateful\",\"moved\",\"testified\",\"baptized\",\"hanged\",\"captives\",\"dalliance\",\"guinea\",\"leant\",\"18\",\"frontiers\",\"realised\",\"commonly\",\"cabs\",\"lovest\",\"Render\",\"pleasant\",\"Missouri\",\"midnight\",\"resorted\",\"surging\",\"brilliancy\",\"tin\",\"quivering\",\"hearkened\",\"_I_\",\"worshipper\",\"viper\",\"hardly\",\"report\",\"incurable\",\"posterity\",\"Impossible\",\"swaying\",\"kettle\",\"cripple\",\"le\",\"whipped\",\"Talbot\",\"lunged\",\"throws\",\"overseers\",\"cautiously\",\"shovel\",\"depended\",\"Blacky\",\"Ater\",\"cubits\",\"hearer\",\"worthiest\",\"depressed\",\"workmen\",\"spite\",\"emotional\",\"slapping\",\"rewards\",\"subdue\",\"Titinius\",\"Chaldeans\",\"harme\",\"quicken\",\"throned\",\"Dewdrop\",\"sirs\",\"experiences\",\"topmost\",\"Common\",\"peacock\",\"prevail\",\"spared\",\"masters\",\"narrower\",\"Fear\",\"ruin\",\"plunging\",\"unconsciously\",\"ministry\",\"death\",\"heaving\",\"guess\",\"dusky\",\"flee\",\"Jehoahaz\",\"declaring\",\"addresses\",\"July\",\"commission\",\"affirmed\",\"handspikes\",\"heap\",\"unprecedented\",\"steer\",\"Seal\",\"M\",\"great\",\"civilized\",\"Nigger\",\"MR\",\"darting\",\"defrauded\",\"diffused\",\"blended\",\"unaffected\",\"apple\",\"belongeth\",\"Once\",\"lunatic\",\"Ghosts\",\"harmonious\",\"queen\",\"potato\",\"finally\",\"alas\",\"uncircumcision\",\"rung\",\"echo\",\"endeavouring\",\"budding\",\"77\",\"agonies\",\"guilt\",\"visitor\",\"entry\",\"lurid\",\"winding\",\"depraved\",\"Moab\",\"awed\",\"suffereth\",\"offence\",\"vine\",\"Wherever\",\"supplanted\",\"tulip\",\"mature\",\"domestic\",\"reconciled\",\"whilst\",\"Field\",\"Wilson\",\"sparrows\",\"quick\",\"Meshach\",\"Azmaveth\",\"kindest\",\"Betsy\",\"carpet\",\"delicacies\",\"treading\",\"sulk\",\"be\",\"medical\",\"Palmer\",\"Zuar\",\"combat\",\"Lucil\",\"inferior\",\"Thank\",\"fashioned\",\"indignantly\",\"fellowservant\",\"gunwales\",\"separate\",\"conversations\",\"constable\",\"valuable\",\"paths\",\"signifying\",\"followes\",\"umbrella\",\"burdens\",\"youngest\",\"accent\",\"Drink\",\"Jabin\",\"Madrid\",\"purity\",\"raises\",\"Gowne\",\"pilgrimage\",\"intents\",\"knights\",\"Louisa\",\"scream\",\"promptitude\",\"instincts\",\"avoiding\",\"traced\",\"rise\",\"Thomas\",\"grimly\",\"An\",\"Cask\",\"Ekron\",\"introduction\",\"Makes\",\"Tahiti\",\"somebody\",\"Sub\",\"Meanwhile\",\"fortnight\",\"male\",\"Messenger\",\"bits\",\"affectation\",\"tithe\",\"sapphire\",\"Courage\",\"charts\",\"shaken\",\"isle\",\"accident\",\"cats\",\"Hereby\",\"humility\",\"storehouses\",\"Hindoo\",\"fly\",\"considerably\",\"cinnamon\",\"herbs\",\"key\",\"central\",\"presenting\",\"bowl\",\"policeman\",\"rooms\",\"blade\",\"negroes\",\"ripped\",\"vapoury\",\"remain\",\"Bid\",\"Oman\",\"circuit\",\"seven\",\"bull\",\"visitors\",\"limit\",\"proclaim\",\"raiment\",\"dim\",\"Light\",\"Everything\",\"disputes\",\"die\",\"shivering\",\"noisome\",\"Feare\",\"Tyrant\",\"irons\",\"entrails\",\"wee\",\"don\",\"Years\",\"Eleazar\",\"seeing\",\"forked\",\"proportions\",\"various\",\"hammering\",\"sided\",\"Bank\",\"Ephratah\",\"canopy\",\"skeletons\",\"They\",\"amid\",\"coffin\",\"civilizations\",\"legions\",\"heading\",\"fuse\",\"spermaceti\",\"chastened\",\"expanse\",\"adorned\",\"faithfull\",\"stamped\",\"69\",\"lot\",\"muzzles\",\"Ammihud\",\"workman\",\"senses\",\"Quohog\",\"Blessing\",\"unwell\",\"luggage\",\"Hung\",\"papa\",\"redeeming\",\"Ground\",\"deceitfulness\",\"Phrase\",\"entertained\",\"Iulius\",\"wrote\",\"Mixed\",\"abandon\",\"worldly\",\"sour\",\"consorted\",\"ma\",\"aspirations\",\"World\",\"escaped\",\"Horonaim\",\"stout\",\"hewn\",\"dreaded\",\"Nob\",\"dimensions\",\"active\",\"salad\",\"Nantucketers\",\"oldest\",\"YOUR\",\"Camel\",\"indefinite\",\"cleft\",\"internal\",\"Laish\",\"sets\",\"crest\",\"astern\",\"handwriting\",\"placidity\",\"roam\",\"keys\",\"hatch\",\"ignore\",\"ferry\",\"Roman\",\"strained\",\"variations\",\"firmament\",\"glancing\",\"dam\",\"white\",\"speculation\",\"divers\",\"barred\",\"existed\",\"_his_\",\"mint\",\"satisfying\",\"wreaths\",\"tires\",\"profiteth\",\"balance\",\"circular\",\"idiots\",\"stupidity\",\"000\",\"Bozrah\",\"could\",\"come\",\"dunghill\",\"compared\",\"backbone\",\"bursts\",\"judgments\",\"buckler\",\"haughtiness\",\"withstood\",\"mistress\",\"natural\",\"view\",\"opposition\",\"sunshine\",\"enslaved\",\"Tulip\",\"Malchijah\",\"Shapes\",\"139\",\"Gentiles\",\"Master\",\"foibles\",\"calf\",\"involuntarily\",\"scale\",\"City\",\"buffet\",\"Marriage\",\"envy\",\"chuckled\",\"Twas\",\"rushes\",\"Nathan\",\"trains\",\"Labour\",\"jerk\",\"heavy\",\"parcel\",\"token\",\"gourd\",\"swings\",\"polite\",\"yesterday\",\"ARE\",\"shoal\",\"meals\",\"canvass\",\"carry\",\"lounged\",\"unity\",\"Daggoo\",\"defending\",\"passages\",\"Nation\",\"equity\",\"Things\",\"prospect\",\"militant\",\"profited\",\".)\",\"shallow\",\"efficacy\",\"Pagiel\",\"inside\",\"128\",\"Noah\",\"Lucky\",\"famine\",\"cornet\",\"Herodias\",\"121\",\"Little\",\"vial\",\"sharper\",\"dwell\",\"chant\",\"hailed\",\"disobey\",\"fornication\",\"frowning\",\"onely\",\"put\",\"needles\",\"beleeue\",\"condescending\",\"lemon\",\"showed\",\"themselues\",\"unbelieving\",\"Ammonites\",\"Japhia\",\"Mar\",\"ye\",\"myself\",\"claret\",\"snapping\",\"forgiven\",\"tickled\",\"Human\",\"disguised\",\"Husbands\",\"religious\",\"oarsman\",\"Neapolitan\",\"Hittite\",\"Priscilla\",\"loom\",\"cracked\",\"Though\",\"forego\",\"bade\",\"philosopher\",\"column\",\"Magog\",\"promoting\",\"regardeth\",\"marbles\",\"cracks\",\"flashes\",\"her\",\"Scotland\",\"lick\",\"70\",\"special\",\"Unc\",\"steam\",\"Arnon\",\"sanctuary\",\"sleet\",\"safest\",\"wildness\",\"constellations\",\"Doubt\",\"apparently\",\"reached\",\"bathing\",\"desperate\",\"Dashwoods\",\"stretching\",\"mystery\",\"palsy\",\"aquiline\",\"Festus\",\"sacrificing\",\"fruition\",\"scheme\",\"lookest\",\"pageant\",\"displease\",\"sufficiently\",\"shouldst\",\"Iconium\",\"Last\",\"heedful\",\"leap\",\"Jahath\",\"Mystery\",\"provision\",\"lengths\",\"ordinances\",\"sable\",\"raillery\",\"guided\",\"grinding\",\"sure\",\"elders\",\"moon\",\"Goddess\",\"happen\",\"Zilpah\",\"Hood\",\"Avast\",\"muse\",\"terms\",\"Carolina\",\"Reubenites\",\"Sometimes\",\"flaring\",\"The\",\"praises\",\"Sad\",\"Beast\",\"bidding\",\"END\",\"Octa\",\"dislike\",\"chasteneth\",\"Zibeon\",\"chase\",\"behold\",\"saidst\",\"shadows\",\"worke\",\"eels\",\"ominous\",\"Latin\",\"sport\",\"seize\",\"barns\",\"detest\",\"groweth\",\"chapters\",\"puffs\",\"posted\",\"Mogul\",\"foreigner\",\"drive\",\"lice\",\"handmaid\",\"persisting\",\"parting\",\"attaching\",\"eternal\",\"eating\",\"amazement\",\"ado\",\"naming\",\"dropping\",\"hee\",\"profit\",\"conceits\",\"subjection\",\"pencil\",\"seers\",\"Forest\",\"injunction\",\"cogent\",\"Cocke\",\"puzzling\",\"instrument\",\"jot\",\"keepes\",\"bar\",\"nobly\",\"Comfort\",\"gratified\",\"Possum\",\"Suppose\",\"happily\",\"renounce\",\"Fortunately\",\"harvest\",\"males\",\"slope\",\".\\\"'\",\"_had_\",\"consumed\",\"Attend\",\"sentries\",\"dainties\",\"rogues\",\"sin\",\"hastening\",\"suspecting\",\"suck\",\"Cherubick\",\"exceedingly\",\"Pashur\",\"uniform\",\"appoint\",\"bondage\",\"?)\",\"draweth\",\"lo\",\"proudly\",\"Zebedee\",\"Main\",\"within\",\"consist\",\"lesse\",\"loosening\",\"reproved\",\"random\",\"leysure\",\"frequented\",\"beautiful\",\"badly\",\"encouragement\",\"lit\",\"Masse\",\"Libertad\",\"Hivite\",\"beach\",\"prejudices\",\"sprawling\",\"rust\",\"Turning\",\"coldness\",\"adding\",\"Night\",\"Jenny\",\"touching\",\"faulty\",\"Didst\",\"garrison\",\"usurpation\",\"getting\",\"securing\",\"hotter\",\"flatteries\",\"claimed\",\"lives\",\"Underneath\",\"ash\",\"offereth\",\"finishing\",\"pillars\",\"pulse\",\"scare\",\"torches\",\"sprang\",\"dipped\",\"ridge\",\"filling\",\"causeth\",\"impressed\",\"Vengeance\",\"indignant\",\"Peradventure\",\"strongly\",\"authority\",\"Pliny\",\"circumstance\",\"sill\",\"increased\",\"doers\",\"Vanity\",\"flavor\",\"mornings\",\"removed\",\"gaue\",\"greedily\",\"subtilty\",\"stealth\",\"fixedly\",\"impropriety\",\"greedy\",\"lengthwise\",\"wisely\",\"fearing\",\"doubts\",\"Think\",\"shipped\",\"perfections\",\"worms\",\"abruptly\",\"vouchsafe\",\"towing\",\"Ephesus\",\"property\",\"attempted\",\"Elim\",\"Hearing\",\"crisis\",\"recommending\",\"giant\",\"impossibility\",\"seemingly\",\"hallowed\",\"Clit\",\"Fools\",\"morter\",\"fastidious\",\"inconsistent\",\"together\",\"Son\",\"maw\",\"mindful\",\"issuing\",\"clear\",\"logs\",\"snared\",\"misunderstood\",\"avaricious\",\"probably\",\"Freedom\",\"search\",\"signify\",\"orders\",\"prophesy\",\"Wherein\",\"mimic\",\"canst\",\"correspondent\",\"cruel\",\"Prepare\",\"slip\",\"weaken\",\"sacrificed\",\"Por\",\"millionaire\",\"bet\",\"redeemer\",\"confronting\",\"helped\",\"houses\",\"nimble\",\"miracle\",\"Soup\",\"remote\",\"Haply\",\"frivolous\",\"career\",\"worshippeth\",\"Whence\",\"list\",\"persuading\",\"censure\",\"professor\",\"zone\",\"Unless\",\"receive\",\"sling\",\"Oft\",\"severity\",\"economy\",\"equality\",\"arranging\",\"sustain\",\"trappers\",\"snorting\",\"pianoforte\",\"resolving\",\"didn\",\"followed\",\"42\",\"rub\",\"Search\",\"towed\",\"paws\",\"climbs\",\"perseverance\",\"specimen\",\"engage\",\"admirers\",\"tribes\",\"hair\",\"congenial\",\"glowed\",\"earthen\",\"disagreement\",\"arm\",\"shafts\",\"sake\",\"valley\",\"Mattaniah\",\"sorely\",\"Freely\",\"glint\",\"spruce\",\"afflicted\",\"circumcision\",\"Jabbok\",\"story\",\"President\",\"occupations\",\"Benjamites\",\"orchards\",\"remorse\",\"unique\",\"Elioenai\",\"stedfast\",\"about\",\"ward\",\"Letters\",\"smash\",\"mouldy\",\"accommodate\",\"rider\",\",)\",\"pilgrim\",\"millstones\",\"Thursday\",\"gable\",\"sailors\",\"Raise\",\"oceans\",\"lids\",\"toiled\",\"manger\",\"thousand\",\"breaks\",\"states\",\"lack\",\"institutions\",\"tiny\",\"Martha\",\"possessing\",\"Parkinson\",\"bullet\",\"proprietor\",\".'\\\"\",\"E\",\"barrel\",\"unicorn\",\"presume\",\"fleece\",\"Lady\",\"intend\",\"Kentucky\",\"Gileadite\",\"Delilah\",\"sublime\",\"forts\",\"shaggy\",\"direction\",\"Artaxerxes\",\"hued\",\"reliable\",\"doctors\",\"burneth\",\"spin\",\"Jazer\",\"Soul\",\"fell\",\"leaden\",\"Henceforth\",\"Terrors\",\"wager\",\"FOR\",\"overthrew\",\"lordship\",\"stir\",\"Spencer\",\"haste\",\"hansom\",\"loves\",\"salutes\",\"afresh\",\"utterly\",\"brick\",\"Ceremonies\",\"extraordinary\",\"origin\",\"contents\",\"dancing\",\"Thenceforth\",\"particularly\",\"hopeful\",\"lingering\",\"repeating\",\"vaults\",\"Ancient\",\"plac\",\"digging\",\"scab\",\"Villars\",\"slack\",\"idiot\",\"dissipated\",\"esteemeth\",\"crabs\",\"sprouts\",\"faithfully\",\"confuse\",\"curls\",\"energetic\",\"reluctant\",\"increasing\",\"reverent\",\"Noe\",\"Polon\",\"saveth\",\"wait\",\"precipice\",\"monotony\",\"Ammon\",\"natives\",\"False\",\"trode\",\"Ahaziah\",\"typical\",\"insane\",\"release\",\"richer\",\"ones\",\"immemorial\",\"39\",\"truest\",\"abhor\",\"rail\",\"scorner\",\"resisted\",\"prophesieth\",\"casteth\",\"trespasses\",\"Lift\",\"God\",\"Starbuck\",\"village\",\"chapiters\",\"page\",\"book\",\"theory\",\"capture\",\"birth\",\"pricking\",\"forgive\",\"protesting\",\"oppressor\",\"minutest\",\"mocked\",\"joke\",\"jar\",\"festive\",\"mortification\",\"musician\",\"disputing\",\"140\",\"longer\",\"sick\",\"perfume\",\"establishment\",\"grandmama\",\"singularly\",\"Santa\",\"cigars\",\"growne\",\"arming\",\"cap\",\"enquired\",\"overthroweth\",\"Fleans\",\"methinks\",\"specialist\",\"germs\",\"n\",\"interrupt\",\"evil\",\"whist\",\"sunrising\",\"Abiathar\",\"pretended\",\"acquitted\",\"screen\",\"loosen\",\"beforetime\",\"curtains\",\"'--\",\"intense\",\"chosen\",\"cooler\",\"honesty\",\"happier\",\"applauded\",\"T\",\"succession\",\"Ginger\",\"consequently\",\"fastening\",\"Mine\",\"brutes\",\"heathenish\",\"overbearing\",\"sandy\",\"shapeless\",\"confirmation\",\"judgement\",\"loudly\",\"Kirjathjearim\",\"briskly\",\"habitual\",\"Jael\",\"interfering\",\"adhering\",\"Baker\",\"continue\",\"highways\",\"Ephah\",\"many\",\"psalm\",\"talked\",\"fuel\",\"struggled\",\"close\",\"forgetful\",\"crown\",\"funeral\",\"bridge\",\"wretchedly\",\"mire\",\"Dormouse\",\"ducked\",\"lapse\",\"He\",\"downwards\",\"damage\",\"herein\",\"Piercefield\",\"built\",\"reveal\",\"capable\",\"orderly\",\"silly\",\"poorly\",\"closet\",\"disgraced\",\"2002\",\"hide\",\"gathering\",\"averted\",\"mans\",\"tranquillity\",\"rustle\",\"layeth\",\"gang\",\"facts\",\"contrive\",\"advisable\",\"Knowest\",\"opened\",\"bordered\",\"brittle\",\"sufficiency\",\"vow\",\"relaxed\",\"Less\",\"chiefly\",\"purchased\",\"infatuation\",\"Never\",\"raw\",\"vase\",\"studies\",\"Kenite\",\"influenced\",\"specific\",\"Dick\",\"heart\",\"legal\",\"gravely\",\"tower\",\"Luc\",\"fairs\",\"Abiezer\",\"Woo\",\"ridden\",\"vulgarity\",\"Returning\",\"After\",\"powre\",\"Big\",\"monument\",\"impertinence\",\"consolation\",\"burial\",\"giddy\",\"glisten\",\"comprehend\",\"Harville\",\"occupying\",\"glance\",\"statements\",\"reduce\",\"foresee\",\"mixing\",\"sorrow\",\"poet\",\"memories\",\"staggered\",\"trailing\",\"shocked\",\"pairs\",\"advised\",\"Self\",\"Damn\",\"greenish\",\"fluke\",\"Zelia\",\"Following\",\"pry\",\"summons\",\"Bulkington\",\"Tarlton\",\"involving\",\"devotion\",\"barbed\",\"Reynol\",\"weaned\",\"Praise\",\"melodious\",\"certainty\",\"application\",\"reverend\",\"doo\",\"stooping\",\"advising\",\"preuent\",\"Fierce\",\"different\",\"prudent\",\"defraud\",\"agitated\",\"FROM\",\"decked\",\"displeased\",\"English\",\"clinch\",\"colors\",\"pivot\",\"ceremony\",\"sleepy\",\"agents\",\"Hilkiah\",\"mournful\",\"Beetle\",\"blew\",\"wholesome\",\"proclaiming\",\"inverted\",\"oblique\",\"thigh\",\"Ship\",\"allowed\",\"Ring\",\"conference\",\"abundantly\",\"plumed\",\"logic\",\"fiends\",\"connexions\",\"danced\",\"same\",\"consult\",\"Rehob\",\"Zalmunna\",\"dissolved\",\"proverb\",\"imports\",\"crimson\",\"carelessness\",\"shared\",\"performers\",\"147\",\"fee\",\"amend\",\"daybreak\",\"fastened\",\"chain\",\"negligence\",\"rings\",\"rope\",\"turtledoves\",\"88\",\"speedily\",\").--\",\"Bezaleel\",\"visible\",\"walled\",\"hav\",\"eager\",\"spouse\",\"trespassed\",\"WE\",\"Divine\",\"carriages\",\"71\",\"savour\",\"fibres\",\"treachery\",\"decidedly\",\"sacrificeth\",\"backe\",\"Nahshon\",\"meek\",\"Lives\",\"limping\",\"grandeur\",\"knots\",\"uttereth\",\"crieth\",\"Calphurnia\",\"biting\",\"flatter\",\"obey\",\"Arme\",\"firstling\",\"Eliab\",\"deserved\",\"pin\",\"elephants\",\"Furthermore\",\"say\",\"presses\",\"nearest\",\"undefiled\",\"Great\",\"census\",\"scenery\",\"unearthly\",\"Saints\",\"Across\",\"gain\",\"avenging\",\"tug\",\"tottering\",\"sabbath\",\"Innumerable\",\"patent\",\"magnetic\",\"HOW\",\"thorns\",\"incredulous\",\"Barnabas\",\"Fresh\",\"unthought\",\"IV\",\"Arms\",\"shiver\",\"approaching\",\"incomplete\",\"exultation\",\"doe\",\"Michaelmas\",\"Armagnac\",\"poorer\",\"Madnesse\",\"Ahimelech\",\"disorder\",\"Bread\",\"ambush\",\"dome\",\"drab\",\"hesitation\",\"Syrians\",\"Bird\",\"combined\",\"Euroclydon\",\"omnibus\",\"gasp\",\"slabs\",\"jet\",\"Boston\",\"Sumatra\",\"thanksgiving\",\"roused\",\"readiness\",\"polar\",\"error\",\"insolent\",\"possibilities\",\"impudent\",\"above\",\"attracted\",\"divulged\",\"disclose\",\"preparatory\",\"publicity\",\"quenched\",\"Derick\",\"urge\",\"clasp\",\"Metellus\",\"play\",\"Cymber\",\"discern\",\"rejected\",\"involve\",\"creep\",\"monster\",\"maddened\",\"Cloud\",\"Shushan\",\"cause\",\"unimportant\",\"transgressor\",\"Has\",\"brains\",\"Safe\",\"agitation\",\"intermission\",\"35\",\"Pequod\",\"copies\",\"contrite\",\"magpie\",\"doomed\",\"Hinnom\",\"emerging\",\"poisonous\",\"stork\",\"benevolence\",\"pours\",\"bearest\",\"globe\",\"Timnath\",\"luminous\",\"woeful\",\"prejudiced\",\"Evening\",\"freight\",\"unfathomable\",\"conspired\",\"leaves\",\"brightness\",\"factories\",\"heresies\",\"finery\",\"hire\",\"shorter\",\"Michaiah\",\"return\",\"me\",\"dieth\",\"thinketh\",\"trillions\",\"Fleece\",\"faine\",\"wizards\",\"Isabella\",\"Attendants\",\"narrow\",\"formed\",\"tremendous\",\"pulses\",\"kingly\",\"28\",\"shameful\",\"Bethhoron\",\"tread\",\"circumference\",\"universal\",\"reade\",\"expounded\",\"industrious\",\"panic\",\"week\",\"inquire\",\"mutton\",\"flowers\",\"shell\",\"sailing\",\"decision\",\"herb\",\"desperation\",\"Ramah\",\"personally\",\"mama\",\"Gryphon\",\"foam\",\"chemistry\",\"Cai\",\"brighter\",\"caprice\",\"belly\",\"Hold\",\"maze\",\"Elihu\",\"district\",\"spiritually\",\"116\",\"Serug\",\"searched\",\"survived\",\"Jones\",\"there\",\"smite\",\"martyr\",\"conspirators\",\"matter\",\"landsman\",\"Jabesh\",\"party\",\"darken\",\"shrunk\",\"heroism\",\"poke\",\"Midianites\",\"enthusiastic\",\"unconcerned\",\"families\",\"pillar\",\"Gottlieb\",\"Hayters\",\"discerning\",\"wakened\",\"history\",\"swan\",\"shaded\",\"curb\",\"velvet\",\"slouched\",\"largely\",\"Cyrene\",\"boasting\",\"shines\",\"coloured\",\"Coming\",\"comfort\",\"Psalms\",\"amusements\",\"coin\",\"twain\",\"shudder\",\"substantial\",\"brightest\",\"lady\",\"boast\",\"illustrate\",\"Sent\",\"punish\",\"surrounding\",\"wilder\",\"cabman\",\"sooner\",\"loosely\",\"Zerah\",\"discussed\",\"FARMER\",\"laboured\",\"prune\",\"Ramoth\",\"azure\",\"Where\",\"Abinadab\",\"Statue\",\"metal\",\"returned\",\"Harrogate\",\"brass\",\"loggerhead\",\"appearances\",\"ghosts\",\"smashed\",\"rapidity\",\"compelled\",\"tresses\",\"won\",\"poise\",\"hardened\",\"Gay\",\"elevate\",\"harpooned\",\"device\",\"Gird\",\"Gone\",\"fancies\",\"liked\",\"weake\",\"study\",\"wanton\",\"whips\",\"impudence\",\"Sirs\",\"collect\",\"tramping\",\"HAD\",\"92\",\"labor\",\"interested\",\"benevolent\",\"forthwith\",\"sash\",\"school\",\"healthy\",\"connection\",\"answer\",\"impotent\",\"Jared\",\"transplanted\",\"indifferently\",\"Some\",\"bleak\",\"admiration\",\"whirls\",\"Athens\",\"scattereth\",\"Shadow\",\"quality\",\"sleeves\",\"transfer\",\"sons\",\"suits\",\"Abihu\",\"bountifully\",\"sloped\",\"Busy\",\"inhabitants\",\"taffrail\",\"aloft\",\"predestinated\",\"Burgundy\",\"Rephaiah\",\"hovered\",\"haul\",\"murmuring\",\"awkward\",\"teares\",\"Women\",\"Manxman\",\"furiously\",\"anointing\",\"Rooke\",\"gliding\",\"Betty\",\"Arphaxad\",\"Elliots\",\"sleepest\",\"rescued\",\"Won\",\"Treason\",\"woollen\",\"edge\",\"thing\",\"inferred\",\"loued\",\"intervals\",\"projecting\",\"tangled\",\"enclose\",\"aromatic\",\"twisting\",\"sundown\",\"glad\",\"attitudes\",\"lost\",\"green\",\"Natural\",\"Scott\",\"Seruants\",\"blossom\",\"RYAN\",\"Timnah\",\"bag\",\"black\",\"fog\",\"strips\",\"dawned\",\"hookah\",\"hostler\",\"ultimate\",\"rustic\",\"matron\",\"Adam\",\"Post\",\"twixt\",\"nought\",\"influences\",\"cotton\",\"collision\",\"acquainted\",\"defied\",\"charge\",\"styled\",\"permanent\",\"mansion\",\"Count\",\"Stern\",\"judicious\",\"purge\",\"Their\",\"napkin\",\"pile\",\"Shephatiah\",\"severe\",\"ship\",\"Priest\",\"Apollo\",\"plate\",\"Chenaanah\",\"fiercely\",\"supposing\",\"warmest\",\"cordiality\",\"_our_\",\"crosses\",\"exhausted\",\"term\",\"resign\",\"reserve\",\"violets\",\"Kish\",\"rains\",\"nibbled\",\"swarthy\",\"farewell\",\"instances\",\"bend\",\"deuce\",\"sincerely\",\"weigh\",\"censer\",\"twin\",\"impression\",\"glassy\",\"phrases\",\"Moabitess\",\"climbing\",\"relation\",\"loosed\",\"blend\",\"endeavours\",\"peculiarly\",\"retirement\",\"magnet\",\"register\",\"Croft\",\"doctor\",\"Bragge\",\"mounts\",\"quickest\",\"scissors\",\"covetous\",\"reverse\",\"ploughed\",\"forbid\",\"conquest\",\"streams\",\"Garden\",\"Fisher\",\"smiles\",\"inherit\",\"wonder\",\"torture\",\"camest\",\"additions\",\"indicated\",\"forcibly\",\"gaily\",\"muscle\",\"projected\",\"Tappuah\",\"carbines\",\"13\",\"Esau\",\"flag\",\"phoo\",\"answereth\",\"foreskins\",\"leaven\",\"bosoms\",\"livid\",\"fatality\",\"thieves\",\"stormy\",\"o\",\"icy\",\"thy\",\"holiness\",\"towards\",\"tattooing\",\"sixpence\",\"clasped\",\"affects\",\"rejoiceth\",\"excitement\",\"confusing\",\"wild\",\"courier\",\"adamant\",\"aid\",\"doer\",\"kingdom\",\"scum\",\"Reuenge\",\"composing\",\"ancestors\",\"Terah\",\"thrice\",\"tens\",\"advantage\",\"Sleeping\",\"fleeing\",\"earnestly\",\"unreasonable\",\"crowd\",\"horrible\",\"hears\",\"wouldn\",\"Blow\",\"Seyward\",\"twine\",\"Tophet\",\"Isle\",\"arrant\",\"transient\",\"His\",\"Gaius\",\"bask\",\"resources\",\"Linnaeus\",\"savagely\",\"window\",\"guarding\",\"Mabel\",\"comprising\",\"dents\",\"far\",\"wanderings\",\"hope\",\"54\",\"songs\",\"legged\",\"Downs\",\"dismiss\",\"devoting\",\"Flora\",\"Kingdome\",\"Walter\",\"shawl\",\"lust\",\"lined\",\"singers\",\"occurred\",\"charitable\",\"Soule\",\"willows\",\"wicket\",\"neighbour\",\"kids\",\"organs\",\"sounding\",\"Mur\",\"distinctions\",\"whirled\",\"freshness\",\"shrubbery\",\"lift\",\"capacity\",\"watch\",\"averse\",\"r\",\"extended\",\"Iustice\",\"rest\",\"brine\",\"mighty\",\"achieved\",\"emptying\",\"pupil\",\"order\",\"natured\",\"message\",\"laboureth\",\"Antonio\",\"systems\",\"humble\",\"loaf\",\"lipp\",\"alms\",\"nearing\",\"temporary\",\"largest\",\"gathered\",\"helpe\",\"widows\",\"SHALL\",\"Lordship\",\"effectual\",\"price\",\"roads\",\"plumes\",\"poor\",\"tallied\",\"it\",\"Tables\",\"Mercy\",\"chivalry\",\"coward\",\"squared\",\"neighbouring\",\"Libnah\",\"Zabdi\",\"bulk\",\"duke\",\"sleepe\",\"mishap\",\"joking\",\"birch\",\"reasons\",\"Gibbethon\",\"forgetfulness\",\"timbrels\",\"ringstraked\",\"seldom\",\"Perseus\",\"hoping\",\"emptiness\",\"preserve\",\"Balaam\",\"150\",\"careering\",\"clever\",\"use\",\"Boulnois\",\"necks\",\"governed\",\"Hosanna\",\"mania\",\"tolerable\",\"hawthorn\",\"camel\",\"practising\",\"ideal\",\"railway\",\"classification\",\"uphold\",\"afloat\",\"balmy\",\"pirate\",\"cannot\",\"raising\",\"mouse\",\"restless\",\"near\",\"Jeshaiah\",\"head\",\"harsh\",\"consequence\",\"knaue\",\"pie\",\"remains\",\"magazine\",\"Arioch\",\"modestly\",\"avast\",\"shew\",\"crouched\",\"daring\",\"fretting\",\"conjectured\",\"X\",\"hill\",\"gun\",\"craftiness\",\"fresher\",\"Cleveland\",\"Virtue\",\"cords\",\"circumcised\",\"risen\",\"bring\",\"misfortunes\",\"Laadan\",\"existence\",\"fertile\",\"troubleth\",\"fairer\",\"translated\",\"Assyrians\",\"orient\",\"perverse\",\"Meshullam\",\"silent\",\"drank\",\"baby\",\"stern\",\"hoppity\",\"Above\",\"robust\",\"supposed\",\"drift\",\"lurking\",\"excursion\",\"aint\",\"Somers\",\"Queen\",\"unquiet\",\"Colorado\",\"COULD\",\"rippling\",\"relationship\",\"sparkling\",\"Norman\",\"Muskrat\",\"Fifty\",\"pillows\",\"Walk\",\"Townsend\",\"hardy\",\"meeting\",\"S\",\"fool\",\"talks\",\"sands\",\"lambent\",\"chastisement\",\"acknowledge\",\"neither\",\"Through\",\"Tall\",\"meadows\",\"exhortation\",\"very\",\"compasseth\",\"Passing\",\"soaked\",\"appetites\",\"Publius\",\"understandeth\",\"gazing\",\"superiour\",\"unconquerable\",\"furniture\",\"impulse\",\"please\",\"nuts\",\"logical\",\"coax\",\"sicken\",\"devour\",\"Zarhites\",\"hazarded\",\"pertaining\",\"aboard\",\"frown\",\"soup\",\"Maid\",\"worst\",\"ha\",\"correct\",\"debtors\",\"afterward\",\"crouching\",\"golden\",\"defile\",\"newspaper\",\"flax\",\"Arabian\",\"Child\",\"flute\",\"reason\",\"Purim\",\"pet\",\"destroyer\",\"Comrade\",\"consented\",\"alienated\",\"guiltless\",\"examined\",\"themselves\",\"Highlander\",\"arrow\",\"imminent\",\"Foole\",\"hairy\",\"Pontus\",\"habitations\",\"pursueth\",\"appeare\",\"Sonnes\",\"chowder\",\"fauour\",\"gift\",\"deeds\",\"rump\",\"flattereth\",\"Jerahmeel\",\"lifted\",\"Verily\",\"palace\",\"knives\",\"Sally\",\"formal\",\"whip\",\"Tolstoy\",\"hatred\",\"palms\",\"wanteth\",\"plausible\",\"rivulet\",\"Ahinoam\",\"Countrymen\",\"Methinks\",\"farms\",\"folds\",\"lawns\",\"proved\",\"housetops\",\"customs\",\"campaigns\",\"slaying\",\"ought\",\"reciprocal\",\"Forgive\",\"Weymouth\",\"did\",\"dust\",\"Race\",\"Princedoms\",\"those\",\"euery\",\"pressing\",\"hurried\",\"Brother\",\"beget\",\"shewing\",\"tipped\",\":\",\"pyramids\",\"pickle\",\"then\",\"vinegar\",\"safety\",\"daggers\",\"cares\",\"Pope\",\"hop\",\"deliberately\",\"Moved\",\"fox\",\"rivet\",\"constitution\",\"dented\",\"development\",\"impartiality\",\"fatted\",\"compasses\",\"platform\",\"measuring\",\"raven\",\"dismasted\",\"resist\",\"revive\",\"bullock\",\"unfeeling\",\"summers\",\"hanging\",\"blind\",\"Middle\",\"signifies\",\"betwixt\",\"move\",\"previously\",\"Or\",\"fanatic\",\"argument\",\"communications\",\"innumerable\",\"Trouble\",\"magistrates\",\"Nehemiah\",\"permitting\",\"bridle\",\"unsuspected\",\"extremely\",\"Thumb\",\"faggot\",\"lose\",\"Catholicism\",\"banker\",\"churches\",\"thrusting\",\"nowadays\",\"shot\",\"frustrate\",\"Kadesh\",\"salutation\",\"any\",\"exploded\",\"gallantry\",\"grass\",\"serenity\",\"Beautiful\",\"WAS\",\"Upon\",\":--\\\"\",\"veterans\",\"beheld\",\"arisen\",\"tooth\",\"substances\",\"worked\",\"stupidly\",\"dial\",\"Speak\",\"Ethan\",\"unholy\",\"testify\",\"moment\",\"depends\",\"dependence\",\"THIS\",\"Happy\",\"fortunes\",\"bedstead\",\"melons\",\"reigneth\",\"merrily\",\"aside\",\"Tekoa\",\"fades\",\"Assemble\",\"bath\",\"peas\",\"yonder\",\"answered\",\"sage\",\"costume\",\"temples\",\"atonement\",\"repast\",\"lead\",\"Persia\",\"reed\",\"cask\",\"screamed\",\"South\",\"kindness\",\"hump\",\"delay\",\"boom\",\"beauteous\",\"polluted\",\"derision\",\"acknowledgment\",\"confidentially\",\"afforded\",\"rule\",\"Kensington\",\"cooled\",\"British\",\"incident\",\"rue\",\"fishing\",\"Free\",\"creature\",\"card\",\"talke\",\"naivete\",\"Wrath\",\"owning\",\"Speake\",\"colossal\",\"frantic\",\"departing\",\"humour\",\"harbors\",\"remember\",\"Jersey\",\"disposed\",\"oracles\",\"variety\",\"holiest\",\"overlay\",\"grounded\",\"corridor\",\"gown\",\"....\",\"bowels\",\"sister\",\"numerous\",\"vexation\",\"hollows\",\"Debir\",\"Mammy\",\"baker\",\"Keilah\",\"unkind\",\"Major\",\"uncertain\",\"_She_\",\"interminable\",\"Weston\",\"lumps\",\"hard\",\"pearls\",\"easier\",\"motive\",\"Trust\",\"tattered\",\"Till\",\"momentary\",\"dessert\",\"inoffensive\",\"reconciliation\",\"foretell\",\"Prima\",\"Norland\",\"pirates\",\"quiver\",\"Space\",\"candlesticks\",\"horizon\"],\"x\":{\"__ndarray__\":\"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\",\"dtype\":\"float64\",\"shape\":[5000]},\"y\":{\"__ndarray__\":\"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\",\"dtype\":\"float64\",\"shape\":[5000]}},\"selected\":{\"id\":\"1045\",\"type\":\"Selection\"},\"selection_policy\":{\"id\":\"1046\",\"type\":\"UnionRenderers\"}},\"id\":\"1034\",\"type\":\"ColumnDataSource\"},{\"attributes\":{\"text_color\":{\"value\":\"black\"},\"x\":{\"field\":\"x\"},\"y\":{\"field\":\"y\"}},\"id\":\"1035\",\"type\":\"Text\"},{\"attributes\":{\"callback\":null},\"id\":\"1003\",\"type\":\"DataRange1d\"},{\"attributes\":{\"dimension\":1,\"ticker\":{\"id\":\"1017\",\"type\":\"BasicTicker\"}},\"id\":\"1020\",\"type\":\"Grid\"},{\"attributes\":{\"callback\":null},\"id\":\"1005\",\"type\":\"DataRange1d\"},{\"attributes\":{\"text\":\"\"},\"id\":\"1040\",\"type\":\"Title\"},{\"attributes\":{},\"id\":\"1007\",\"type\":\"LinearScale\"},{\"attributes\":{},\"id\":\"1024\",\"type\":\"SaveTool\"},{\"attributes\":{\"formatter\":{\"id\":\"1042\",\"type\":\"BasicTickFormatter\"},\"ticker\":{\"id\":\"1012\",\"type\":\"BasicTicker\"}},\"id\":\"1011\",\"type\":\"LinearAxis\"},{\"attributes\":{},\"id\":\"1009\",\"type\":\"LinearScale\"}],\"root_ids\":[\"1002\"]},\"title\":\"Bokeh Application\",\"version\":\"1.3.4\"}};\n",
       "  var render_items = [{\"docid\":\"0786a920-07a4-4d52-ad0b-91f191bf9584\",\"roots\":{\"1002\":\"0df92f1e-03be-4702-a112-2231605ef45a\"}}];\n",
       "  root.Bokeh.embed.embed_items_notebook(docs_json, render_items);\n",
       "\n",
       "  }\n",
       "  if (root.Bokeh !== undefined) {\n",
       "    embed_document(root);\n",
       "  } else {\n",
       "    var attempts = 0;\n",
       "    var timer = setInterval(function(root) {\n",
       "      if (root.Bokeh !== undefined) {\n",
       "        embed_document(root);\n",
       "        clearInterval(timer);\n",
       "      }\n",
       "      attempts++;\n",
       "      if (attempts > 100) {\n",
       "        console.log(\"Bokeh: ERROR: Unable to run BokehJS code because BokehJS library is missing\");\n",
       "        clearInterval(timer);\n",
       "      }\n",
       "    }, 10, root)\n",
       "  }\n",
       "})(window);"
      ],
      "application/vnd.bokehjs_exec.v0+json": ""
     },
     "metadata": {
      "application/vnd.bokehjs_exec.v0+json": {
       "id": "1002"
      }
     },
     "output_type": "display_data"
    }
   ],
   "source": [
    "show(p)"
   ]
  },
  {
   "cell_type": "code",
   "execution_count": null,
   "metadata": {},
   "outputs": [],
   "source": []
  }
 ],
 "metadata": {
  "kernelspec": {
   "display_name": "Python 3",
   "language": "python",
   "name": "python3"
  },
  "language_info": {
   "codemirror_mode": {
    "name": "ipython",
    "version": 3
   },
   "file_extension": ".py",
   "mimetype": "text/x-python",
   "name": "python",
   "nbconvert_exporter": "python",
   "pygments_lexer": "ipython3",
   "version": "3.7.3"
  }
 },
 "nbformat": 4,
 "nbformat_minor": 2
}
