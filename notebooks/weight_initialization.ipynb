{
 "cells": [
  {
   "cell_type": "markdown",
   "metadata": {},
   "source": [
    "# Weight Initialization"
   ]
  },
  {
   "cell_type": "markdown",
   "metadata": {},
   "source": [
    "In this notebook, we experiment with weight initialization approaches to examine their impact on layer outputs."
   ]
  },
  {
   "cell_type": "markdown",
   "metadata": {},
   "source": [
    "[![Open In Colab](https://colab.research.google.com/assets/colab-badge.svg)](https://colab.research.google.com/github/jonkrohn/DLTFpT/blob/master/notebooks/weight_initialization.ipynb)"
   ]
  },
  {
   "cell_type": "markdown",
   "metadata": {},
   "source": [
    "#### Load dependencies"
   ]
  },
  {
   "cell_type": "code",
   "execution_count": 1,
   "metadata": {},
   "outputs": [],
   "source": [
    "import numpy as np\n",
    "import matplotlib.pyplot as plt\n",
    "\n",
    "from tensorflow.keras import Sequential\n",
    "from tensorflow.keras.layers import Dense, Activation\n",
    "from tensorflow.keras.initializers import Zeros, RandomNormal, glorot_normal, glorot_uniform"
   ]
  },
  {
   "cell_type": "markdown",
   "metadata": {},
   "source": [
    "#### Set number of neurons"
   ]
  },
  {
   "cell_type": "code",
   "execution_count": 2,
   "metadata": {},
   "outputs": [],
   "source": [
    "n_input = 784\n",
    "n_dense = 256"
   ]
  },
  {
   "cell_type": "markdown",
   "metadata": {},
   "source": [
    "#### Select a bias initializer"
   ]
  },
  {
   "cell_type": "code",
   "execution_count": 3,
   "metadata": {},
   "outputs": [],
   "source": [
    "b_init = Zeros()"
   ]
  },
  {
   "cell_type": "markdown",
   "metadata": {},
   "source": [
    "#### Select a weight initializer"
   ]
  },
  {
   "cell_type": "code",
   "execution_count": 4,
   "metadata": {},
   "outputs": [],
   "source": [
    "w_init = RandomNormal(stddev=1.0)\n",
    "# w_init = glorot_normal()\n",
    "# w_init = glorot_uniform()"
   ]
  },
  {
   "cell_type": "markdown",
   "metadata": {},
   "source": [
    "#### Design neural network architecture"
   ]
  },
  {
   "cell_type": "code",
   "execution_count": 5,
   "metadata": {},
   "outputs": [],
   "source": [
    "model = Sequential()\n",
    "model.add(Dense(n_dense, \n",
    "                input_dim=n_input,\n",
    "                kernel_initializer=w_init,\n",
    "                bias_initializer=b_init))\n",
    "model.add(Activation('sigmoid'))\n",
    "# model.add(Activation('tanh'))\n",
    "# model.add(Activation('relu'))"
   ]
  },
  {
   "cell_type": "markdown",
   "metadata": {},
   "source": [
    "#### Generate random *x* values"
   ]
  },
  {
   "cell_type": "code",
   "execution_count": 6,
   "metadata": {},
   "outputs": [],
   "source": [
    "x = np.random.random((1,n_input))"
   ]
  },
  {
   "cell_type": "markdown",
   "metadata": {},
   "source": [
    "#### Forward propagate through the network"
   ]
  },
  {
   "cell_type": "code",
   "execution_count": 7,
   "metadata": {},
   "outputs": [],
   "source": [
    "a = model.predict(x)"
   ]
  },
  {
   "cell_type": "code",
   "execution_count": 8,
   "metadata": {},
   "outputs": [
    {
     "data": {
      "text/plain": [
       "array([[3.37220728e-02, 9.99984264e-01, 1.00000000e+00, 1.00000000e+00,\n",
       "        1.00000000e+00, 1.00000000e+00, 0.00000000e+00, 3.73108327e-01,\n",
       "        0.00000000e+00, 1.00000000e+00, 9.99999762e-01, 1.19507313e-04,\n",
       "        9.99999881e-01, 3.13133001e-04, 0.00000000e+00, 1.00000000e+00,\n",
       "        0.00000000e+00, 7.26580620e-05, 8.73506069e-05, 4.60445881e-05,\n",
       "        8.94069672e-08, 5.71302831e-01, 0.00000000e+00, 9.98310924e-01,\n",
       "        0.00000000e+00, 0.00000000e+00, 7.67071843e-01, 9.99984980e-01,\n",
       "        4.62069809e-02, 5.52952290e-04, 9.70571041e-01, 9.99974310e-01,\n",
       "        0.00000000e+00, 9.99993026e-01, 9.53674316e-06, 0.00000000e+00,\n",
       "        4.07997370e-02, 4.56445217e-02, 0.00000000e+00, 8.86581481e-01,\n",
       "        2.38716602e-03, 9.99961734e-01, 9.99979734e-01, 0.00000000e+00,\n",
       "        6.99764729e-01, 9.38727856e-02, 2.08269864e-01, 1.19209290e-07,\n",
       "        2.19697207e-01, 5.77136874e-03, 6.75005555e-01, 9.99987662e-01,\n",
       "        0.00000000e+00, 0.00000000e+00, 1.00000000e+00, 0.00000000e+00,\n",
       "        9.99998748e-01, 2.81661749e-04, 9.98290181e-01, 0.00000000e+00,\n",
       "        4.51955199e-03, 0.00000000e+00, 1.45030022e-03, 1.72853470e-06,\n",
       "        0.00000000e+00, 9.71075654e-01, 9.99992847e-01, 2.26005912e-03,\n",
       "        1.54972076e-06, 1.45402551e-03, 0.00000000e+00, 1.83880329e-05,\n",
       "        9.75093722e-01, 0.00000000e+00, 9.76096213e-01, 4.47034836e-07,\n",
       "        7.61344135e-02, 1.02825165e-02, 1.00000000e+00, 2.65227258e-01,\n",
       "        1.00000000e+00, 8.90008807e-01, 8.07940960e-05, 9.99509931e-01,\n",
       "        1.00000000e+00, 6.24595284e-02, 5.27501106e-05, 0.00000000e+00,\n",
       "        0.00000000e+00, 1.00000000e+00, 9.99999583e-01, 9.99956608e-01,\n",
       "        9.99999464e-01, 2.83667147e-02, 8.76046121e-02, 0.00000000e+00,\n",
       "        7.67832994e-03, 9.99608397e-01, 1.00000000e+00, 8.51862431e-01,\n",
       "        1.60932541e-06, 2.88864970e-01, 9.99989152e-01, 0.00000000e+00,\n",
       "        9.99184966e-01, 1.00000000e+00, 0.00000000e+00, 9.99988377e-01,\n",
       "        1.07288361e-05, 1.00000000e+00, 1.00000000e+00, 6.77323580e-01,\n",
       "        9.99977946e-01, 9.99166429e-01, 2.64041483e-01, 6.07790351e-02,\n",
       "        1.00000000e+00, 0.00000000e+00, 1.00000000e+00, 9.99999821e-01,\n",
       "        8.53043497e-01, 9.99232531e-01, 1.07268691e-02, 5.54323196e-06,\n",
       "        9.99950111e-01, 9.99984980e-01, 5.52865863e-03, 1.16065145e-03,\n",
       "        4.89026308e-04, 9.39864278e-01, 1.00000000e+00, 0.00000000e+00,\n",
       "        9.99999881e-01, 9.99760628e-01, 9.99941409e-01, 4.54187393e-05,\n",
       "        9.99977589e-01, 7.46216655e-01, 9.99801874e-01, 1.00000000e+00,\n",
       "        9.99980152e-01, 1.61528587e-05, 1.77365541e-03, 5.22149205e-02,\n",
       "        9.97944117e-01, 9.98008072e-01, 1.52587891e-05, 2.98023224e-07,\n",
       "        9.99998927e-01, 8.84268522e-01, 9.83882725e-01, 9.99999166e-01,\n",
       "        6.34789467e-05, 9.99973059e-01, 2.57054448e-01, 2.51280695e-01,\n",
       "        9.99903679e-01, 3.00743878e-02, 5.36286294e-01, 9.99943495e-01,\n",
       "        9.77117538e-01, 1.13922060e-02, 0.00000000e+00, 1.00000000e+00,\n",
       "        9.99999881e-01, 1.89006329e-04, 1.60932541e-06, 9.62451100e-03,\n",
       "        1.32974982e-03, 9.99999762e-01, 9.99996424e-01, 7.69320130e-01,\n",
       "        1.00000000e+00, 2.65073776e-03, 4.35113907e-06, 0.00000000e+00,\n",
       "        9.94760394e-01, 5.82500815e-01, 9.99878347e-01, 1.09867066e-01,\n",
       "        9.99761462e-01, 8.94069672e-08, 0.00000000e+00, 2.81553566e-01,\n",
       "        2.74181366e-06, 1.39474869e-04, 9.99232769e-01, 0.00000000e+00,\n",
       "        9.99999344e-01, 1.00000000e+00, 1.19209290e-06, 9.99769509e-01,\n",
       "        3.53174508e-02, 1.00000000e+00, 2.71201134e-05, 7.45058060e-06,\n",
       "        9.92681026e-01, 1.31130219e-06, 9.55536962e-03, 1.00000000e+00,\n",
       "        1.00000000e+00, 9.99947309e-01, 1.61677599e-04, 1.00000000e+00,\n",
       "        9.11829352e-01, 3.16637754e-03, 7.27474689e-05, 8.86219740e-03,\n",
       "        9.97367144e-01, 9.99998927e-01, 2.98023224e-08, 2.18799412e-02,\n",
       "        0.00000000e+00, 3.78489494e-06, 3.30448151e-04, 0.00000000e+00,\n",
       "        9.99992490e-01, 1.26532912e-02, 9.92513537e-01, 9.99993443e-01,\n",
       "        9.97484446e-01, 8.94069672e-08, 0.00000000e+00, 1.00000000e+00,\n",
       "        2.11840868e-03, 4.47034836e-07, 1.00000000e+00, 7.32368827e-01,\n",
       "        0.00000000e+00, 2.23454833e-03, 6.07967377e-06, 1.21858716e-03,\n",
       "        4.02331352e-06, 0.00000000e+00, 9.99999344e-01, 3.66928697e-01,\n",
       "        0.00000000e+00, 4.81903553e-05, 9.99958277e-01, 7.62939453e-06,\n",
       "        0.00000000e+00, 1.00000000e+00, 2.79575586e-04, 9.78923261e-01,\n",
       "        9.99988914e-01, 6.33137822e-01, 1.00000000e+00, 9.99986649e-01,\n",
       "        1.57654285e-05, 0.00000000e+00, 0.00000000e+00, 9.92463589e-01,\n",
       "        3.58402729e-04, 5.23711681e-01, 9.99999881e-01, 1.05953515e-02]],\n",
       "      dtype=float32)"
      ]
     },
     "execution_count": 8,
     "metadata": {},
     "output_type": "execute_result"
    }
   ],
   "source": [
    "a"
   ]
  },
  {
   "cell_type": "code",
   "execution_count": 9,
   "metadata": {},
   "outputs": [
    {
     "data": {
      "image/png": "[encoded data removed]",
      "text/plain": [
       "<Figure size 432x288 with 1 Axes>"
      ]
     },
     "metadata": {
      "needs_background": "light"
     },
     "output_type": "display_data"
    }
   ],
   "source": [
    "_ = plt.hist(np.transpose(a))"
   ]
  },
  {
   "cell_type": "code",
   "execution_count": null,
   "metadata": {},
   "outputs": [],
   "source": []
  }
 ],
 "metadata": {
  "kernelspec": {
   "display_name": "Python 3",
   "language": "python",
   "name": "python3"
  },
  "language_info": {
   "codemirror_mode": {
    "name": "ipython",
    "version": 3
   },
   "file_extension": ".py",
   "mimetype": "text/x-python",
   "name": "python",
   "nbconvert_exporter": "python",
   "pygments_lexer": "ipython3",
   "version": "3.7.3"
  }
 },
 "nbformat": 4,
 "nbformat_minor": 2
}
