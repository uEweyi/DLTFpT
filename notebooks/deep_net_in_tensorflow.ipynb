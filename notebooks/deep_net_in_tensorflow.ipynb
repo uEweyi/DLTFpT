{
 "cells": [
  {
   "cell_type": "markdown",
   "metadata": {},
   "source": [
    "# Deep Neural Network in TensorFlow"
   ]
  },
  {
   "cell_type": "markdown",
   "metadata": {},
   "source": [
    "In this notebook, we improve on our [intermediate neural net](https://github.com/jonkrohn/DLTFpT/blob/master/notebooks/intermediate_net_in_tensorflow.ipynb) by incorporating the theory we've covered since."
   ]
  },
  {
   "cell_type": "markdown",
   "metadata": {},
   "source": [
    "[![Open In Colab](https://colab.research.google.com/assets/colab-badge.svg)](https://colab.research.google.com/github/jonkrohn/DLTFpT/blob/master/notebooks/deep_net_in_tensorflow.ipynb)"
   ]
  },
  {
   "cell_type": "markdown",
   "metadata": {},
   "source": [
    "#### Load dependencies"
   ]
  },
  {
   "cell_type": "code",
   "execution_count": 1,
   "metadata": {
    "scrolled": true
   },
   "outputs": [],
   "source": [
    "import tensorflow\n",
    "from tensorflow.keras.datasets import mnist\n",
    "from tensorflow.keras.utils import to_categorical\n",
    "from tensorflow.keras.models import Sequential\n",
    "from tensorflow.keras.layers import Dense\n",
    "from tensorflow.keras.layers import Dropout # new!\n",
    "from tensorflow.keras.layers import BatchNormalization # new!\n",
    "from tensorflow.keras.optimizers import SGD\n",
    "from matplotlib import pyplot as plt"
   ]
  },
  {
   "cell_type": "markdown",
   "metadata": {},
   "source": [
    "#### Load data"
   ]
  },
  {
   "cell_type": "code",
   "execution_count": 2,
   "metadata": {
    "scrolled": true
   },
   "outputs": [],
   "source": [
    "(X_train, y_train), (X_valid, y_valid) = mnist.load_data()"
   ]
  },
  {
   "cell_type": "markdown",
   "metadata": {},
   "source": [
    "#### Preprocess data"
   ]
  },
  {
   "cell_type": "code",
   "execution_count": 3,
   "metadata": {},
   "outputs": [],
   "source": [
    "X_train = X_train.reshape(60000, 784).astype('float32')\n",
    "X_valid = X_valid.reshape(10000, 784).astype('float32')"
   ]
  },
  {
   "cell_type": "code",
   "execution_count": 4,
   "metadata": {},
   "outputs": [],
   "source": [
    "X_train /= 255\n",
    "X_valid /= 255"
   ]
  },
  {
   "cell_type": "code",
   "execution_count": 5,
   "metadata": {},
   "outputs": [],
   "source": [
    "n_classes = 10\n",
    "y_train = to_categorical(y_train, n_classes)\n",
    "y_valid = to_categorical(y_valid, n_classes)"
   ]
  },
  {
   "cell_type": "markdown",
   "metadata": {},
   "source": [
    "#### Design neural network architecture"
   ]
  },
  {
   "cell_type": "code",
   "execution_count": 6,
   "metadata": {},
   "outputs": [],
   "source": [
    "model = Sequential()\n",
    "\n",
    "model.add(Dense(64, activation='relu', input_shape=(784,)))\n",
    "model.add(BatchNormalization())\n",
    "\n",
    "model.add(Dense(64, activation='relu'))\n",
    "model.add(BatchNormalization())\n",
    "\n",
    "model.add(Dense(64, activation='relu'))\n",
    "model.add(BatchNormalization())\n",
    "model.add(Dropout(0.2))\n",
    "\n",
    "model.add(Dense(10, activation='softmax'))"
   ]
  },
  {
   "cell_type": "code",
   "execution_count": 7,
   "metadata": {},
   "outputs": [
    {
     "name": "stdout",
     "output_type": "stream",
     "text": [
      "Model: \"sequential\"\n",
      "_________________________________________________________________\n",
      "Layer (type)                 Output Shape              Param #   \n",
      "=================================================================\n",
      "dense (Dense)                (None, 64)                50240     \n",
      "_________________________________________________________________\n",
      "batch_normalization (BatchNo (None, 64)                256       \n",
      "_________________________________________________________________\n",
      "dense_1 (Dense)              (None, 64)                4160      \n",
      "_________________________________________________________________\n",
      "batch_normalization_1 (Batch (None, 64)                256       \n",
      "_________________________________________________________________\n",
      "dense_2 (Dense)              (None, 64)                4160      \n",
      "_________________________________________________________________\n",
      "batch_normalization_2 (Batch (None, 64)                256       \n",
      "_________________________________________________________________\n",
      "dropout (Dropout)            (None, 64)                0         \n",
      "_________________________________________________________________\n",
      "dense_3 (Dense)              (None, 10)                650       \n",
      "=================================================================\n",
      "Total params: 59,978\n",
      "Trainable params: 59,594\n",
      "Non-trainable params: 384\n",
      "_________________________________________________________________\n"
     ]
    }
   ],
   "source": [
    "model.summary()"
   ]
  },
  {
   "cell_type": "markdown",
   "metadata": {},
   "source": [
    "#### Configure model"
   ]
  },
  {
   "cell_type": "code",
   "execution_count": 8,
   "metadata": {},
   "outputs": [],
   "source": [
    "model.compile(loss='categorical_crossentropy', optimizer='nadam', metrics=['accuracy'])"
   ]
  },
  {
   "cell_type": "markdown",
   "metadata": {},
   "source": [
    "#### Train!"
   ]
  },
  {
   "cell_type": "code",
   "execution_count": 10,
   "metadata": {},
   "outputs": [
    {
     "name": "stdout",
     "output_type": "stream",
     "text": [
      "Train on 60000 samples, validate on 10000 samples\n",
      "Epoch 1/20\n",
      "60000/60000 [==============================] - 3s 45us/sample - loss: 0.3792 - accuracy: 0.8857 - val_loss: 0.1684 - val_accuracy: 0.9479\n",
      "Epoch 2/20\n",
      "60000/60000 [==============================] - 2s 31us/sample - loss: 0.1519 - accuracy: 0.9542 - val_loss: 0.1251 - val_accuracy: 0.9596\n",
      "Epoch 3/20\n",
      "60000/60000 [==============================] - 2s 26us/sample - loss: 0.1110 - accuracy: 0.9663 - val_loss: 0.1087 - val_accuracy: 0.9669\n",
      "Epoch 4/20\n",
      "60000/60000 [==============================] - 2s 30us/sample - loss: 0.0885 - accuracy: 0.9726 - val_loss: 0.0986 - val_accuracy: 0.9711\n",
      "Epoch 5/20\n",
      "60000/60000 [==============================] - 1s 19us/sample - loss: 0.0748 - accuracy: 0.9765 - val_loss: 0.0900 - val_accuracy: 0.9735\n",
      "Epoch 6/20\n",
      "60000/60000 [==============================] - 1s 23us/sample - loss: 0.0624 - accuracy: 0.9804 - val_loss: 0.0964 - val_accuracy: 0.9718\n",
      "Epoch 7/20\n",
      "60000/60000 [==============================] - 2s 26us/sample - loss: 0.0580 - accuracy: 0.9812 - val_loss: 0.1052 - val_accuracy: 0.9676\n",
      "Epoch 8/20\n",
      "60000/60000 [==============================] - 2s 29us/sample - loss: 0.0492 - accuracy: 0.9843 - val_loss: 0.0999 - val_accuracy: 0.9715\n",
      "Epoch 9/20\n",
      "60000/60000 [==============================] - 1s 24us/sample - loss: 0.0450 - accuracy: 0.9856 - val_loss: 0.0951 - val_accuracy: 0.9744\n",
      "Epoch 10/20\n",
      "60000/60000 [==============================] - 1s 23us/sample - loss: 0.0396 - accuracy: 0.9870 - val_loss: 0.1011 - val_accuracy: 0.9717\n",
      "Epoch 11/20\n",
      "60000/60000 [==============================] - 2s 31us/sample - loss: 0.0389 - accuracy: 0.9871 - val_loss: 0.1033 - val_accuracy: 0.9725\n",
      "Epoch 12/20\n",
      "60000/60000 [==============================] - 2s 29us/sample - loss: 0.0365 - accuracy: 0.9878 - val_loss: 0.1062 - val_accuracy: 0.9725\n",
      "Epoch 13/20\n",
      "60000/60000 [==============================] - 2s 25us/sample - loss: 0.0327 - accuracy: 0.9888 - val_loss: 0.0955 - val_accuracy: 0.9764\n",
      "Epoch 14/20\n",
      "60000/60000 [==============================] - 2s 25us/sample - loss: 0.0279 - accuracy: 0.9902 - val_loss: 0.1111 - val_accuracy: 0.9736\n",
      "Epoch 15/20\n",
      "60000/60000 [==============================] - 1s 22us/sample - loss: 0.0302 - accuracy: 0.9900 - val_loss: 0.0966 - val_accuracy: 0.9768\n",
      "Epoch 16/20\n",
      "60000/60000 [==============================] - 1s 20us/sample - loss: 0.0258 - accuracy: 0.9915 - val_loss: 0.0961 - val_accuracy: 0.9761\n",
      "Epoch 17/20\n",
      "60000/60000 [==============================] - 1s 23us/sample - loss: 0.0256 - accuracy: 0.9913 - val_loss: 0.1047 - val_accuracy: 0.9751\n",
      "Epoch 18/20\n",
      "60000/60000 [==============================] - 2s 35us/sample - loss: 0.0245 - accuracy: 0.9916 - val_loss: 0.0983 - val_accuracy: 0.9766\n",
      "Epoch 19/20\n",
      "60000/60000 [==============================] - 1s 22us/sample - loss: 0.0211 - accuracy: 0.9928 - val_loss: 0.1067 - val_accuracy: 0.9745\n",
      "Epoch 20/20\n",
      "60000/60000 [==============================] - 1s 24us/sample - loss: 0.0188 - accuracy: 0.9937 - val_loss: 0.0997 - val_accuracy: 0.9782\n"
     ]
    },
    {
     "data": {
      "text/plain": [
       "<tensorflow.python.keras.callbacks.History at 0x7fa724709da0>"
      ]
     },
     "execution_count": 10,
     "metadata": {},
     "output_type": "execute_result"
    }
   ],
   "source": [
    "model.fit(X_train, y_train, batch_size=128, epochs=20, verbose=1, validation_data=(X_valid, y_valid))"
   ]
  },
  {
   "cell_type": "markdown",
   "metadata": {},
   "source": [
    "#### Performing inference"
   ]
  },
  {
   "cell_type": "code",
   "execution_count": 11,
   "metadata": {},
   "outputs": [],
   "source": [
    "valid_0 = X_valid[0].reshape(1, 784)"
   ]
  },
  {
   "cell_type": "code",
   "execution_count": 12,
   "metadata": {},
   "outputs": [
    {
     "data": {
      "text/plain": [
       "array([[7.2624915e-09, 8.5062624e-08, 2.0962524e-07, 5.7667972e-07,\n",
       "        4.9338365e-07, 1.0011472e-08, 8.8665271e-09, 9.9999857e-01,\n",
       "        4.2588776e-11, 2.5565042e-08]], dtype=float32)"
      ]
     },
     "execution_count": 12,
     "metadata": {},
     "output_type": "execute_result"
    }
   ],
   "source": [
    "model.predict(valid_0)"
   ]
  },
  {
   "cell_type": "code",
   "execution_count": 13,
   "metadata": {},
   "outputs": [
    {
     "data": {
      "text/plain": [
       "array([7])"
      ]
     },
     "execution_count": 13,
     "metadata": {},
     "output_type": "execute_result"
    }
   ],
   "source": [
    "model.predict_classes(valid_0)"
   ]
  },
  {
   "cell_type": "code",
   "execution_count": null,
   "metadata": {},
   "outputs": [],
   "source": []
  }
 ],
 "metadata": {
  "kernelspec": {
   "display_name": "Python 3",
   "language": "python",
   "name": "python3"
  },
  "language_info": {
   "codemirror_mode": {
    "name": "ipython",
    "version": 3
   },
   "file_extension": ".py",
   "mimetype": "text/x-python",
   "name": "python",
   "nbconvert_exporter": "python",
   "pygments_lexer": "ipython3",
   "version": "3.7.3"
  }
 },
 "nbformat": 4,
 "nbformat_minor": 2
}
