{
 "cells": [
  {
   "cell_type": "markdown",
   "metadata": {},
   "source": [
    "# Transfer Learning in Keras\n",
    "\n",
    "In this notebook, we load a pre-trained model (in this case, VGGNet19) and finetune it for a new task: detecting hot dogs."
   ]
  },
  {
   "cell_type": "markdown",
   "metadata": {},
   "source": [
    "#### Load dependencies"
   ]
  },
  {
   "cell_type": "code",
   "execution_count": 1,
   "metadata": {},
   "outputs": [],
   "source": [
    "from tensorflow.keras.applications.vgg19 import VGG19 # new!\n",
    "from tensorflow.keras.models import Sequential\n",
    "from tensorflow.keras.layers import Dense, Dropout, Flatten\n",
    "from tensorflow.keras.preprocessing.image import ImageDataGenerator # new!"
   ]
  },
  {
   "cell_type": "markdown",
   "metadata": {},
   "source": [
    "#### Load the pre-trained VGG19 model"
   ]
  },
  {
   "cell_type": "code",
   "execution_count": 2,
   "metadata": {},
   "outputs": [
    {
     "name": "stdout",
     "output_type": "stream",
     "text": [
      "Downloading data from https://github.com/fchollet/deep-learning-models/releases/download/v0.1/vgg19_weights_tf_dim_ordering_tf_kernels_notop.h5\n",
      "80142336/80134624 [==============================] - 2s 0us/step\n"
     ]
    }
   ],
   "source": [
    "vgg19 = VGG19(include_top=False,\n",
    "              weights='imagenet',\n",
    "              input_shape=(224,224,3),\n",
    "              pooling=None)"
   ]
  },
  {
   "cell_type": "markdown",
   "metadata": {},
   "source": [
    "#### Freeze all the layers in the base VGGNet19 model"
   ]
  },
  {
   "cell_type": "code",
   "execution_count": 3,
   "metadata": {},
   "outputs": [],
   "source": [
    "for layer in vgg19.layers:\n",
    "    layer.trainable = False"
   ]
  },
  {
   "cell_type": "markdown",
   "metadata": {},
   "source": [
    "#### Add custom classification layers"
   ]
  },
  {
   "cell_type": "code",
   "execution_count": 4,
   "metadata": {},
   "outputs": [],
   "source": [
    "# Instantiate the sequential model and add the VGG19 model: \n",
    "model = Sequential()\n",
    "model.add(vgg19)\n",
    "\n",
    "# Add the custom layers atop the VGG19 model: \n",
    "model.add(Flatten(name='flattened'))\n",
    "model.add(Dropout(0.5, name='dropout'))\n",
    "model.add(Dense(2, activation='softmax', name='predictions'))"
   ]
  },
  {
   "cell_type": "markdown",
   "metadata": {},
   "source": [
    "#### Compile the model for training"
   ]
  },
  {
   "cell_type": "code",
   "execution_count": 5,
   "metadata": {},
   "outputs": [],
   "source": [
    "model.compile(optimizer='nadam', loss='categorical_crossentropy', metrics=['accuracy'])"
   ]
  },
  {
   "cell_type": "markdown",
   "metadata": {},
   "source": [
    "#### Prepare the data for training"
   ]
  },
  {
   "cell_type": "markdown",
   "metadata": {},
   "source": [
    "The dataset is available for download [here](https://www.kaggle.com/dansbecker/hot-dog-not-hot-dog/home). You should download the zipfile and extract the contents into a folder called `hot-dog-not-hot-dog` in the `notebooks` directory."
   ]
  },
  {
   "cell_type": "code",
   "execution_count": 6,
   "metadata": {},
   "outputs": [],
   "source": [
    "# Instantiate two image generator classes:\n",
    "train_datagen = ImageDataGenerator(\n",
    "    rescale=1.0/255,\n",
    "    data_format='channels_last',\n",
    "    rotation_range=30,\n",
    "    horizontal_flip=True,\n",
    "    fill_mode='reflect')\n",
    "\n",
    "valid_datagen = ImageDataGenerator(\n",
    "    rescale=1.0/255,\n",
    "    data_format='channels_last')"
   ]
  },
  {
   "cell_type": "code",
   "execution_count": 7,
   "metadata": {},
   "outputs": [],
   "source": [
    "# Define the batch size:\n",
    "batch_size=32"
   ]
  },
  {
   "cell_type": "code",
   "execution_count": 8,
   "metadata": {},
   "outputs": [
    {
     "name": "stdout",
     "output_type": "stream",
     "text": [
      "Found 498 images belonging to 2 classes.\n",
      "Found 500 images belonging to 2 classes.\n"
     ]
    }
   ],
   "source": [
    "# Define the train and validation generators: \n",
    "train_generator = train_datagen.flow_from_directory(\n",
    "    directory='./hot-dog-not-hot-dog/train',\n",
    "    target_size=(224, 224),\n",
    "    classes=['hot_dog','not_hot_dog'],\n",
    "    class_mode='categorical',\n",
    "    batch_size=batch_size,\n",
    "    shuffle=True,\n",
    "    seed=42)\n",
    "\n",
    "valid_generator = valid_datagen.flow_from_directory(\n",
    "    directory='./hot-dog-not-hot-dog/test',\n",
    "    target_size=(224, 224),\n",
    "    classes=['hot_dog','not_hot_dog'],\n",
    "    class_mode='categorical',\n",
    "    batch_size=batch_size,\n",
    "    shuffle=True,\n",
    "    seed=42)"
   ]
  },
  {
   "cell_type": "code",
   "execution_count": 9,
   "metadata": {},
   "outputs": [
    {
     "name": "stdout",
     "output_type": "stream",
     "text": [
      "Epoch 1/16\n"
     ]
    },
    {
     "name": "stdout",
     "output_type": "stream",
     "text": [
      "15/15 [==============================] - 71s 5s/step - loss: 1.3114 - accuracy: 0.5386 - val_loss: 0.6006 - val_accuracy: 0.6792\n",
      "Epoch 2/16\n",
      "15/15 [==============================] - 70s 5s/step - loss: 0.9260 - accuracy: 0.6416 - val_loss: 0.8028 - val_accuracy: 0.6500\n",
      "Epoch 3/16\n",
      "15/15 [==============================] - 70s 5s/step - loss: 0.6833 - accuracy: 0.6996 - val_loss: 1.0217 - val_accuracy: 0.5917\n",
      "Epoch 4/16\n",
      "15/15 [==============================] - 71s 5s/step - loss: 0.6606 - accuracy: 0.7354 - val_loss: 0.9002 - val_accuracy: 0.6375\n",
      "Epoch 5/16\n",
      "15/15 [==============================] - 70s 5s/step - loss: 0.6189 - accuracy: 0.7339 - val_loss: 0.5459 - val_accuracy: 0.7604\n",
      "Epoch 6/16\n",
      "15/15 [==============================] - 70s 5s/step - loss: 0.4894 - accuracy: 0.7876 - val_loss: 0.4412 - val_accuracy: 0.8021\n",
      "Epoch 7/16\n",
      "15/15 [==============================] - 70s 5s/step - loss: 0.4099 - accuracy: 0.8240 - val_loss: 0.6143 - val_accuracy: 0.7333\n",
      "Epoch 8/16\n",
      "15/15 [==============================] - 69s 5s/step - loss: 0.6222 - accuracy: 0.7456 - val_loss: 0.4295 - val_accuracy: 0.8042\n",
      "Epoch 9/16\n",
      "15/15 [==============================] - 70s 5s/step - loss: 0.4944 - accuracy: 0.7918 - val_loss: 0.7542 - val_accuracy: 0.7229\n",
      "Epoch 10/16\n",
      "15/15 [==============================] - 71s 5s/step - loss: 0.2703 - accuracy: 0.8687 - val_loss: 0.4647 - val_accuracy: 0.7854\n",
      "Epoch 11/16\n",
      "15/15 [==============================] - 70s 5s/step - loss: 0.3515 - accuracy: 0.8369 - val_loss: 0.5281 - val_accuracy: 0.7792\n",
      "Epoch 12/16\n",
      "15/15 [==============================] - 70s 5s/step - loss: 0.3218 - accuracy: 0.8541 - val_loss: 0.7852 - val_accuracy: 0.7104\n",
      "Epoch 13/16\n",
      "15/15 [==============================] - 70s 5s/step - loss: 0.3896 - accuracy: 0.8670 - val_loss: 0.5110 - val_accuracy: 0.7875\n",
      "Epoch 14/16\n",
      "15/15 [==============================] - 70s 5s/step - loss: 0.2818 - accuracy: 0.8670 - val_loss: 0.4594 - val_accuracy: 0.8042\n",
      "Epoch 15/16\n",
      "15/15 [==============================] - 69s 5s/step - loss: 0.2547 - accuracy: 0.8783 - val_loss: 0.4947 - val_accuracy: 0.7875\n",
      "Epoch 16/16\n",
      "15/15 [==============================] - 71s 5s/step - loss: 0.4701 - accuracy: 0.8062 - val_loss: 0.4930 - val_accuracy: 0.8000\n"
     ]
    },
    {
     "data": {
      "text/plain": [
       "<tensorflow.python.keras.callbacks.History at 0x7f84544b89b0>"
      ]
     },
     "execution_count": 9,
     "metadata": {},
     "output_type": "execute_result"
    }
   ],
   "source": [
    "model.fit_generator(train_generator, steps_per_epoch=15, \n",
    "                    epochs=16, validation_data=valid_generator, \n",
    "                    validation_steps=15)"
   ]
  },
  {
   "cell_type": "code",
   "execution_count": null,
   "metadata": {},
   "outputs": [],
   "source": []
  }
 ],
 "metadata": {
  "kernelspec": {
   "display_name": "Python 3",
   "language": "python",
   "name": "python3"
  },
  "language_info": {
   "codemirror_mode": {
    "name": "ipython",
    "version": 3
   },
   "file_extension": ".py",
   "mimetype": "text/x-python",
   "name": "python",
   "nbconvert_exporter": "python",
   "pygments_lexer": "ipython3",
   "version": "3.7.3"
  }
 },
 "nbformat": 4,
 "nbformat_minor": 2
}
