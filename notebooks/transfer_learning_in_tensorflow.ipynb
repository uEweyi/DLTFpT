{
 "cells": [
  {
   "cell_type": "markdown",
   "metadata": {
    "colab_type": "text",
    "id": "view-in-github"
   },
   "source": [
    "<a href=\"https://colab.research.google.com/github/jonkrohn/DLTFpT/blob/master/notebooks/transfer_learning_in_tensorflow.ipynb\" target=\"_parent\"><img src=\"https://colab.research.google.com/assets/colab-badge.svg\" alt=\"Open In Colab\"/></a>"
   ]
  },
  {
   "cell_type": "markdown",
   "metadata": {
    "colab_type": "text",
    "id": "0kbY0KYfXUvL"
   },
   "source": [
    "# Transfer Learning\n",
    "\n",
    "In this notebook, we load a pre-trained model (in this case, VGGNet19) and finetune it for a new task: detecting hot dogs."
   ]
  },
  {
   "cell_type": "markdown",
   "metadata": {
    "colab_type": "text",
    "id": "gwkO_cNnXUvQ"
   },
   "source": [
    "#### Load dependencies"
   ]
  },
  {
   "cell_type": "code",
   "execution_count": 1,
   "metadata": {
    "colab": {},
    "colab_type": "code",
    "id": "QopB53apXUvV"
   },
   "outputs": [],
   "source": [
    "from tensorflow.keras.applications.vgg19 import VGG19 # new!\n",
    "from tensorflow.keras.models import Sequential\n",
    "from tensorflow.keras.layers import Dense, Dropout, Flatten\n",
    "from tensorflow.keras.preprocessing.image import ImageDataGenerator # new!"
   ]
  },
  {
   "cell_type": "markdown",
   "metadata": {
    "colab_type": "text",
    "id": "yv-1x_UVXUvf"
   },
   "source": [
    "#### Load the pre-trained VGG19 model"
   ]
  },
  {
   "cell_type": "code",
   "execution_count": 2,
   "metadata": {
    "colab": {},
    "colab_type": "code",
    "id": "8EBF8Nq_XUvh"
   },
   "outputs": [],
   "source": [
    "vgg19 = VGG19(include_top=False,\n",
    "              weights='imagenet',\n",
    "              input_shape=(224,224,3),\n",
    "              pooling=None)"
   ]
  },
  {
   "cell_type": "markdown",
   "metadata": {
    "colab_type": "text",
    "id": "_Nas5PppXUvo"
   },
   "source": [
    "#### Freeze all the layers in the base VGGNet19 model"
   ]
  },
  {
   "cell_type": "code",
   "execution_count": 3,
   "metadata": {
    "colab": {},
    "colab_type": "code",
    "id": "OIfAuTcpXUvq"
   },
   "outputs": [],
   "source": [
    "for layer in vgg19.layers:\n",
    "    layer.trainable = False"
   ]
  },
  {
   "cell_type": "markdown",
   "metadata": {
    "colab_type": "text",
    "id": "MbKPfaJ4XUvw"
   },
   "source": [
    "#### Add custom classification layers"
   ]
  },
  {
   "cell_type": "code",
   "execution_count": 4,
   "metadata": {
    "colab": {},
    "colab_type": "code",
    "id": "1UwPBdAAXUvy"
   },
   "outputs": [],
   "source": [
    "# Instantiate the sequential model and add the VGG19 model: \n",
    "model = Sequential()\n",
    "model.add(vgg19)\n",
    "\n",
    "# Add the custom layers atop the VGG19 model: \n",
    "model.add(Flatten())\n",
    "model.add(Dropout(0.5))\n",
    "model.add(Dense(2, activation='softmax'))"
   ]
  },
  {
   "cell_type": "code",
   "execution_count": 5,
   "metadata": {
    "colab": {
     "base_uri": "https://localhost:8080/",
     "height": 295
    },
    "colab_type": "code",
    "id": "bcxO9igkahgS",
    "outputId": "0ac37247-f4ad-440b-ebdb-a9c06f56bc7c"
   },
   "outputs": [
    {
     "name": "stdout",
     "output_type": "stream",
     "text": [
      "Model: \"sequential\"\n",
      "_________________________________________________________________\n",
      "Layer (type)                 Output Shape              Param #   \n",
      "=================================================================\n",
      "vgg19 (Model)                (None, 7, 7, 512)         20024384  \n",
      "_________________________________________________________________\n",
      "flatten (Flatten)            (None, 25088)             0         \n",
      "_________________________________________________________________\n",
      "dropout (Dropout)            (None, 25088)             0         \n",
      "_________________________________________________________________\n",
      "dense (Dense)                (None, 2)                 50178     \n",
      "=================================================================\n",
      "Total params: 20,074,562\n",
      "Trainable params: 50,178\n",
      "Non-trainable params: 20,024,384\n",
      "_________________________________________________________________\n"
     ]
    }
   ],
   "source": [
    "model.summary()"
   ]
  },
  {
   "cell_type": "markdown",
   "metadata": {
    "colab_type": "text",
    "id": "0hRykcyAXUv3"
   },
   "source": [
    "#### Compile the model for training"
   ]
  },
  {
   "cell_type": "code",
   "execution_count": 6,
   "metadata": {
    "colab": {},
    "colab_type": "code",
    "id": "8lMeMTHYXUv5"
   },
   "outputs": [],
   "source": [
    "model.compile(optimizer='nadam', loss='categorical_crossentropy', metrics=['accuracy'])"
   ]
  },
  {
   "cell_type": "markdown",
   "metadata": {
    "colab_type": "text",
    "id": "4qjso4EqXUwA"
   },
   "source": [
    "#### Prepare the data for training"
   ]
  },
  {
   "cell_type": "code",
   "execution_count": 7,
   "metadata": {
    "colab": {},
    "colab_type": "code",
    "id": "MmFfw5WyXUwC"
   },
   "outputs": [
    {
     "name": "stdout",
     "output_type": "stream",
     "text": [
      "--2019-11-02 23:25:21--  https://www.dropbox.com/s/86r9z1kb42422up/hot-dog-not-hot-dog.tar.gz\n",
      "Resolving www.dropbox.com (www.dropbox.com)... 162.125.4.1, 2620:100:6019:1::a27d:401\n",
      "Connecting to www.dropbox.com (www.dropbox.com)|162.125.4.1|:443... connected.\n",
      "HTTP request sent, awaiting response... 301 Moved Permanently\n",
      "Location: /s/raw/86r9z1kb42422up/hot-dog-not-hot-dog.tar.gz [following]\n",
      "--2019-11-02 23:25:21--  https://www.dropbox.com/s/raw/86r9z1kb42422up/hot-dog-not-hot-dog.tar.gz\n",
      "Reusing existing connection to www.dropbox.com:443.\n",
      "HTTP request sent, awaiting response... 302 Found\n",
      "Location: https://uc4a717e1730b99ed1b4a7d6dd52.dl.dropboxusercontent.com/cd/0/inline/AroYhyN-Q2Nd3wYkqo_wow1FwY6LX9WSjCxPd4gMXizjSlLge8y6v3Jybke99exhKw-9pJwAJRwrWEZCv2l_w0inZqWpNWxfaDeV1VQZVx-Y_XAPv1tY1gm7UkrqyvnYk_U/file# [following]\n",
      "--2019-11-02 23:25:21--  https://uc4a717e1730b99ed1b4a7d6dd52.dl.dropboxusercontent.com/cd/0/inline/AroYhyN-Q2Nd3wYkqo_wow1FwY6LX9WSjCxPd4gMXizjSlLge8y6v3Jybke99exhKw-9pJwAJRwrWEZCv2l_w0inZqWpNWxfaDeV1VQZVx-Y_XAPv1tY1gm7UkrqyvnYk_U/file\n",
      "Resolving uc4a717e1730b99ed1b4a7d6dd52.dl.dropboxusercontent.com (uc4a717e1730b99ed1b4a7d6dd52.dl.dropboxusercontent.com)... 162.125.4.6, 2620:100:6019:6::a27d:406\n",
      "Connecting to uc4a717e1730b99ed1b4a7d6dd52.dl.dropboxusercontent.com (uc4a717e1730b99ed1b4a7d6dd52.dl.dropboxusercontent.com)|162.125.4.6|:443... connected.\n",
      "HTTP request sent, awaiting response... 302 FOUND\n",
      "Location: /cd/0/inline2/Arr1y4MOOfFXkOJrG2oYZQ4ljRVTqFqP_FlrfMONtuaVlf-mjPqnoGn8vgESqinUTX77KH4FqwXrIuESsB00zEXGKVZew_jEwLd_bzEqB9VBkLOFui0Vi8gRHj7Tqw0WskFzwMP7mCkRob-Q4Zgdd4V8jUoR2dtV-D07fTGpyJhELOpHG4gyYtK1v2i_dC1SLgBsdHdYSVoWNwSQSgusJGAddvwmQ6exyZHyAgmwE-oUwnxktINdEu4W3jiJ0Lylzov0fzXCkEepQ25cfmvS7z4mi5Ow1SbJmImhzfT1Ax_gqIkxT3NwBrLL2-i0PBOVUeS6Dm0vJkRqPQI8qLUCuW6ImxpTtDQlVdyWmUOjZDOQTw/file [following]\n",
      "--2019-11-02 23:25:22--  https://uc4a717e1730b99ed1b4a7d6dd52.dl.dropboxusercontent.com/cd/0/inline2/Arr1y4MOOfFXkOJrG2oYZQ4ljRVTqFqP_FlrfMONtuaVlf-mjPqnoGn8vgESqinUTX77KH4FqwXrIuESsB00zEXGKVZew_jEwLd_bzEqB9VBkLOFui0Vi8gRHj7Tqw0WskFzwMP7mCkRob-Q4Zgdd4V8jUoR2dtV-D07fTGpyJhELOpHG4gyYtK1v2i_dC1SLgBsdHdYSVoWNwSQSgusJGAddvwmQ6exyZHyAgmwE-oUwnxktINdEu4W3jiJ0Lylzov0fzXCkEepQ25cfmvS7z4mi5Ow1SbJmImhzfT1Ax_gqIkxT3NwBrLL2-i0PBOVUeS6Dm0vJkRqPQI8qLUCuW6ImxpTtDQlVdyWmUOjZDOQTw/file\n",
      "Reusing existing connection to uc4a717e1730b99ed1b4a7d6dd52.dl.dropboxusercontent.com:443.\n",
      "HTTP request sent, awaiting response... 200 OK\n",
      "\n",
      "    The file is already fully retrieved; nothing to do.\n",
      "\n"
     ]
    }
   ],
   "source": [
    "# You can comment out the two lines of code below if you executed them on\n",
    "# a previous run of the notebook. The wget command downloads the data and the \n",
    "# tar command extracts the data from a compressed file format. \n",
    "! wget -c https://www.dropbox.com/s/86r9z1kb42422up/hot-dog-not-hot-dog.tar.gz\n",
    "! tar -xzf hot-dog-not-hot-dog.tar.gz"
   ]
  },
  {
   "cell_type": "code",
   "execution_count": 8,
   "metadata": {
    "colab": {},
    "colab_type": "code",
    "id": "AXNPazweXUwH"
   },
   "outputs": [],
   "source": [
    "# Instantiate two image generator classes:\n",
    "train_datagen = ImageDataGenerator(\n",
    "    rescale=1.0/255,\n",
    "    data_format='channels_last',\n",
    "    rotation_range=30,\n",
    "    horizontal_flip=True,\n",
    "    fill_mode='reflect')\n",
    "\n",
    "valid_datagen = ImageDataGenerator(\n",
    "    rescale=1.0/255,\n",
    "    data_format='channels_last')"
   ]
  },
  {
   "cell_type": "code",
   "execution_count": 9,
   "metadata": {
    "colab": {},
    "colab_type": "code",
    "id": "GkC9jS5YXUwL"
   },
   "outputs": [],
   "source": [
    "# Define the batch size:\n",
    "batch_size=32"
   ]
  },
  {
   "cell_type": "code",
   "execution_count": 10,
   "metadata": {
    "colab": {
     "base_uri": "https://localhost:8080/",
     "height": 52
    },
    "colab_type": "code",
    "id": "gXyJj7ewXUwR",
    "outputId": "9b479e01-c188-4ad6-e90f-6ec454975abc"
   },
   "outputs": [
    {
     "name": "stdout",
     "output_type": "stream",
     "text": [
      "Found 498 images belonging to 2 classes.\n",
      "Found 500 images belonging to 2 classes.\n"
     ]
    }
   ],
   "source": [
    "# Define the train and validation generators: \n",
    "train_generator = train_datagen.flow_from_directory(\n",
    "    directory='./hot-dog-not-hot-dog/train',\n",
    "    target_size=(224, 224),\n",
    "    classes=['hot_dog','not_hot_dog'],\n",
    "    class_mode='categorical',\n",
    "    batch_size=batch_size,\n",
    "    shuffle=True,\n",
    "    seed=42)\n",
    "\n",
    "valid_generator = valid_datagen.flow_from_directory(\n",
    "    directory='./hot-dog-not-hot-dog/test',\n",
    "    target_size=(224, 224),\n",
    "    classes=['hot_dog','not_hot_dog'],\n",
    "    class_mode='categorical',\n",
    "    batch_size=batch_size,\n",
    "    shuffle=True,\n",
    "    seed=42)"
   ]
  },
  {
   "cell_type": "code",
   "execution_count": 11,
   "metadata": {
    "colab": {
     "base_uri": "https://localhost:8080/",
     "height": 434
    },
    "colab_type": "code",
    "id": "md-_KzmjXUwW",
    "outputId": "cbcca782-2fe2-418a-811a-6132c2128da9"
   },
   "outputs": [
    {
     "name": "stdout",
     "output_type": "stream",
     "text": [
      "Epoch 1/16\n",
      "15/15 [==============================] - 259s 17s/step - loss: 1.1257 - accuracy: 0.5665 - val_loss: 0.6954 - val_accuracy: 0.6292\n",
      "Epoch 2/16\n",
      "15/15 [==============================] - 259s 17s/step - loss: 0.9458 - accuracy: 0.6373 - val_loss: 0.4744 - val_accuracy: 0.7625\n",
      "Epoch 3/16\n",
      "15/15 [==============================] - 259s 17s/step - loss: 0.7684 - accuracy: 0.6738 - val_loss: 1.3607 - val_accuracy: 0.5437\n",
      "Epoch 4/16\n",
      "15/15 [==============================] - 258s 17s/step - loss: 0.6215 - accuracy: 0.7253 - val_loss: 0.4775 - val_accuracy: 0.7854\n",
      "Epoch 5/16\n",
      "15/15 [==============================] - 258s 17s/step - loss: 0.5768 - accuracy: 0.7618 - val_loss: 0.8703 - val_accuracy: 0.6625\n",
      "Epoch 6/16\n",
      "15/15 [==============================] - 265s 18s/step - loss: 0.5856 - accuracy: 0.7542 - val_loss: 0.4466 - val_accuracy: 0.8021\n",
      "Epoch 7/16\n",
      "15/15 [==============================] - 253s 17s/step - loss: 0.4122 - accuracy: 0.8031 - val_loss: 0.4646 - val_accuracy: 0.7958\n",
      "Epoch 8/16\n",
      "15/15 [==============================] - 266s 18s/step - loss: 0.3337 - accuracy: 0.8792 - val_loss: 0.4829 - val_accuracy: 0.7875\n",
      "Epoch 9/16\n",
      "15/15 [==============================] - 252s 17s/step - loss: 0.6049 - accuracy: 0.7434 - val_loss: 0.4765 - val_accuracy: 0.7937\n",
      "Epoch 10/16\n",
      "15/15 [==============================] - 265s 18s/step - loss: 0.3795 - accuracy: 0.8438 - val_loss: 0.6940 - val_accuracy: 0.7333\n",
      "Epoch 11/16\n",
      "15/15 [==============================] - 259s 17s/step - loss: 0.3028 - accuracy: 0.8519 - val_loss: 0.5209 - val_accuracy: 0.7667\n",
      "Epoch 12/16\n",
      "15/15 [==============================] - 252s 17s/step - loss: 0.2496 - accuracy: 0.8894 - val_loss: 0.4667 - val_accuracy: 0.7958\n",
      "Epoch 13/16\n",
      "15/15 [==============================] - 259s 17s/step - loss: 0.2877 - accuracy: 0.8863 - val_loss: 0.5309 - val_accuracy: 0.7708\n",
      "Epoch 14/16\n",
      "15/15 [==============================] - 265s 18s/step - loss: 0.2562 - accuracy: 0.8938 - val_loss: 0.5808 - val_accuracy: 0.7708\n",
      "Epoch 15/16\n",
      "15/15 [==============================] - 260s 17s/step - loss: 0.6724 - accuracy: 0.7704 - val_loss: 0.4820 - val_accuracy: 0.7917\n",
      "Epoch 16/16\n",
      "15/15 [==============================] - 259s 17s/step - loss: 0.2754 - accuracy: 0.8691 - val_loss: 0.5119 - val_accuracy: 0.7854\n"
     ]
    },
    {
     "data": {
      "text/plain": [
       "<tensorflow.python.keras.callbacks.History at 0x7feaa0726160>"
      ]
     },
     "execution_count": 11,
     "metadata": {},
     "output_type": "execute_result"
    }
   ],
   "source": [
    "model.fit_generator(train_generator, steps_per_epoch=15, \n",
    "                    epochs=16, validation_data=valid_generator, \n",
    "                    validation_steps=15)"
   ]
  },
  {
   "cell_type": "code",
   "execution_count": null,
   "metadata": {
    "colab": {},
    "colab_type": "code",
    "id": "0eto287aXUwa"
   },
   "outputs": [],
   "source": []
  }
 ],
 "metadata": {
  "accelerator": "GPU",
  "colab": {
   "include_colab_link": true,
   "name": "transfer_learning_in_tensorflow.ipynb",
   "provenance": []
  },
  "kernelspec": {
   "display_name": "Python 3",
   "language": "python",
   "name": "python3"
  },
  "language_info": {
   "codemirror_mode": {
    "name": "ipython",
    "version": 3
   },
   "file_extension": ".py",
   "mimetype": "text/x-python",
   "name": "python",
   "nbconvert_exporter": "python",
   "pygments_lexer": "ipython3",
   "version": "3.7.3"
  }
 },
 "nbformat": 4,
 "nbformat_minor": 1
}
