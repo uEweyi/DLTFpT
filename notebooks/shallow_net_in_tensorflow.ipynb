{
 "cells": [
  {
   "cell_type": "markdown",
   "metadata": {},
   "source": [
    "# Shallow Neural Network in TensorFlow"
   ]
  },
  {
   "cell_type": "markdown",
   "metadata": {},
   "source": [
    "Build a shallow neural network to classify handwritten digits"
   ]
  },
  {
   "cell_type": "markdown",
   "metadata": {},
   "source": [
    "[![Open In Colab](https://colab.research.google.com/assets/colab-badge.svg)](https://colab.research.google.com/github/jonkrohn/DLTFpT/blob/master/notebooks/shallow_net_in_tensorflow.ipynb)"
   ]
  },
  {
   "cell_type": "markdown",
   "metadata": {},
   "source": [
    "#### Load dependencies"
   ]
  },
  {
   "cell_type": "code",
   "execution_count": 1,
   "metadata": {
    "scrolled": true
   },
   "outputs": [],
   "source": [
    "import tensorflow\n",
    "from tensorflow.keras.datasets import mnist\n",
    "from tensorflow.keras.utils import to_categorical\n",
    "from tensorflow.keras.models import Sequential\n",
    "from tensorflow.keras.layers import Dense\n",
    "from tensorflow.keras.optimizers import SGD\n",
    "from matplotlib import pyplot as plt"
   ]
  },
  {
   "cell_type": "markdown",
   "metadata": {},
   "source": [
    "#### Load data"
   ]
  },
  {
   "cell_type": "code",
   "execution_count": 2,
   "metadata": {
    "scrolled": true
   },
   "outputs": [],
   "source": [
    "(X_train, y_train), (X_valid, y_valid) = mnist.load_data()"
   ]
  },
  {
   "cell_type": "code",
   "execution_count": 3,
   "metadata": {},
   "outputs": [
    {
     "data": {
      "text/plain": [
       "(60000, 28, 28)"
      ]
     },
     "execution_count": 3,
     "metadata": {},
     "output_type": "execute_result"
    }
   ],
   "source": [
    "X_train.shape"
   ]
  },
  {
   "cell_type": "code",
   "execution_count": 4,
   "metadata": {},
   "outputs": [
    {
     "data": {
      "text/plain": [
       "(60000,)"
      ]
     },
     "execution_count": 4,
     "metadata": {},
     "output_type": "execute_result"
    }
   ],
   "source": [
    "y_train.shape"
   ]
  },
  {
   "cell_type": "code",
   "execution_count": 5,
   "metadata": {},
   "outputs": [
    {
     "data": {
      "text/plain": [
       "array([5, 0, 4, 1, 9, 2, 1, 3, 1, 4, 3, 5], dtype=uint8)"
      ]
     },
     "execution_count": 5,
     "metadata": {},
     "output_type": "execute_result"
    }
   ],
   "source": [
    "y_train[0:12]"
   ]
  },
  {
   "cell_type": "code",
   "execution_count": 6,
   "metadata": {},
   "outputs": [
    {
     "data": {
      "image/png": "[encoded data removed]",
      "text/plain": [
       "<Figure size 360x360 with 12 Axes>"
      ]
     },
     "metadata": {
      "needs_background": "light"
     },
     "output_type": "display_data"
    }
   ],
   "source": [
    "plt.figure(figsize=(5,5))\n",
    "for k in range(12):\n",
    "    plt.subplot(3, 4, k+1)\n",
    "    plt.imshow(X_train[k], cmap='Greys')\n",
    "    plt.axis('off')\n",
    "plt.tight_layout()\n",
    "plt.show()"
   ]
  },
  {
   "cell_type": "code",
   "execution_count": 7,
   "metadata": {},
   "outputs": [
    {
     "data": {
      "text/plain": [
       "(10000, 28, 28)"
      ]
     },
     "execution_count": 7,
     "metadata": {},
     "output_type": "execute_result"
    }
   ],
   "source": [
    "X_valid.shape"
   ]
  },
  {
   "cell_type": "code",
   "execution_count": 8,
   "metadata": {},
   "outputs": [
    {
     "data": {
      "text/plain": [
       "(10000,)"
      ]
     },
     "execution_count": 8,
     "metadata": {},
     "output_type": "execute_result"
    }
   ],
   "source": [
    "y_valid.shape"
   ]
  },
  {
   "cell_type": "code",
   "execution_count": 9,
   "metadata": {},
   "outputs": [
    {
     "data": {
      "text/plain": [
       "<matplotlib.image.AxesImage at 0x7ff3a93d6160>"
      ]
     },
     "execution_count": 9,
     "metadata": {},
     "output_type": "execute_result"
    },
    {
     "data": {
      "image/png": "[encoded data removed]",
      "text/plain": [
       "<Figure size 432x288 with 1 Axes>"
      ]
     },
     "metadata": {
      "needs_background": "light"
     },
     "output_type": "display_data"
    }
   ],
   "source": [
    "plt.imshow(X_valid[0], cmap='Greys')"
   ]
  },
  {
   "cell_type": "code",
   "execution_count": 10,
   "metadata": {},
   "outputs": [
    {
     "data": {
      "text/plain": [
       "array([[  0,   0,   0,   0,   0,   0,   0,   0,   0,   0,   0,   0,   0,\n",
       "          0,   0,   0,   0,   0,   0,   0,   0,   0,   0,   0,   0,   0,\n",
       "          0,   0],\n",
       "       [  0,   0,   0,   0,   0,   0,   0,   0,   0,   0,   0,   0,   0,\n",
       "          0,   0,   0,   0,   0,   0,   0,   0,   0,   0,   0,   0,   0,\n",
       "          0,   0],\n",
       "       [  0,   0,   0,   0,   0,   0,   0,   0,   0,   0,   0,   0,   0,\n",
       "          0,   0,   0,   0,   0,   0,   0,   0,   0,   0,   0,   0,   0,\n",
       "          0,   0],\n",
       "       [  0,   0,   0,   0,   0,   0,   0,   0,   0,   0,   0,   0,   0,\n",
       "          0,   0,   0,   0,   0,   0,   0,   0,   0,   0,   0,   0,   0,\n",
       "          0,   0],\n",
       "       [  0,   0,   0,   0,   0,   0,   0,   0,   0,   0,   0,   0,   0,\n",
       "          0,   0,   0,   0,   0,   0,   0,   0,   0,   0,   0,   0,   0,\n",
       "          0,   0],\n",
       "       [  0,   0,   0,   0,   0,   0,   0,   0,   0,   0,   0,   0,   0,\n",
       "          0,   0,   0,   0,   0,   0,   0,   0,   0,   0,   0,   0,   0,\n",
       "          0,   0],\n",
       "       [  0,   0,   0,   0,   0,   0,   0,   0,   0,   0,   0,   0,   0,\n",
       "          0,   0,   0,   0,   0,   0,   0,   0,   0,   0,   0,   0,   0,\n",
       "          0,   0],\n",
       "       [  0,   0,   0,   0,   0,   0,  84, 185, 159, 151,  60,  36,   0,\n",
       "          0,   0,   0,   0,   0,   0,   0,   0,   0,   0,   0,   0,   0,\n",
       "          0,   0],\n",
       "       [  0,   0,   0,   0,   0,   0, 222, 254, 254, 254, 254, 241, 198,\n",
       "        198, 198, 198, 198, 198, 198, 198, 170,  52,   0,   0,   0,   0,\n",
       "          0,   0],\n",
       "       [  0,   0,   0,   0,   0,   0,  67, 114,  72, 114, 163, 227, 254,\n",
       "        225, 254, 254, 254, 250, 229, 254, 254, 140,   0,   0,   0,   0,\n",
       "          0,   0],\n",
       "       [  0,   0,   0,   0,   0,   0,   0,   0,   0,   0,   0,  17,  66,\n",
       "         14,  67,  67,  67,  59,  21, 236, 254, 106,   0,   0,   0,   0,\n",
       "          0,   0],\n",
       "       [  0,   0,   0,   0,   0,   0,   0,   0,   0,   0,   0,   0,   0,\n",
       "          0,   0,   0,   0,   0,  83, 253, 209,  18,   0,   0,   0,   0,\n",
       "          0,   0],\n",
       "       [  0,   0,   0,   0,   0,   0,   0,   0,   0,   0,   0,   0,   0,\n",
       "          0,   0,   0,   0,  22, 233, 255,  83,   0,   0,   0,   0,   0,\n",
       "          0,   0],\n",
       "       [  0,   0,   0,   0,   0,   0,   0,   0,   0,   0,   0,   0,   0,\n",
       "          0,   0,   0,   0, 129, 254, 238,  44,   0,   0,   0,   0,   0,\n",
       "          0,   0],\n",
       "       [  0,   0,   0,   0,   0,   0,   0,   0,   0,   0,   0,   0,   0,\n",
       "          0,   0,   0,  59, 249, 254,  62,   0,   0,   0,   0,   0,   0,\n",
       "          0,   0],\n",
       "       [  0,   0,   0,   0,   0,   0,   0,   0,   0,   0,   0,   0,   0,\n",
       "          0,   0,   0, 133, 254, 187,   5,   0,   0,   0,   0,   0,   0,\n",
       "          0,   0],\n",
       "       [  0,   0,   0,   0,   0,   0,   0,   0,   0,   0,   0,   0,   0,\n",
       "          0,   0,   9, 205, 248,  58,   0,   0,   0,   0,   0,   0,   0,\n",
       "          0,   0],\n",
       "       [  0,   0,   0,   0,   0,   0,   0,   0,   0,   0,   0,   0,   0,\n",
       "          0,   0, 126, 254, 182,   0,   0,   0,   0,   0,   0,   0,   0,\n",
       "          0,   0],\n",
       "       [  0,   0,   0,   0,   0,   0,   0,   0,   0,   0,   0,   0,   0,\n",
       "          0,  75, 251, 240,  57,   0,   0,   0,   0,   0,   0,   0,   0,\n",
       "          0,   0],\n",
       "       [  0,   0,   0,   0,   0,   0,   0,   0,   0,   0,   0,   0,   0,\n",
       "         19, 221, 254, 166,   0,   0,   0,   0,   0,   0,   0,   0,   0,\n",
       "          0,   0],\n",
       "       [  0,   0,   0,   0,   0,   0,   0,   0,   0,   0,   0,   0,   3,\n",
       "        203, 254, 219,  35,   0,   0,   0,   0,   0,   0,   0,   0,   0,\n",
       "          0,   0],\n",
       "       [  0,   0,   0,   0,   0,   0,   0,   0,   0,   0,   0,   0,  38,\n",
       "        254, 254,  77,   0,   0,   0,   0,   0,   0,   0,   0,   0,   0,\n",
       "          0,   0],\n",
       "       [  0,   0,   0,   0,   0,   0,   0,   0,   0,   0,   0,  31, 224,\n",
       "        254, 115,   1,   0,   0,   0,   0,   0,   0,   0,   0,   0,   0,\n",
       "          0,   0],\n",
       "       [  0,   0,   0,   0,   0,   0,   0,   0,   0,   0,   0, 133, 254,\n",
       "        254,  52,   0,   0,   0,   0,   0,   0,   0,   0,   0,   0,   0,\n",
       "          0,   0],\n",
       "       [  0,   0,   0,   0,   0,   0,   0,   0,   0,   0,  61, 242, 254,\n",
       "        254,  52,   0,   0,   0,   0,   0,   0,   0,   0,   0,   0,   0,\n",
       "          0,   0],\n",
       "       [  0,   0,   0,   0,   0,   0,   0,   0,   0,   0, 121, 254, 254,\n",
       "        219,  40,   0,   0,   0,   0,   0,   0,   0,   0,   0,   0,   0,\n",
       "          0,   0],\n",
       "       [  0,   0,   0,   0,   0,   0,   0,   0,   0,   0, 121, 254, 207,\n",
       "         18,   0,   0,   0,   0,   0,   0,   0,   0,   0,   0,   0,   0,\n",
       "          0,   0],\n",
       "       [  0,   0,   0,   0,   0,   0,   0,   0,   0,   0,   0,   0,   0,\n",
       "          0,   0,   0,   0,   0,   0,   0,   0,   0,   0,   0,   0,   0,\n",
       "          0,   0]], dtype=uint8)"
      ]
     },
     "execution_count": 10,
     "metadata": {},
     "output_type": "execute_result"
    }
   ],
   "source": [
    "X_valid[0]"
   ]
  },
  {
   "cell_type": "code",
   "execution_count": 11,
   "metadata": {},
   "outputs": [
    {
     "data": {
      "text/plain": [
       "7"
      ]
     },
     "execution_count": 11,
     "metadata": {},
     "output_type": "execute_result"
    }
   ],
   "source": [
    "y_valid[0]"
   ]
  },
  {
   "cell_type": "markdown",
   "metadata": {},
   "source": [
    "#### Preprocess data"
   ]
  },
  {
   "cell_type": "code",
   "execution_count": 12,
   "metadata": {},
   "outputs": [],
   "source": [
    "X_train = X_train.reshape(60000, 784).astype('float32')\n",
    "X_valid = X_valid.reshape(10000, 784).astype('float32')"
   ]
  },
  {
   "cell_type": "code",
   "execution_count": 13,
   "metadata": {},
   "outputs": [],
   "source": [
    "X_train /= 255\n",
    "X_valid /= 255"
   ]
  },
  {
   "cell_type": "code",
   "execution_count": 14,
   "metadata": {},
   "outputs": [
    {
     "data": {
      "text/plain": [
       "array([0.        , 0.        , 0.        , 0.        , 0.        ,\n",
       "       0.        , 0.        , 0.        , 0.        , 0.        ,\n",
       "       0.        , 0.        , 0.        , 0.        , 0.        ,\n",
       "       0.        , 0.        , 0.        , 0.        , 0.        ,\n",
       "       0.        , 0.        , 0.        , 0.        , 0.        ,\n",
       "       0.        , 0.        , 0.        , 0.        , 0.        ,\n",
       "       0.        , 0.        , 0.        , 0.        , 0.        ,\n",
       "       0.        , 0.        , 0.        , 0.        , 0.        ,\n",
       "       0.        , 0.        , 0.        , 0.        , 0.        ,\n",
       "       0.        , 0.        , 0.        , 0.        , 0.        ,\n",
       "       0.        , 0.        , 0.        , 0.        , 0.        ,\n",
       "       0.        , 0.        , 0.        , 0.        , 0.        ,\n",
       "       0.        , 0.        , 0.        , 0.        , 0.        ,\n",
       "       0.        , 0.        , 0.        , 0.        , 0.        ,\n",
       "       0.        , 0.        , 0.        , 0.        , 0.        ,\n",
       "       0.        , 0.        , 0.        , 0.        , 0.        ,\n",
       "       0.        , 0.        , 0.        , 0.        , 0.        ,\n",
       "       0.        , 0.        , 0.        , 0.        , 0.        ,\n",
       "       0.        , 0.        , 0.        , 0.        , 0.        ,\n",
       "       0.        , 0.        , 0.        , 0.        , 0.        ,\n",
       "       0.        , 0.        , 0.        , 0.        , 0.        ,\n",
       "       0.        , 0.        , 0.        , 0.        , 0.        ,\n",
       "       0.        , 0.        , 0.        , 0.        , 0.        ,\n",
       "       0.        , 0.        , 0.        , 0.        , 0.        ,\n",
       "       0.        , 0.        , 0.        , 0.        , 0.        ,\n",
       "       0.        , 0.        , 0.        , 0.        , 0.        ,\n",
       "       0.        , 0.        , 0.        , 0.        , 0.        ,\n",
       "       0.        , 0.        , 0.        , 0.        , 0.        ,\n",
       "       0.        , 0.        , 0.        , 0.        , 0.        ,\n",
       "       0.        , 0.        , 0.        , 0.        , 0.        ,\n",
       "       0.        , 0.        , 0.        , 0.        , 0.        ,\n",
       "       0.        , 0.        , 0.        , 0.        , 0.        ,\n",
       "       0.        , 0.        , 0.        , 0.        , 0.        ,\n",
       "       0.        , 0.        , 0.        , 0.        , 0.        ,\n",
       "       0.        , 0.        , 0.        , 0.        , 0.        ,\n",
       "       0.        , 0.        , 0.        , 0.        , 0.        ,\n",
       "       0.        , 0.        , 0.        , 0.        , 0.        ,\n",
       "       0.        , 0.        , 0.        , 0.        , 0.        ,\n",
       "       0.        , 0.        , 0.        , 0.        , 0.        ,\n",
       "       0.        , 0.        , 0.        , 0.        , 0.        ,\n",
       "       0.        , 0.        , 0.32941177, 0.7254902 , 0.62352943,\n",
       "       0.5921569 , 0.23529412, 0.14117648, 0.        , 0.        ,\n",
       "       0.        , 0.        , 0.        , 0.        , 0.        ,\n",
       "       0.        , 0.        , 0.        , 0.        , 0.        ,\n",
       "       0.        , 0.        , 0.        , 0.        , 0.        ,\n",
       "       0.        , 0.        , 0.        , 0.        , 0.        ,\n",
       "       0.87058824, 0.99607843, 0.99607843, 0.99607843, 0.99607843,\n",
       "       0.94509804, 0.7764706 , 0.7764706 , 0.7764706 , 0.7764706 ,\n",
       "       0.7764706 , 0.7764706 , 0.7764706 , 0.7764706 , 0.6666667 ,\n",
       "       0.20392157, 0.        , 0.        , 0.        , 0.        ,\n",
       "       0.        , 0.        , 0.        , 0.        , 0.        ,\n",
       "       0.        , 0.        , 0.        , 0.2627451 , 0.44705883,\n",
       "       0.28235295, 0.44705883, 0.6392157 , 0.8901961 , 0.99607843,\n",
       "       0.88235295, 0.99607843, 0.99607843, 0.99607843, 0.98039216,\n",
       "       0.8980392 , 0.99607843, 0.99607843, 0.54901963, 0.        ,\n",
       "       0.        , 0.        , 0.        , 0.        , 0.        ,\n",
       "       0.        , 0.        , 0.        , 0.        , 0.        ,\n",
       "       0.        , 0.        , 0.        , 0.        , 0.        ,\n",
       "       0.        , 0.06666667, 0.25882354, 0.05490196, 0.2627451 ,\n",
       "       0.2627451 , 0.2627451 , 0.23137255, 0.08235294, 0.9254902 ,\n",
       "       0.99607843, 0.41568628, 0.        , 0.        , 0.        ,\n",
       "       0.        , 0.        , 0.        , 0.        , 0.        ,\n",
       "       0.        , 0.        , 0.        , 0.        , 0.        ,\n",
       "       0.        , 0.        , 0.        , 0.        , 0.        ,\n",
       "       0.        , 0.        , 0.        , 0.        , 0.        ,\n",
       "       0.        , 0.3254902 , 0.99215686, 0.81960785, 0.07058824,\n",
       "       0.        , 0.        , 0.        , 0.        , 0.        ,\n",
       "       0.        , 0.        , 0.        , 0.        , 0.        ,\n",
       "       0.        , 0.        , 0.        , 0.        , 0.        ,\n",
       "       0.        , 0.        , 0.        , 0.        , 0.        ,\n",
       "       0.        , 0.        , 0.        , 0.08627451, 0.9137255 ,\n",
       "       1.        , 0.3254902 , 0.        , 0.        , 0.        ,\n",
       "       0.        , 0.        , 0.        , 0.        , 0.        ,\n",
       "       0.        , 0.        , 0.        , 0.        , 0.        ,\n",
       "       0.        , 0.        , 0.        , 0.        , 0.        ,\n",
       "       0.        , 0.        , 0.        , 0.        , 0.        ,\n",
       "       0.        , 0.5058824 , 0.99607843, 0.93333334, 0.17254902,\n",
       "       0.        , 0.        , 0.        , 0.        , 0.        ,\n",
       "       0.        , 0.        , 0.        , 0.        , 0.        ,\n",
       "       0.        , 0.        , 0.        , 0.        , 0.        ,\n",
       "       0.        , 0.        , 0.        , 0.        , 0.        ,\n",
       "       0.        , 0.        , 0.        , 0.23137255, 0.9764706 ,\n",
       "       0.99607843, 0.24313726, 0.        , 0.        , 0.        ,\n",
       "       0.        , 0.        , 0.        , 0.        , 0.        ,\n",
       "       0.        , 0.        , 0.        , 0.        , 0.        ,\n",
       "       0.        , 0.        , 0.        , 0.        , 0.        ,\n",
       "       0.        , 0.        , 0.        , 0.        , 0.        ,\n",
       "       0.        , 0.52156866, 0.99607843, 0.73333335, 0.01960784,\n",
       "       0.        , 0.        , 0.        , 0.        , 0.        ,\n",
       "       0.        , 0.        , 0.        , 0.        , 0.        ,\n",
       "       0.        , 0.        , 0.        , 0.        , 0.        ,\n",
       "       0.        , 0.        , 0.        , 0.        , 0.        ,\n",
       "       0.        , 0.        , 0.        , 0.03529412, 0.8039216 ,\n",
       "       0.972549  , 0.22745098, 0.        , 0.        , 0.        ,\n",
       "       0.        , 0.        , 0.        , 0.        , 0.        ,\n",
       "       0.        , 0.        , 0.        , 0.        , 0.        ,\n",
       "       0.        , 0.        , 0.        , 0.        , 0.        ,\n",
       "       0.        , 0.        , 0.        , 0.        , 0.        ,\n",
       "       0.        , 0.49411765, 0.99607843, 0.7137255 , 0.        ,\n",
       "       0.        , 0.        , 0.        , 0.        , 0.        ,\n",
       "       0.        , 0.        , 0.        , 0.        , 0.        ,\n",
       "       0.        , 0.        , 0.        , 0.        , 0.        ,\n",
       "       0.        , 0.        , 0.        , 0.        , 0.        ,\n",
       "       0.        , 0.        , 0.        , 0.29411766, 0.9843137 ,\n",
       "       0.9411765 , 0.22352941, 0.        , 0.        , 0.        ,\n",
       "       0.        , 0.        , 0.        , 0.        , 0.        ,\n",
       "       0.        , 0.        , 0.        , 0.        , 0.        ,\n",
       "       0.        , 0.        , 0.        , 0.        , 0.        ,\n",
       "       0.        , 0.        , 0.        , 0.        , 0.        ,\n",
       "       0.07450981, 0.8666667 , 0.99607843, 0.6509804 , 0.        ,\n",
       "       0.        , 0.        , 0.        , 0.        , 0.        ,\n",
       "       0.        , 0.        , 0.        , 0.        , 0.        ,\n",
       "       0.        , 0.        , 0.        , 0.        , 0.        ,\n",
       "       0.        , 0.        , 0.        , 0.        , 0.        ,\n",
       "       0.        , 0.        , 0.01176471, 0.79607844, 0.99607843,\n",
       "       0.85882354, 0.13725491, 0.        , 0.        , 0.        ,\n",
       "       0.        , 0.        , 0.        , 0.        , 0.        ,\n",
       "       0.        , 0.        , 0.        , 0.        , 0.        ,\n",
       "       0.        , 0.        , 0.        , 0.        , 0.        ,\n",
       "       0.        , 0.        , 0.        , 0.        , 0.        ,\n",
       "       0.14901961, 0.99607843, 0.99607843, 0.3019608 , 0.        ,\n",
       "       0.        , 0.        , 0.        , 0.        , 0.        ,\n",
       "       0.        , 0.        , 0.        , 0.        , 0.        ,\n",
       "       0.        , 0.        , 0.        , 0.        , 0.        ,\n",
       "       0.        , 0.        , 0.        , 0.        , 0.        ,\n",
       "       0.        , 0.        , 0.12156863, 0.8784314 , 0.99607843,\n",
       "       0.4509804 , 0.00392157, 0.        , 0.        , 0.        ,\n",
       "       0.        , 0.        , 0.        , 0.        , 0.        ,\n",
       "       0.        , 0.        , 0.        , 0.        , 0.        ,\n",
       "       0.        , 0.        , 0.        , 0.        , 0.        ,\n",
       "       0.        , 0.        , 0.        , 0.        , 0.        ,\n",
       "       0.52156866, 0.99607843, 0.99607843, 0.20392157, 0.        ,\n",
       "       0.        , 0.        , 0.        , 0.        , 0.        ,\n",
       "       0.        , 0.        , 0.        , 0.        , 0.        ,\n",
       "       0.        , 0.        , 0.        , 0.        , 0.        ,\n",
       "       0.        , 0.        , 0.        , 0.        , 0.        ,\n",
       "       0.        , 0.        , 0.23921569, 0.9490196 , 0.99607843,\n",
       "       0.99607843, 0.20392157, 0.        , 0.        , 0.        ,\n",
       "       0.        , 0.        , 0.        , 0.        , 0.        ,\n",
       "       0.        , 0.        , 0.        , 0.        , 0.        ,\n",
       "       0.        , 0.        , 0.        , 0.        , 0.        ,\n",
       "       0.        , 0.        , 0.        , 0.        , 0.        ,\n",
       "       0.4745098 , 0.99607843, 0.99607843, 0.85882354, 0.15686275,\n",
       "       0.        , 0.        , 0.        , 0.        , 0.        ,\n",
       "       0.        , 0.        , 0.        , 0.        , 0.        ,\n",
       "       0.        , 0.        , 0.        , 0.        , 0.        ,\n",
       "       0.        , 0.        , 0.        , 0.        , 0.        ,\n",
       "       0.        , 0.        , 0.        , 0.4745098 , 0.99607843,\n",
       "       0.8117647 , 0.07058824, 0.        , 0.        , 0.        ,\n",
       "       0.        , 0.        , 0.        , 0.        , 0.        ,\n",
       "       0.        , 0.        , 0.        , 0.        , 0.        ,\n",
       "       0.        , 0.        , 0.        , 0.        , 0.        ,\n",
       "       0.        , 0.        , 0.        , 0.        , 0.        ,\n",
       "       0.        , 0.        , 0.        , 0.        , 0.        ,\n",
       "       0.        , 0.        , 0.        , 0.        , 0.        ,\n",
       "       0.        , 0.        , 0.        , 0.        , 0.        ,\n",
       "       0.        , 0.        , 0.        , 0.        ], dtype=float32)"
      ]
     },
     "execution_count": 14,
     "metadata": {},
     "output_type": "execute_result"
    }
   ],
   "source": [
    "X_valid[0]"
   ]
  },
  {
   "cell_type": "code",
   "execution_count": 15,
   "metadata": {},
   "outputs": [],
   "source": [
    "n_classes = 10\n",
    "y_train = to_categorical(y_train, n_classes)\n",
    "y_valid = to_categorical(y_valid, n_classes)"
   ]
  },
  {
   "cell_type": "code",
   "execution_count": 16,
   "metadata": {},
   "outputs": [
    {
     "data": {
      "text/plain": [
       "array([0., 0., 0., 0., 0., 0., 0., 1., 0., 0.], dtype=float32)"
      ]
     },
     "execution_count": 16,
     "metadata": {},
     "output_type": "execute_result"
    }
   ],
   "source": [
    "y_valid[0]"
   ]
  },
  {
   "cell_type": "markdown",
   "metadata": {},
   "source": [
    "#### Design neural network architecture"
   ]
  },
  {
   "cell_type": "code",
   "execution_count": 17,
   "metadata": {},
   "outputs": [],
   "source": [
    "model = Sequential()\n",
    "model.add(Dense(64, activation='sigmoid', input_shape=(784,)))\n",
    "model.add(Dense(10, activation='softmax'))"
   ]
  },
  {
   "cell_type": "code",
   "execution_count": 18,
   "metadata": {},
   "outputs": [
    {
     "name": "stdout",
     "output_type": "stream",
     "text": [
      "Model: \"sequential\"\n",
      "_________________________________________________________________\n",
      "Layer (type)                 Output Shape              Param #   \n",
      "=================================================================\n",
      "dense (Dense)                (None, 64)                50240     \n",
      "_________________________________________________________________\n",
      "dense_1 (Dense)              (None, 10)                650       \n",
      "=================================================================\n",
      "Total params: 50,890\n",
      "Trainable params: 50,890\n",
      "Non-trainable params: 0\n",
      "_________________________________________________________________\n"
     ]
    }
   ],
   "source": [
    "model.summary()"
   ]
  },
  {
   "cell_type": "code",
   "execution_count": 19,
   "metadata": {},
   "outputs": [
    {
     "data": {
      "text/plain": [
       "50176"
      ]
     },
     "execution_count": 19,
     "metadata": {},
     "output_type": "execute_result"
    }
   ],
   "source": [
    "(64*784)"
   ]
  },
  {
   "cell_type": "code",
   "execution_count": 20,
   "metadata": {},
   "outputs": [
    {
     "data": {
      "text/plain": [
       "50240"
      ]
     },
     "execution_count": 20,
     "metadata": {},
     "output_type": "execute_result"
    }
   ],
   "source": [
    "(64*784)+64"
   ]
  },
  {
   "cell_type": "code",
   "execution_count": 21,
   "metadata": {},
   "outputs": [
    {
     "data": {
      "text/plain": [
       "650"
      ]
     },
     "execution_count": 21,
     "metadata": {},
     "output_type": "execute_result"
    }
   ],
   "source": [
    "(10*64)+10"
   ]
  },
  {
   "cell_type": "markdown",
   "metadata": {},
   "source": [
    "#### Configure model"
   ]
  },
  {
   "cell_type": "code",
   "execution_count": 22,
   "metadata": {},
   "outputs": [],
   "source": [
    "model.compile(loss='mean_squared_error', optimizer=SGD(lr=0.01), metrics=['accuracy'])"
   ]
  },
  {
   "cell_type": "markdown",
   "metadata": {},
   "source": [
    "#### Train!"
   ]
  },
  {
   "cell_type": "code",
   "execution_count": 23,
   "metadata": {},
   "outputs": [
    {
     "name": "stdout",
     "output_type": "stream",
     "text": [
      "Train on 60000 samples, validate on 10000 samples\n",
      "Epoch 1/200\n",
      "60000/60000 [==============================] - 1s 20us/sample - loss: 0.0926 - accuracy: 0.1010 - val_loss: 0.0917 - val_accuracy: 0.1092\n",
      "Epoch 2/200\n",
      "60000/60000 [==============================] - 1s 20us/sample - loss: 0.0914 - accuracy: 0.1149 - val_loss: 0.0909 - val_accuracy: 0.1264\n",
      "Epoch 3/200\n",
      "60000/60000 [==============================] - 1s 18us/sample - loss: 0.0907 - accuracy: 0.1404 - val_loss: 0.0903 - val_accuracy: 0.1551\n",
      "Epoch 4/200\n",
      "60000/60000 [==============================] - 1s 18us/sample - loss: 0.0902 - accuracy: 0.1852 - val_loss: 0.0899 - val_accuracy: 0.2138\n",
      "Epoch 5/200\n",
      "60000/60000 [==============================] - 1s 18us/sample - loss: 0.0897 - accuracy: 0.2314 - val_loss: 0.0895 - val_accuracy: 0.2520\n",
      "Epoch 6/200\n",
      "60000/60000 [==============================] - 1s 19us/sample - loss: 0.0894 - accuracy: 0.2581 - val_loss: 0.0891 - val_accuracy: 0.2758\n",
      "Epoch 7/200\n",
      "60000/60000 [==============================] - 1s 19us/sample - loss: 0.0890 - accuracy: 0.2797 - val_loss: 0.0888 - val_accuracy: 0.2933\n",
      "Epoch 8/200\n",
      "60000/60000 [==============================] - 1s 18us/sample - loss: 0.0887 - accuracy: 0.2982 - val_loss: 0.0884 - val_accuracy: 0.3109\n",
      "Epoch 9/200\n",
      "60000/60000 [==============================] - 1s 15us/sample - loss: 0.0883 - accuracy: 0.3176 - val_loss: 0.0881 - val_accuracy: 0.3249\n",
      "Epoch 10/200\n",
      "60000/60000 [==============================] - 1s 17us/sample - loss: 0.0880 - accuracy: 0.3348 - val_loss: 0.0878 - val_accuracy: 0.3429\n",
      "Epoch 11/200\n",
      "60000/60000 [==============================] - 1s 16us/sample - loss: 0.0877 - accuracy: 0.3488 - val_loss: 0.0874 - val_accuracy: 0.3564\n",
      "Epoch 12/200\n",
      "60000/60000 [==============================] - 1s 11us/sample - loss: 0.0874 - accuracy: 0.3588 - val_loss: 0.0871 - val_accuracy: 0.3661\n",
      "Epoch 13/200\n",
      "60000/60000 [==============================] - 1s 13us/sample - loss: 0.0870 - accuracy: 0.3652 - val_loss: 0.0868 - val_accuracy: 0.3727\n",
      "Epoch 14/200\n",
      "60000/60000 [==============================] - 1s 12us/sample - loss: 0.0867 - accuracy: 0.3707 - val_loss: 0.0864 - val_accuracy: 0.3778\n",
      "Epoch 15/200\n",
      "60000/60000 [==============================] - 1s 10us/sample - loss: 0.0863 - accuracy: 0.3748 - val_loss: 0.0861 - val_accuracy: 0.3788\n",
      "Epoch 16/200\n",
      "60000/60000 [==============================] - 1s 16us/sample - loss: 0.0860 - accuracy: 0.3770 - val_loss: 0.0857 - val_accuracy: 0.3807\n",
      "Epoch 17/200\n",
      "60000/60000 [==============================] - 1s 16us/sample - loss: 0.0856 - accuracy: 0.3801 - val_loss: 0.0853 - val_accuracy: 0.3839\n",
      "Epoch 18/200\n",
      "60000/60000 [==============================] - 1s 18us/sample - loss: 0.0853 - accuracy: 0.3817 - val_loss: 0.0850 - val_accuracy: 0.3857\n",
      "Epoch 19/200\n",
      "60000/60000 [==============================] - 1s 16us/sample - loss: 0.0849 - accuracy: 0.3832 - val_loss: 0.0846 - val_accuracy: 0.3874\n",
      "Epoch 20/200\n",
      "60000/60000 [==============================] - 1s 18us/sample - loss: 0.0845 - accuracy: 0.3855 - val_loss: 0.0842 - val_accuracy: 0.3895\n",
      "Epoch 21/200\n",
      "60000/60000 [==============================] - 1s 17us/sample - loss: 0.0841 - accuracy: 0.3871 - val_loss: 0.0838 - val_accuracy: 0.3909\n",
      "Epoch 22/200\n",
      "60000/60000 [==============================] - 1s 18us/sample - loss: 0.0837 - accuracy: 0.3899 - val_loss: 0.0834 - val_accuracy: 0.3924\n",
      "Epoch 23/200\n",
      "60000/60000 [==============================] - 1s 15us/sample - loss: 0.0833 - accuracy: 0.3909 - val_loss: 0.0830 - val_accuracy: 0.3945\n",
      "Epoch 24/200\n",
      "60000/60000 [==============================] - 1s 17us/sample - loss: 0.0829 - accuracy: 0.3929 - val_loss: 0.0826 - val_accuracy: 0.3963\n",
      "Epoch 25/200\n",
      "60000/60000 [==============================] - 1s 16us/sample - loss: 0.0825 - accuracy: 0.3953 - val_loss: 0.0822 - val_accuracy: 0.3976\n",
      "Epoch 26/200\n",
      "60000/60000 [==============================] - 1s 17us/sample - loss: 0.0821 - accuracy: 0.3967 - val_loss: 0.0817 - val_accuracy: 0.3996\n",
      "Epoch 27/200\n",
      "60000/60000 [==============================] - 1s 12us/sample - loss: 0.0816 - accuracy: 0.3983 - val_loss: 0.0813 - val_accuracy: 0.4029\n",
      "Epoch 28/200\n",
      "60000/60000 [==============================] - 1s 13us/sample - loss: 0.0812 - accuracy: 0.4008 - val_loss: 0.0808 - val_accuracy: 0.4058\n",
      "Epoch 29/200\n",
      "60000/60000 [==============================] - 1s 14us/sample - loss: 0.0808 - accuracy: 0.4027 - val_loss: 0.0804 - val_accuracy: 0.4084\n",
      "Epoch 30/200\n",
      "60000/60000 [==============================] - 1s 11us/sample - loss: 0.0803 - accuracy: 0.4046 - val_loss: 0.0799 - val_accuracy: 0.4130\n",
      "Epoch 31/200\n",
      "60000/60000 [==============================] - 1s 14us/sample - loss: 0.0799 - accuracy: 0.4081 - val_loss: 0.0795 - val_accuracy: 0.4149\n",
      "Epoch 32/200\n",
      "60000/60000 [==============================] - 1s 18us/sample - loss: 0.0794 - accuracy: 0.4110 - val_loss: 0.0790 - val_accuracy: 0.4172\n",
      "Epoch 33/200\n",
      "60000/60000 [==============================] - 1s 15us/sample - loss: 0.0790 - accuracy: 0.4141 - val_loss: 0.0786 - val_accuracy: 0.4201\n",
      "Epoch 34/200\n",
      "60000/60000 [==============================] - 1s 16us/sample - loss: 0.0785 - accuracy: 0.4167 - val_loss: 0.0781 - val_accuracy: 0.4225\n",
      "Epoch 35/200\n",
      "60000/60000 [==============================] - 1s 18us/sample - loss: 0.0780 - accuracy: 0.4200 - val_loss: 0.0776 - val_accuracy: 0.4249\n",
      "Epoch 36/200\n",
      "60000/60000 [==============================] - 1s 11us/sample - loss: 0.0776 - accuracy: 0.4227 - val_loss: 0.0772 - val_accuracy: 0.4285\n",
      "Epoch 37/200\n",
      "60000/60000 [==============================] - 1s 16us/sample - loss: 0.0771 - accuracy: 0.4263 - val_loss: 0.0767 - val_accuracy: 0.4307\n",
      "Epoch 38/200\n",
      "60000/60000 [==============================] - 1s 18us/sample - loss: 0.0766 - accuracy: 0.4297 - val_loss: 0.0762 - val_accuracy: 0.4331\n",
      "Epoch 39/200\n",
      "60000/60000 [==============================] - 1s 18us/sample - loss: 0.0762 - accuracy: 0.4324 - val_loss: 0.0757 - val_accuracy: 0.4369\n",
      "Epoch 40/200\n",
      "60000/60000 [==============================] - 1s 17us/sample - loss: 0.0757 - accuracy: 0.4363 - val_loss: 0.0753 - val_accuracy: 0.4395\n",
      "Epoch 41/200\n",
      "60000/60000 [==============================] - 1s 12us/sample - loss: 0.0752 - accuracy: 0.4394 - val_loss: 0.0748 - val_accuracy: 0.4426\n",
      "Epoch 42/200\n",
      "60000/60000 [==============================] - 1s 15us/sample - loss: 0.0748 - accuracy: 0.4422 - val_loss: 0.0743 - val_accuracy: 0.4452\n",
      "Epoch 43/200\n",
      "60000/60000 [==============================] - 1s 12us/sample - loss: 0.0743 - accuracy: 0.4451 - val_loss: 0.0739 - val_accuracy: 0.4483\n",
      "Epoch 44/200\n",
      "60000/60000 [==============================] - 1s 10us/sample - loss: 0.0739 - accuracy: 0.4483 - val_loss: 0.0734 - val_accuracy: 0.4522\n",
      "Epoch 45/200\n",
      "60000/60000 [==============================] - 1s 15us/sample - loss: 0.0734 - accuracy: 0.4516 - val_loss: 0.0729 - val_accuracy: 0.4558\n",
      "Epoch 46/200\n",
      "60000/60000 [==============================] - 1s 18us/sample - loss: 0.0729 - accuracy: 0.4549 - val_loss: 0.0725 - val_accuracy: 0.4594\n",
      "Epoch 47/200\n",
      "60000/60000 [==============================] - 1s 19us/sample - loss: 0.0725 - accuracy: 0.4590 - val_loss: 0.0720 - val_accuracy: 0.4633\n",
      "Epoch 48/200\n",
      "60000/60000 [==============================] - 1s 18us/sample - loss: 0.0720 - accuracy: 0.4621 - val_loss: 0.0715 - val_accuracy: 0.4681\n",
      "Epoch 49/200\n",
      "60000/60000 [==============================] - 1s 16us/sample - loss: 0.0716 - accuracy: 0.4660 - val_loss: 0.0711 - val_accuracy: 0.4721\n",
      "Epoch 50/200\n",
      "60000/60000 [==============================] - 1s 16us/sample - loss: 0.0711 - accuracy: 0.4703 - val_loss: 0.0706 - val_accuracy: 0.4753\n",
      "Epoch 51/200\n",
      "60000/60000 [==============================] - 1s 17us/sample - loss: 0.0707 - accuracy: 0.4747 - val_loss: 0.0702 - val_accuracy: 0.4795\n",
      "Epoch 52/200\n",
      "60000/60000 [==============================] - 1s 18us/sample - loss: 0.0702 - accuracy: 0.4787 - val_loss: 0.0697 - val_accuracy: 0.4842\n",
      "Epoch 53/200\n",
      "60000/60000 [==============================] - 1s 18us/sample - loss: 0.0698 - accuracy: 0.4836 - val_loss: 0.0693 - val_accuracy: 0.4882\n",
      "Epoch 54/200\n",
      "60000/60000 [==============================] - 1s 18us/sample - loss: 0.0693 - accuracy: 0.4881 - val_loss: 0.0688 - val_accuracy: 0.4934\n"
     ]
    },
    {
     "name": "stdout",
     "output_type": "stream",
     "text": [
      "Epoch 55/200\n",
      "60000/60000 [==============================] - 1s 15us/sample - loss: 0.0689 - accuracy: 0.4933 - val_loss: 0.0684 - val_accuracy: 0.4991\n",
      "Epoch 56/200\n",
      "60000/60000 [==============================] - 1s 15us/sample - loss: 0.0685 - accuracy: 0.4992 - val_loss: 0.0680 - val_accuracy: 0.5041\n",
      "Epoch 57/200\n",
      "60000/60000 [==============================] - 1s 13us/sample - loss: 0.0680 - accuracy: 0.5052 - val_loss: 0.0675 - val_accuracy: 0.5112\n",
      "Epoch 58/200\n",
      "60000/60000 [==============================] - 1s 15us/sample - loss: 0.0676 - accuracy: 0.5112 - val_loss: 0.0671 - val_accuracy: 0.5178\n",
      "Epoch 59/200\n",
      "60000/60000 [==============================] - 1s 13us/sample - loss: 0.0672 - accuracy: 0.5171 - val_loss: 0.0666 - val_accuracy: 0.5239\n",
      "Epoch 60/200\n",
      "60000/60000 [==============================] - 1s 11us/sample - loss: 0.0667 - accuracy: 0.5240 - val_loss: 0.0662 - val_accuracy: 0.5307\n",
      "Epoch 61/200\n",
      "60000/60000 [==============================] - 1s 16us/sample - loss: 0.0663 - accuracy: 0.5314 - val_loss: 0.0658 - val_accuracy: 0.5387\n",
      "Epoch 62/200\n",
      "60000/60000 [==============================] - 1s 16us/sample - loss: 0.0659 - accuracy: 0.5379 - val_loss: 0.0654 - val_accuracy: 0.5475\n",
      "Epoch 63/200\n",
      "60000/60000 [==============================] - 1s 17us/sample - loss: 0.0655 - accuracy: 0.5448 - val_loss: 0.0649 - val_accuracy: 0.5563\n",
      "Epoch 64/200\n",
      "60000/60000 [==============================] - 1s 19us/sample - loss: 0.0651 - accuracy: 0.5522 - val_loss: 0.0645 - val_accuracy: 0.5653\n",
      "Epoch 65/200\n",
      "60000/60000 [==============================] - 1s 14us/sample - loss: 0.0647 - accuracy: 0.5596 - val_loss: 0.0641 - val_accuracy: 0.5742\n",
      "Epoch 66/200\n",
      "60000/60000 [==============================] - 1s 19us/sample - loss: 0.0642 - accuracy: 0.5669 - val_loss: 0.0637 - val_accuracy: 0.5819\n",
      "Epoch 67/200\n",
      "60000/60000 [==============================] - 1s 17us/sample - loss: 0.0638 - accuracy: 0.5729 - val_loss: 0.0633 - val_accuracy: 0.5894\n",
      "Epoch 68/200\n",
      "60000/60000 [==============================] - 1s 9us/sample - loss: 0.0634 - accuracy: 0.5804 - val_loss: 0.0628 - val_accuracy: 0.5975\n",
      "Epoch 69/200\n",
      "60000/60000 [==============================] - 1s 16us/sample - loss: 0.0630 - accuracy: 0.5873 - val_loss: 0.0624 - val_accuracy: 0.6048\n",
      "Epoch 70/200\n",
      "60000/60000 [==============================] - 1s 17us/sample - loss: 0.0626 - accuracy: 0.5940 - val_loss: 0.0620 - val_accuracy: 0.6124\n",
      "Epoch 71/200\n",
      "60000/60000 [==============================] - 1s 17us/sample - loss: 0.0622 - accuracy: 0.5999 - val_loss: 0.0616 - val_accuracy: 0.6187\n",
      "Epoch 72/200\n",
      "60000/60000 [==============================] - 1s 19us/sample - loss: 0.0618 - accuracy: 0.6057 - val_loss: 0.0612 - val_accuracy: 0.6244\n",
      "Epoch 73/200\n",
      "60000/60000 [==============================] - 1s 16us/sample - loss: 0.0614 - accuracy: 0.6117 - val_loss: 0.0608 - val_accuracy: 0.6304\n",
      "Epoch 74/200\n",
      "60000/60000 [==============================] - 1s 18us/sample - loss: 0.0610 - accuracy: 0.6174 - val_loss: 0.0604 - val_accuracy: 0.6355\n",
      "Epoch 75/200\n",
      "60000/60000 [==============================] - 1s 19us/sample - loss: 0.0606 - accuracy: 0.6227 - val_loss: 0.0600 - val_accuracy: 0.6406\n",
      "Epoch 76/200\n",
      "60000/60000 [==============================] - 1s 19us/sample - loss: 0.0602 - accuracy: 0.6278 - val_loss: 0.0595 - val_accuracy: 0.6469\n",
      "Epoch 77/200\n",
      "60000/60000 [==============================] - 1s 18us/sample - loss: 0.0598 - accuracy: 0.6328 - val_loss: 0.0591 - val_accuracy: 0.6510\n",
      "Epoch 78/200\n",
      "60000/60000 [==============================] - 1s 17us/sample - loss: 0.0594 - accuracy: 0.6380 - val_loss: 0.0587 - val_accuracy: 0.6551\n",
      "Epoch 79/200\n",
      "60000/60000 [==============================] - 1s 18us/sample - loss: 0.0590 - accuracy: 0.6427 - val_loss: 0.0583 - val_accuracy: 0.6600\n",
      "Epoch 80/200\n",
      "60000/60000 [==============================] - 1s 17us/sample - loss: 0.0586 - accuracy: 0.6482 - val_loss: 0.0579 - val_accuracy: 0.6653\n",
      "Epoch 81/200\n",
      "60000/60000 [==============================] - 1s 18us/sample - loss: 0.0582 - accuracy: 0.6527 - val_loss: 0.0575 - val_accuracy: 0.6700\n",
      "Epoch 82/200\n",
      "60000/60000 [==============================] - 1s 18us/sample - loss: 0.0578 - accuracy: 0.6572 - val_loss: 0.0571 - val_accuracy: 0.6734\n",
      "Epoch 83/200\n",
      "60000/60000 [==============================] - 1s 17us/sample - loss: 0.0574 - accuracy: 0.6611 - val_loss: 0.0567 - val_accuracy: 0.6779\n",
      "Epoch 84/200\n",
      "60000/60000 [==============================] - 1s 16us/sample - loss: 0.0570 - accuracy: 0.6658 - val_loss: 0.0563 - val_accuracy: 0.6818\n",
      "Epoch 85/200\n",
      "60000/60000 [==============================] - 1s 19us/sample - loss: 0.0566 - accuracy: 0.6701 - val_loss: 0.0559 - val_accuracy: 0.6858\n",
      "Epoch 86/200\n",
      "60000/60000 [==============================] - 1s 17us/sample - loss: 0.0562 - accuracy: 0.6746 - val_loss: 0.0555 - val_accuracy: 0.6908\n",
      "Epoch 87/200\n",
      "60000/60000 [==============================] - 1s 17us/sample - loss: 0.0559 - accuracy: 0.6783 - val_loss: 0.0551 - val_accuracy: 0.6949\n",
      "Epoch 88/200\n",
      "60000/60000 [==============================] - 1s 11us/sample - loss: 0.0555 - accuracy: 0.6837 - val_loss: 0.0548 - val_accuracy: 0.6985\n",
      "Epoch 89/200\n",
      "60000/60000 [==============================] - 1s 11us/sample - loss: 0.0551 - accuracy: 0.6871 - val_loss: 0.0544 - val_accuracy: 0.7022\n",
      "Epoch 90/200\n",
      "60000/60000 [==============================] - 1s 17us/sample - loss: 0.0547 - accuracy: 0.6910 - val_loss: 0.0540 - val_accuracy: 0.7061\n",
      "Epoch 91/200\n",
      "60000/60000 [==============================] - 1s 16us/sample - loss: 0.0543 - accuracy: 0.6958 - val_loss: 0.0536 - val_accuracy: 0.7106\n",
      "Epoch 92/200\n",
      "60000/60000 [==============================] - 1s 13us/sample - loss: 0.0540 - accuracy: 0.6995 - val_loss: 0.0532 - val_accuracy: 0.7142\n",
      "Epoch 93/200\n",
      "60000/60000 [==============================] - 1s 14us/sample - loss: 0.0536 - accuracy: 0.7031 - val_loss: 0.0528 - val_accuracy: 0.7181\n",
      "Epoch 94/200\n",
      "60000/60000 [==============================] - 1s 18us/sample - loss: 0.0532 - accuracy: 0.7069 - val_loss: 0.0524 - val_accuracy: 0.7219\n",
      "Epoch 95/200\n",
      "60000/60000 [==============================] - 1s 18us/sample - loss: 0.0528 - accuracy: 0.7107 - val_loss: 0.0521 - val_accuracy: 0.7243\n",
      "Epoch 96/200\n",
      "60000/60000 [==============================] - 1s 17us/sample - loss: 0.0525 - accuracy: 0.7136 - val_loss: 0.0517 - val_accuracy: 0.7278\n",
      "Epoch 97/200\n",
      "60000/60000 [==============================] - 1s 12us/sample - loss: 0.0521 - accuracy: 0.7175 - val_loss: 0.0513 - val_accuracy: 0.7319\n",
      "Epoch 98/200\n",
      "60000/60000 [==============================] - 1s 16us/sample - loss: 0.0518 - accuracy: 0.7204 - val_loss: 0.0510 - val_accuracy: 0.7345\n",
      "Epoch 99/200\n",
      "60000/60000 [==============================] - 1s 19us/sample - loss: 0.0514 - accuracy: 0.7228 - val_loss: 0.0506 - val_accuracy: 0.7372\n",
      "Epoch 100/200\n",
      "60000/60000 [==============================] - 1s 19us/sample - loss: 0.0510 - accuracy: 0.7260 - val_loss: 0.0502 - val_accuracy: 0.7397\n",
      "Epoch 101/200\n",
      "60000/60000 [==============================] - 1s 19us/sample - loss: 0.0507 - accuracy: 0.7290 - val_loss: 0.0499 - val_accuracy: 0.7433\n",
      "Epoch 102/200\n",
      "60000/60000 [==============================] - 1s 14us/sample - loss: 0.0503 - accuracy: 0.7318 - val_loss: 0.0495 - val_accuracy: 0.7456\n",
      "Epoch 103/200\n",
      "60000/60000 [==============================] - 1s 16us/sample - loss: 0.0500 - accuracy: 0.7349 - val_loss: 0.0492 - val_accuracy: 0.7485\n",
      "Epoch 104/200\n",
      "60000/60000 [==============================] - 1s 16us/sample - loss: 0.0497 - accuracy: 0.7376 - val_loss: 0.0488 - val_accuracy: 0.7508\n",
      "Epoch 105/200\n",
      "60000/60000 [==============================] - 1s 19us/sample - loss: 0.0493 - accuracy: 0.7400 - val_loss: 0.0485 - val_accuracy: 0.7529\n",
      "Epoch 106/200\n",
      "60000/60000 [==============================] - 1s 17us/sample - loss: 0.0490 - accuracy: 0.7422 - val_loss: 0.0481 - val_accuracy: 0.7563\n",
      "Epoch 107/200\n",
      "60000/60000 [==============================] - 1s 18us/sample - loss: 0.0486 - accuracy: 0.7446 - val_loss: 0.0478 - val_accuracy: 0.7587\n",
      "Epoch 108/200\n",
      "60000/60000 [==============================] - 1s 17us/sample - loss: 0.0483 - accuracy: 0.7467 - val_loss: 0.0474 - val_accuracy: 0.7611\n",
      "Epoch 109/200\n"
     ]
    },
    {
     "name": "stdout",
     "output_type": "stream",
     "text": [
      "60000/60000 [==============================] - 1s 17us/sample - loss: 0.0480 - accuracy: 0.7494 - val_loss: 0.0471 - val_accuracy: 0.7626\n",
      "Epoch 110/200\n",
      "60000/60000 [==============================] - 1s 16us/sample - loss: 0.0477 - accuracy: 0.7511 - val_loss: 0.0468 - val_accuracy: 0.7636\n",
      "Epoch 111/200\n",
      "60000/60000 [==============================] - 1s 16us/sample - loss: 0.0473 - accuracy: 0.7535 - val_loss: 0.0464 - val_accuracy: 0.7647\n",
      "Epoch 112/200\n",
      "60000/60000 [==============================] - 1s 19us/sample - loss: 0.0470 - accuracy: 0.7555 - val_loss: 0.0461 - val_accuracy: 0.7665\n",
      "Epoch 113/200\n",
      "60000/60000 [==============================] - 1s 16us/sample - loss: 0.0467 - accuracy: 0.7573 - val_loss: 0.0458 - val_accuracy: 0.7689\n",
      "Epoch 114/200\n",
      "60000/60000 [==============================] - 1s 16us/sample - loss: 0.0464 - accuracy: 0.7594 - val_loss: 0.0455 - val_accuracy: 0.7698\n",
      "Epoch 115/200\n",
      "60000/60000 [==============================] - 1s 14us/sample - loss: 0.0461 - accuracy: 0.7609 - val_loss: 0.0452 - val_accuracy: 0.7721\n",
      "Epoch 116/200\n",
      "60000/60000 [==============================] - 1s 16us/sample - loss: 0.0458 - accuracy: 0.7626 - val_loss: 0.0449 - val_accuracy: 0.7740\n",
      "Epoch 117/200\n",
      "60000/60000 [==============================] - 1s 19us/sample - loss: 0.0455 - accuracy: 0.7640 - val_loss: 0.0445 - val_accuracy: 0.7756\n",
      "Epoch 118/200\n",
      "60000/60000 [==============================] - 1s 15us/sample - loss: 0.0452 - accuracy: 0.7661 - val_loss: 0.0442 - val_accuracy: 0.7771\n",
      "Epoch 119/200\n",
      "60000/60000 [==============================] - 1s 15us/sample - loss: 0.0449 - accuracy: 0.7676 - val_loss: 0.0439 - val_accuracy: 0.7788\n",
      "Epoch 120/200\n",
      "60000/60000 [==============================] - 1s 12us/sample - loss: 0.0446 - accuracy: 0.7691 - val_loss: 0.0436 - val_accuracy: 0.7799\n",
      "Epoch 121/200\n",
      "60000/60000 [==============================] - 1s 14us/sample - loss: 0.0443 - accuracy: 0.7705 - val_loss: 0.0433 - val_accuracy: 0.7815\n",
      "Epoch 122/200\n",
      "60000/60000 [==============================] - 1s 18us/sample - loss: 0.0440 - accuracy: 0.7722 - val_loss: 0.0431 - val_accuracy: 0.7826\n",
      "Epoch 123/200\n",
      "60000/60000 [==============================] - 1s 18us/sample - loss: 0.0437 - accuracy: 0.7739 - val_loss: 0.0428 - val_accuracy: 0.7846\n",
      "Epoch 124/200\n",
      "60000/60000 [==============================] - 1s 15us/sample - loss: 0.0434 - accuracy: 0.7761 - val_loss: 0.0425 - val_accuracy: 0.7863\n",
      "Epoch 125/200\n",
      "60000/60000 [==============================] - 1s 15us/sample - loss: 0.0431 - accuracy: 0.7778 - val_loss: 0.0422 - val_accuracy: 0.7887\n",
      "Epoch 126/200\n",
      "60000/60000 [==============================] - 1s 19us/sample - loss: 0.0429 - accuracy: 0.7795 - val_loss: 0.0419 - val_accuracy: 0.7902\n",
      "Epoch 127/200\n",
      "60000/60000 [==============================] - 1s 17us/sample - loss: 0.0426 - accuracy: 0.7815 - val_loss: 0.0416 - val_accuracy: 0.7930\n",
      "Epoch 128/200\n",
      "60000/60000 [==============================] - 1s 19us/sample - loss: 0.0423 - accuracy: 0.7834 - val_loss: 0.0414 - val_accuracy: 0.7942\n",
      "Epoch 129/200\n",
      "60000/60000 [==============================] - 1s 18us/sample - loss: 0.0421 - accuracy: 0.7855 - val_loss: 0.0411 - val_accuracy: 0.7956\n",
      "Epoch 130/200\n",
      "60000/60000 [==============================] - 1s 18us/sample - loss: 0.0418 - accuracy: 0.7873 - val_loss: 0.0408 - val_accuracy: 0.7978\n",
      "Epoch 131/200\n",
      "60000/60000 [==============================] - 1s 19us/sample - loss: 0.0415 - accuracy: 0.7885 - val_loss: 0.0406 - val_accuracy: 0.7999\n",
      "Epoch 132/200\n",
      "60000/60000 [==============================] - 1s 16us/sample - loss: 0.0413 - accuracy: 0.7904 - val_loss: 0.0403 - val_accuracy: 0.8017\n",
      "Epoch 133/200\n",
      "60000/60000 [==============================] - 1s 10us/sample - loss: 0.0410 - accuracy: 0.7920 - val_loss: 0.0400 - val_accuracy: 0.8040\n",
      "Epoch 134/200\n",
      "60000/60000 [==============================] - 1s 10us/sample - loss: 0.0408 - accuracy: 0.7940 - val_loss: 0.0398 - val_accuracy: 0.8062\n",
      "Epoch 135/200\n",
      "60000/60000 [==============================] - 1s 9us/sample - loss: 0.0405 - accuracy: 0.7954 - val_loss: 0.0395 - val_accuracy: 0.8088\n",
      "Epoch 136/200\n",
      "60000/60000 [==============================] - 1s 10us/sample - loss: 0.0403 - accuracy: 0.7978 - val_loss: 0.0393 - val_accuracy: 0.8108\n",
      "Epoch 137/200\n",
      "60000/60000 [==============================] - 1s 9us/sample - loss: 0.0400 - accuracy: 0.7996 - val_loss: 0.0390 - val_accuracy: 0.8127\n",
      "Epoch 138/200\n",
      "60000/60000 [==============================] - 1s 17us/sample - loss: 0.0398 - accuracy: 0.8012 - val_loss: 0.0388 - val_accuracy: 0.8146\n",
      "Epoch 139/200\n",
      "60000/60000 [==============================] - 1s 18us/sample - loss: 0.0395 - accuracy: 0.8029 - val_loss: 0.0385 - val_accuracy: 0.8165\n",
      "Epoch 140/200\n",
      "60000/60000 [==============================] - 1s 18us/sample - loss: 0.0393 - accuracy: 0.8044 - val_loss: 0.0383 - val_accuracy: 0.8178\n",
      "Epoch 141/200\n",
      "60000/60000 [==============================] - 1s 18us/sample - loss: 0.0391 - accuracy: 0.8065 - val_loss: 0.0381 - val_accuracy: 0.8190\n",
      "Epoch 142/200\n",
      "60000/60000 [==============================] - 1s 19us/sample - loss: 0.0388 - accuracy: 0.8081 - val_loss: 0.0378 - val_accuracy: 0.8205\n",
      "Epoch 143/200\n",
      "60000/60000 [==============================] - 1s 17us/sample - loss: 0.0386 - accuracy: 0.8098 - val_loss: 0.0376 - val_accuracy: 0.8218\n",
      "Epoch 144/200\n",
      "60000/60000 [==============================] - 1s 18us/sample - loss: 0.0384 - accuracy: 0.8114 - val_loss: 0.0374 - val_accuracy: 0.8229\n",
      "Epoch 145/200\n",
      "60000/60000 [==============================] - 1s 14us/sample - loss: 0.0382 - accuracy: 0.8125 - val_loss: 0.0371 - val_accuracy: 0.8236\n",
      "Epoch 146/200\n",
      "60000/60000 [==============================] - 1s 13us/sample - loss: 0.0379 - accuracy: 0.8139 - val_loss: 0.0369 - val_accuracy: 0.8250\n",
      "Epoch 147/200\n",
      "60000/60000 [==============================] - 1s 17us/sample - loss: 0.0377 - accuracy: 0.8154 - val_loss: 0.0367 - val_accuracy: 0.8260\n",
      "Epoch 148/200\n",
      "60000/60000 [==============================] - 1s 14us/sample - loss: 0.0375 - accuracy: 0.8170 - val_loss: 0.0365 - val_accuracy: 0.8272\n",
      "Epoch 149/200\n",
      "60000/60000 [==============================] - 1s 11us/sample - loss: 0.0373 - accuracy: 0.8181 - val_loss: 0.0363 - val_accuracy: 0.8287\n",
      "Epoch 150/200\n",
      "60000/60000 [==============================] - 1s 11us/sample - loss: 0.0371 - accuracy: 0.8193 - val_loss: 0.0361 - val_accuracy: 0.8298\n",
      "Epoch 151/200\n",
      "60000/60000 [==============================] - 1s 16us/sample - loss: 0.0369 - accuracy: 0.8203 - val_loss: 0.0358 - val_accuracy: 0.8305\n",
      "Epoch 152/200\n",
      "60000/60000 [==============================] - 1s 16us/sample - loss: 0.0367 - accuracy: 0.8216 - val_loss: 0.0356 - val_accuracy: 0.8320\n",
      "Epoch 153/200\n",
      "60000/60000 [==============================] - 1s 17us/sample - loss: 0.0365 - accuracy: 0.8226 - val_loss: 0.0354 - val_accuracy: 0.8337\n",
      "Epoch 154/200\n",
      "60000/60000 [==============================] - 1s 14us/sample - loss: 0.0363 - accuracy: 0.8233 - val_loss: 0.0352 - val_accuracy: 0.8346\n",
      "Epoch 155/200\n",
      "60000/60000 [==============================] - 1s 19us/sample - loss: 0.0361 - accuracy: 0.8243 - val_loss: 0.0350 - val_accuracy: 0.8351\n",
      "Epoch 156/200\n",
      "60000/60000 [==============================] - 1s 16us/sample - loss: 0.0359 - accuracy: 0.8253 - val_loss: 0.0348 - val_accuracy: 0.8358\n",
      "Epoch 157/200\n",
      "60000/60000 [==============================] - 1s 11us/sample - loss: 0.0357 - accuracy: 0.8263 - val_loss: 0.0346 - val_accuracy: 0.8368\n",
      "Epoch 158/200\n",
      "60000/60000 [==============================] - 1s 14us/sample - loss: 0.0355 - accuracy: 0.8274 - val_loss: 0.0344 - val_accuracy: 0.8384\n",
      "Epoch 159/200\n",
      "60000/60000 [==============================] - 1s 12us/sample - loss: 0.0353 - accuracy: 0.8282 - val_loss: 0.0342 - val_accuracy: 0.8393\n",
      "Epoch 160/200\n",
      "60000/60000 [==============================] - 1s 12us/sample - loss: 0.0351 - accuracy: 0.8293 - val_loss: 0.0341 - val_accuracy: 0.8400\n",
      "Epoch 161/200\n",
      "60000/60000 [==============================] - 1s 13us/sample - loss: 0.0349 - accuracy: 0.8302 - val_loss: 0.0339 - val_accuracy: 0.8412\n",
      "Epoch 162/200\n",
      "60000/60000 [==============================] - 1s 18us/sample - loss: 0.0347 - accuracy: 0.8311 - val_loss: 0.0337 - val_accuracy: 0.8418\n",
      "Epoch 163/200\n"
     ]
    },
    {
     "name": "stdout",
     "output_type": "stream",
     "text": [
      "60000/60000 [==============================] - 1s 19us/sample - loss: 0.0346 - accuracy: 0.8321 - val_loss: 0.0335 - val_accuracy: 0.8428\n",
      "Epoch 164/200\n",
      "60000/60000 [==============================] - 1s 15us/sample - loss: 0.0344 - accuracy: 0.8331 - val_loss: 0.0333 - val_accuracy: 0.8437\n",
      "Epoch 165/200\n",
      "60000/60000 [==============================] - 1s 17us/sample - loss: 0.0342 - accuracy: 0.8339 - val_loss: 0.0331 - val_accuracy: 0.8444\n",
      "Epoch 166/200\n",
      "60000/60000 [==============================] - 1s 18us/sample - loss: 0.0340 - accuracy: 0.8351 - val_loss: 0.0330 - val_accuracy: 0.8450\n",
      "Epoch 167/200\n",
      "60000/60000 [==============================] - 1s 18us/sample - loss: 0.0339 - accuracy: 0.8361 - val_loss: 0.0328 - val_accuracy: 0.8459\n",
      "Epoch 168/200\n",
      "60000/60000 [==============================] - 1s 16us/sample - loss: 0.0337 - accuracy: 0.8367 - val_loss: 0.0326 - val_accuracy: 0.8461\n",
      "Epoch 169/200\n",
      "60000/60000 [==============================] - 1s 16us/sample - loss: 0.0335 - accuracy: 0.8375 - val_loss: 0.0324 - val_accuracy: 0.8466\n",
      "Epoch 170/200\n",
      "60000/60000 [==============================] - 1s 18us/sample - loss: 0.0334 - accuracy: 0.8380 - val_loss: 0.0323 - val_accuracy: 0.8471\n",
      "Epoch 171/200\n",
      "60000/60000 [==============================] - 1s 15us/sample - loss: 0.0332 - accuracy: 0.8384 - val_loss: 0.0321 - val_accuracy: 0.8478\n",
      "Epoch 172/200\n",
      "60000/60000 [==============================] - 1s 15us/sample - loss: 0.0330 - accuracy: 0.8391 - val_loss: 0.0320 - val_accuracy: 0.8488\n",
      "Epoch 173/200\n",
      "60000/60000 [==============================] - 1s 18us/sample - loss: 0.0329 - accuracy: 0.8397 - val_loss: 0.0318 - val_accuracy: 0.8493\n",
      "Epoch 174/200\n",
      "60000/60000 [==============================] - 1s 13us/sample - loss: 0.0327 - accuracy: 0.8404 - val_loss: 0.0316 - val_accuracy: 0.8498\n",
      "Epoch 175/200\n",
      "60000/60000 [==============================] - 1s 19us/sample - loss: 0.0326 - accuracy: 0.8410 - val_loss: 0.0315 - val_accuracy: 0.8498\n",
      "Epoch 176/200\n",
      "60000/60000 [==============================] - 1s 18us/sample - loss: 0.0324 - accuracy: 0.8414 - val_loss: 0.0313 - val_accuracy: 0.8511\n",
      "Epoch 177/200\n",
      "60000/60000 [==============================] - 1s 16us/sample - loss: 0.0322 - accuracy: 0.8423 - val_loss: 0.0312 - val_accuracy: 0.8518\n",
      "Epoch 178/200\n",
      "60000/60000 [==============================] - 1s 19us/sample - loss: 0.0321 - accuracy: 0.8427 - val_loss: 0.0310 - val_accuracy: 0.8519\n",
      "Epoch 179/200\n",
      "60000/60000 [==============================] - 1s 15us/sample - loss: 0.0319 - accuracy: 0.8432 - val_loss: 0.0309 - val_accuracy: 0.8523\n",
      "Epoch 180/200\n",
      "60000/60000 [==============================] - 1s 10us/sample - loss: 0.0318 - accuracy: 0.8439 - val_loss: 0.0307 - val_accuracy: 0.8528\n",
      "Epoch 181/200\n",
      "60000/60000 [==============================] - 1s 10us/sample - loss: 0.0317 - accuracy: 0.8446 - val_loss: 0.0306 - val_accuracy: 0.8530\n",
      "Epoch 182/200\n",
      "60000/60000 [==============================] - 1s 10us/sample - loss: 0.0315 - accuracy: 0.8449 - val_loss: 0.0304 - val_accuracy: 0.8532\n",
      "Epoch 183/200\n",
      "60000/60000 [==============================] - 1s 10us/sample - loss: 0.0314 - accuracy: 0.8454 - val_loss: 0.0303 - val_accuracy: 0.8539\n",
      "Epoch 184/200\n",
      "60000/60000 [==============================] - 1s 15us/sample - loss: 0.0312 - accuracy: 0.8461 - val_loss: 0.0301 - val_accuracy: 0.8545\n",
      "Epoch 185/200\n",
      "60000/60000 [==============================] - 1s 17us/sample - loss: 0.0311 - accuracy: 0.8466 - val_loss: 0.0300 - val_accuracy: 0.8547\n",
      "Epoch 186/200\n",
      "60000/60000 [==============================] - 1s 10us/sample - loss: 0.0309 - accuracy: 0.8474 - val_loss: 0.0299 - val_accuracy: 0.8552\n",
      "Epoch 187/200\n",
      "60000/60000 [==============================] - 1s 9us/sample - loss: 0.0308 - accuracy: 0.8480 - val_loss: 0.0297 - val_accuracy: 0.8564\n",
      "Epoch 188/200\n",
      "60000/60000 [==============================] - 1s 10us/sample - loss: 0.0307 - accuracy: 0.8484 - val_loss: 0.0296 - val_accuracy: 0.8570\n",
      "Epoch 189/200\n",
      "60000/60000 [==============================] - 1s 10us/sample - loss: 0.0305 - accuracy: 0.8489 - val_loss: 0.0294 - val_accuracy: 0.8576\n",
      "Epoch 190/200\n",
      "60000/60000 [==============================] - 1s 10us/sample - loss: 0.0304 - accuracy: 0.8496 - val_loss: 0.0293 - val_accuracy: 0.8586\n",
      "Epoch 191/200\n",
      "60000/60000 [==============================] - 1s 10us/sample - loss: 0.0303 - accuracy: 0.8500 - val_loss: 0.0292 - val_accuracy: 0.8587\n",
      "Epoch 192/200\n",
      "60000/60000 [==============================] - 1s 10us/sample - loss: 0.0302 - accuracy: 0.8504 - val_loss: 0.0291 - val_accuracy: 0.8590\n",
      "Epoch 193/200\n",
      "60000/60000 [==============================] - 1s 10us/sample - loss: 0.0300 - accuracy: 0.8511 - val_loss: 0.0289 - val_accuracy: 0.8593\n",
      "Epoch 194/200\n",
      "60000/60000 [==============================] - 1s 9us/sample - loss: 0.0299 - accuracy: 0.8514 - val_loss: 0.0288 - val_accuracy: 0.8597\n",
      "Epoch 195/200\n",
      "60000/60000 [==============================] - 1s 14us/sample - loss: 0.0298 - accuracy: 0.8519 - val_loss: 0.0287 - val_accuracy: 0.8601\n",
      "Epoch 196/200\n",
      "60000/60000 [==============================] - 1s 18us/sample - loss: 0.0297 - accuracy: 0.8524 - val_loss: 0.0286 - val_accuracy: 0.8603\n",
      "Epoch 197/200\n",
      "60000/60000 [==============================] - 1s 17us/sample - loss: 0.0295 - accuracy: 0.8528 - val_loss: 0.0284 - val_accuracy: 0.8608\n",
      "Epoch 198/200\n",
      "60000/60000 [==============================] - 1s 14us/sample - loss: 0.0294 - accuracy: 0.8531 - val_loss: 0.0283 - val_accuracy: 0.8611\n",
      "Epoch 199/200\n",
      "60000/60000 [==============================] - 1s 16us/sample - loss: 0.0293 - accuracy: 0.8536 - val_loss: 0.0282 - val_accuracy: 0.8612\n",
      "Epoch 200/200\n",
      "60000/60000 [==============================] - 1s 15us/sample - loss: 0.0292 - accuracy: 0.8541 - val_loss: 0.0281 - val_accuracy: 0.8615\n"
     ]
    },
    {
     "data": {
      "text/plain": [
       "<tensorflow.python.keras.callbacks.History at 0x7ff3a938f4a8>"
      ]
     },
     "execution_count": 23,
     "metadata": {},
     "output_type": "execute_result"
    }
   ],
   "source": [
    "model.fit(X_train, y_train, batch_size=128, epochs=200, verbose=1, validation_data=(X_valid, y_valid))"
   ]
  },
  {
   "cell_type": "markdown",
   "metadata": {},
   "source": [
    "#### Evaluating model performance"
   ]
  },
  {
   "cell_type": "code",
   "execution_count": 33,
   "metadata": {},
   "outputs": [
    {
     "name": "stdout",
     "output_type": "stream",
     "text": [
      "10000/10000 [==============================] - 0s 26us/sample - loss: 0.0281 - accuracy: 0.8615\n"
     ]
    },
    {
     "data": {
      "text/plain": [
       "[0.0280743247166276, 0.8615]"
      ]
     },
     "execution_count": 33,
     "metadata": {},
     "output_type": "execute_result"
    }
   ],
   "source": [
    "model.evaluate(X_valid, y_valid)"
   ]
  },
  {
   "cell_type": "markdown",
   "metadata": {},
   "source": [
    "#### Performing inference"
   ]
  },
  {
   "cell_type": "code",
   "execution_count": 30,
   "metadata": {},
   "outputs": [],
   "source": [
    "valid_0 = X_valid[0].reshape(1, 784)"
   ]
  },
  {
   "cell_type": "code",
   "execution_count": 31,
   "metadata": {},
   "outputs": [
    {
     "data": {
      "text/plain": [
       "array([[0.00426445, 0.00120947, 0.00195153, 0.00495256, 0.0119504 ,\n",
       "        0.00838872, 0.0009802 , 0.9227693 , 0.00250606, 0.04102722]],\n",
       "      dtype=float32)"
      ]
     },
     "execution_count": 31,
     "metadata": {},
     "output_type": "execute_result"
    }
   ],
   "source": [
    "model.predict(valid_0)"
   ]
  },
  {
   "cell_type": "code",
   "execution_count": 32,
   "metadata": {},
   "outputs": [
    {
     "data": {
      "text/plain": [
       "array([7])"
      ]
     },
     "execution_count": 32,
     "metadata": {},
     "output_type": "execute_result"
    }
   ],
   "source": [
    "model.predict_classes(valid_0)"
   ]
  },
  {
   "cell_type": "code",
   "execution_count": null,
   "metadata": {},
   "outputs": [],
   "source": []
  }
 ],
 "metadata": {
  "kernelspec": {
   "display_name": "Python 3",
   "language": "python",
   "name": "python3"
  },
  "language_info": {
   "codemirror_mode": {
    "name": "ipython",
    "version": 3
   },
   "file_extension": ".py",
   "mimetype": "text/x-python",
   "name": "python",
   "nbconvert_exporter": "python",
   "pygments_lexer": "ipython3",
   "version": "3.7.3"
  }
 },
 "nbformat": 4,
 "nbformat_minor": 2
}
