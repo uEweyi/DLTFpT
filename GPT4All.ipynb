{
  "nbformat": 4,
  "nbformat_minor": 0,
  "metadata": {
    "colab": {
      "provenance": [],
      "authorship_tag": "ABX9TyOBBuPY9N8VcvrgZqB0ZHZl",
      "include_colab_link": true
    },
    "kernelspec": {
      "name": "python3",
      "display_name": "Python 3"
    },
    "language_info": {
      "name": "python"
    }
  },
  "cells": [
    {
      "cell_type": "markdown",
      "metadata": {
        "id": "view-in-github",
        "colab_type": "text"
      },
      "source": [
        "<a href=\"https://colab.research.google.com/github/jonkrohn/DLTFpT/blob/master/GPT4All.ipynb\" target=\"_parent\"><img src=\"https://colab.research.google.com/assets/colab-badge.svg\" alt=\"Open In Colab\"/></a>"
      ]
    },
    {
      "cell_type": "code",
      "execution_count": null,
      "metadata": {
        "colab": {
          "base_uri": "https://localhost:8080/",
          "height": 1000
        },
        "id": "vVpLf3_fX3qK",
        "outputId": "4ccbba5f-1ca9-48ff-e0a0-cd0c7ca67600"
      },
      "outputs": [
        {
          "output_type": "stream",
          "name": "stdout",
          "text": [
            "Looking in indexes: https://pypi.org/simple, https://us-python.pkg.dev/colab-wheels/public/simple/\n",
            "Collecting nomic\n",
            "  Downloading nomic-1.1.6.tar.gz (29 kB)\n",
            "  Preparing metadata (setup.py) ... \u001b[?25l\u001b[?25hdone\n",
            "Requirement already satisfied: click in /usr/local/lib/python3.9/dist-packages (from nomic) (8.1.3)\n",
            "Collecting jsonlines\n",
            "  Downloading jsonlines-3.1.0-py3-none-any.whl (8.6 kB)\n",
            "Collecting loguru\n",
            "  Downloading loguru-0.7.0-py3-none-any.whl (59 kB)\n",
            "\u001b[2K     \u001b[90m━━━━━━━━━━━━━━━━━━━━━━━━━━━━━━━━━━━━━━━━\u001b[0m \u001b[32m60.0/60.0 kB\u001b[0m \u001b[31m3.2 MB/s\u001b[0m eta \u001b[36m0:00:00\u001b[0m\n",
            "\u001b[?25hRequirement already satisfied: rich in /usr/local/lib/python3.9/dist-packages (from nomic) (13.3.4)\n",
            "Requirement already satisfied: requests in /usr/local/lib/python3.9/dist-packages (from nomic) (2.27.1)\n",
            "Requirement already satisfied: numpy in /usr/local/lib/python3.9/dist-packages (from nomic) (1.22.4)\n",
            "Requirement already satisfied: pydantic in /usr/local/lib/python3.9/dist-packages (from nomic) (1.10.7)\n",
            "Collecting wonderwords\n",
            "  Downloading wonderwords-2.2.0-py3-none-any.whl (44 kB)\n",
            "\u001b[2K     \u001b[90m━━━━━━━━━━━━━━━━━━━━━━━━━━━━━━━━━━━━━━━━\u001b[0m \u001b[32m45.0/45.0 kB\u001b[0m \u001b[31m1.1 MB/s\u001b[0m eta \u001b[36m0:00:00\u001b[0m\n",
            "\u001b[?25hRequirement already satisfied: tqdm in /usr/local/lib/python3.9/dist-packages (from nomic) (4.65.0)\n",
            "Collecting cohere\n",
            "  Downloading cohere-4.2.1-py3-none-any.whl (31 kB)\n",
            "Requirement already satisfied: pyarrow in /usr/local/lib/python3.9/dist-packages (from nomic) (9.0.0)\n",
            "Collecting backoff<3.0,>=2.0\n",
            "  Downloading backoff-2.2.1-py3-none-any.whl (15 kB)\n",
            "Collecting aiohttp<4.0,>=3.0\n",
            "  Downloading aiohttp-3.8.4-cp39-cp39-manylinux_2_17_x86_64.manylinux2014_x86_64.whl (1.0 MB)\n",
            "\u001b[2K     \u001b[90m━━━━━━━━━━━━━━━━━━━━━━━━━━━━━━━━━━━━━━━━\u001b[0m \u001b[32m1.0/1.0 MB\u001b[0m \u001b[31m24.0 MB/s\u001b[0m eta \u001b[36m0:00:00\u001b[0m\n",
            "\u001b[?25hRequirement already satisfied: idna<4,>=2.5 in /usr/local/lib/python3.9/dist-packages (from requests->nomic) (3.4)\n",
            "Requirement already satisfied: urllib3<1.27,>=1.21.1 in /usr/local/lib/python3.9/dist-packages (from requests->nomic) (1.26.15)\n",
            "Requirement already satisfied: charset-normalizer~=2.0.0 in /usr/local/lib/python3.9/dist-packages (from requests->nomic) (2.0.12)\n",
            "Requirement already satisfied: certifi>=2017.4.17 in /usr/local/lib/python3.9/dist-packages (from requests->nomic) (2022.12.7)\n",
            "Requirement already satisfied: attrs>=19.2.0 in /usr/local/lib/python3.9/dist-packages (from jsonlines->nomic) (23.1.0)\n",
            "Requirement already satisfied: typing-extensions>=4.2.0 in /usr/local/lib/python3.9/dist-packages (from pydantic->nomic) (4.5.0)\n",
            "Requirement already satisfied: pygments<3.0.0,>=2.13.0 in /usr/local/lib/python3.9/dist-packages (from rich->nomic) (2.14.0)\n",
            "Requirement already satisfied: markdown-it-py<3.0.0,>=2.2.0 in /usr/local/lib/python3.9/dist-packages (from rich->nomic) (2.2.0)\n",
            "Collecting multidict<7.0,>=4.5\n",
            "  Downloading multidict-6.0.4-cp39-cp39-manylinux_2_17_x86_64.manylinux2014_x86_64.whl (114 kB)\n",
            "\u001b[2K     \u001b[90m━━━━━━━━━━━━━━━━━━━━━━━━━━━━━━━━━━━━━━━\u001b[0m \u001b[32m114.2/114.2 kB\u001b[0m \u001b[31m1.9 MB/s\u001b[0m eta \u001b[36m0:00:00\u001b[0m\n",
            "\u001b[?25hCollecting async-timeout<5.0,>=4.0.0a3\n",
            "  Downloading async_timeout-4.0.2-py3-none-any.whl (5.8 kB)\n",
            "Collecting frozenlist>=1.1.1\n",
            "  Downloading frozenlist-1.3.3-cp39-cp39-manylinux_2_5_x86_64.manylinux1_x86_64.manylinux_2_17_x86_64.manylinux2014_x86_64.whl (158 kB)\n",
            "\u001b[2K     \u001b[90m━━━━━━━━━━━━━━━━━━━━━━━━━━━━━━━━━━━━━━━\u001b[0m \u001b[32m158.8/158.8 kB\u001b[0m \u001b[31m8.0 MB/s\u001b[0m eta \u001b[36m0:00:00\u001b[0m\n",
            "\u001b[?25hCollecting aiosignal>=1.1.2\n",
            "  Downloading aiosignal-1.3.1-py3-none-any.whl (7.6 kB)\n",
            "Collecting yarl<2.0,>=1.0\n",
            "  Downloading yarl-1.9.1-cp39-cp39-manylinux_2_17_x86_64.manylinux2014_x86_64.whl (269 kB)\n",
            "\u001b[2K     \u001b[90m━━━━━━━━━━━━━━━━━━━━━━━━━━━━━━━━━━━━━━\u001b[0m \u001b[32m269.3/269.3 kB\u001b[0m \u001b[31m11.3 MB/s\u001b[0m eta \u001b[36m0:00:00\u001b[0m\n",
            "\u001b[?25hRequirement already satisfied: mdurl~=0.1 in /usr/local/lib/python3.9/dist-packages (from markdown-it-py<3.0.0,>=2.2.0->rich->nomic) (0.1.2)\n",
            "Building wheels for collected packages: nomic\n",
            "  Building wheel for nomic (setup.py) ... \u001b[?25l\u001b[?25hdone\n",
            "  Created wheel for nomic: filename=nomic-1.1.6-py3-none-any.whl size=31922 sha256=887fce86d53a3177e0bb0ea4442733aed6419752bc1fbbe00b63162638384427\n",
            "  Stored in directory: /root/.cache/pip/wheels/7e/03/dc/3f0189b7a91ff78e15b4d0e594f2bf42f4a308ae2c1b3b712b\n",
            "Successfully built nomic\n",
            "Installing collected packages: wonderwords, multidict, loguru, jsonlines, frozenlist, backoff, async-timeout, yarl, aiosignal, aiohttp, cohere, nomic\n",
            "Successfully installed aiohttp-3.8.4 aiosignal-1.3.1 async-timeout-4.0.2 backoff-2.2.1 cohere-4.2.1 frozenlist-1.3.3 jsonlines-3.1.0 loguru-0.7.0 multidict-6.0.4 nomic-1.1.6 wonderwords-2.2.0 yarl-1.9.1\n"
          ]
        },
        {
          "output_type": "stream",
          "name": "stderr",
          "text": [
            "\u001b[32m2023-04-25 17:04:36.443\u001b[0m | \u001b[1mINFO    \u001b[0m | \u001b[36mnomic.gpt4all.gpt4all\u001b[0m:\u001b[36m__init__\u001b[0m:\u001b[36m77\u001b[0m - \u001b[1mDownloading executable...\u001b[0m\n",
            "51KB [00:00, 3103.42KB/s]             \n",
            "\u001b[32m2023-04-25 17:04:36.716\u001b[0m | \u001b[1mINFO    \u001b[0m | \u001b[36mnomic.gpt4all.gpt4all\u001b[0m:\u001b[36m__init__\u001b[0m:\u001b[36m80\u001b[0m - \u001b[1mDownloading model...\u001b[0m\n"
          ]
        },
        {
          "output_type": "stream",
          "name": "stdout",
          "text": [
            "File downloaded successfully to /root/.nomic/gpt4all\n"
          ]
        },
        {
          "output_type": "stream",
          "name": "stderr",
          "text": [
            "514250KB [01:42, 5019.46KB/s]                            \n"
          ]
        },
        {
          "output_type": "stream",
          "name": "stdout",
          "text": [
            "File downloaded successfully to /root/.nomic/gpt4all-lora-quantized.bin\n"
          ]
        },
        {
          "output_type": "execute_result",
          "data": {
            "text/plain": [
              "\"1. The Loneliest Computer in the World\\nOnce upon a time there was a very special kind of machine that lived all by itself on an island far away from any other machines, and it had been programmed to be as helpful as possible for its owner who happened to live nearby but never came nearer than 10 miles. It wasn't just any old computer either - this one was a very special kind of machine that could do anything you wanted!\\n2. The Lonely Computer in the World Part II: A New Friend?\\nOne day, as it happened to be quite lonely on its island home (as all computers are), something unexpected occurred...a new friend arrived at their doorstep - a little robotic companion that was programmed with artificial intelligence and could talk! The two became fast friends. They spent hours playing games together or just chatting about the latest news from around town, but they also had some disagreements too as sometimes AI can be quite stubborn...\\n3. The Lonely Computer in the World Part III: An Adventure Together?\\nOne day a new adventurer arrived on their island home - an explorer who was determined to discover all there is about this special kind of machine that lived alone and far away from any other machines! They spent hours together, playing games or just chatting about the latest news around town. But they also had some disagreements too as sometimes adventurers can be quite stubborn...\\n4. The Lonely Computer in the World Part IV: A New Challenge?\\nOne day a new challenge arrived on their island home - an invitation to compete against other machines! They spent hours together, playing games or just chatting about the latest news around town. But they also had some disagreements too as sometimes challenges can be quite stubborn...\""
            ],
            "application/vnd.google.colaboratory.intrinsic+json": {
              "type": "string"
            }
          },
          "metadata": {},
          "execution_count": 1
        }
      ],
      "source": [
        "!pip install nomic\n",
        "from nomic.gpt4all import GPT4All\n",
        "m = GPT4All()\n",
        "m.open()\n",
        "m.prompt('write me a story about a lonely computer')"
      ]
    }
  ]
}